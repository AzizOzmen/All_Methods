{
  "nbformat": 4,
  "nbformat_minor": 0,
  "metadata": {
    "colab": {
      "name": "TupleMethods.ipynb",
      "provenance": [],
      "authorship_tag": "ABX9TyP8DLl8zF8I4XgX1x+YNoIQ",
      "include_colab_link": true
    },
    "kernelspec": {
      "name": "python3",
      "display_name": "Python 3"
    },
    "language_info": {
      "name": "python"
    }
  },
  "cells": [
    {
      "cell_type": "markdown",
      "metadata": {
        "id": "view-in-github",
        "colab_type": "text"
      },
      "source": [
        "<a href=\"https://colab.research.google.com/github/AzizOzmen/All_Methods/blob/main/TupleMethods.ipynb\" target=\"_parent\"><img src=\"https://colab.research.google.com/assets/colab-badge.svg\" alt=\"Open In Colab\"/></a>"
      ]
    },
    {
      "cell_type": "markdown",
      "metadata": {
        "id": "JR50SDRvUKCb"
      },
      "source": [
        "Tuples are used to store multiple items in a single variable.\n",
        "\n",
        "Tuple is one of 4 built-in data types in Python used to store **collection data types**, the other 3 are List, Set, and Dictionary, all with different qualities and usage.\n",
        "\n",
        "A tuple is a collection which is **ordered,** **immutable** and **unchangeable**.\n",
        "\n",
        "Tuples are written with round brackets.\n",
        "\n",
        "More info about basic Tuple operations [link text](https://www.tutorialspoint.com/python3/python_tuples.htm) [link text](https://docs.python.org/3/tutorial/datastructures.html#tuples-and-sequences)"
      ]
    },
    {
      "cell_type": "markdown",
      "metadata": {
        "id": "dgogplHnUz0T"
      },
      "source": [
        "In Python, tuples are immutables. Meaning, you cannot change items of a tuple once it is assigned. There are only two tuple methods **count()** and **index()** that a tuple object can call. [link text](https://www.w3schools.com/python/python_ref_tuple.asp) [link text](https://www.programiz.com/python-programming/methods/tuple)"
      ]
    },
    {
      "cell_type": "markdown",
      "metadata": {
        "id": "Eo7y9zaHU5KY"
      },
      "source": [
        "# **count()**"
      ]
    },
    {
      "cell_type": "markdown",
      "metadata": {
        "id": "S_jpbpmyVR0D"
      },
      "source": [
        "**Definition and Usage**\n",
        "\n",
        "The count() method returns the number of times a specified value appears in the tuple.\n",
        "\n",
        "**Syntax:** tuple.count(value)\n",
        "\n",
        "**Parameter Values**\n",
        "\n",
        "**value\tRequired**. The item to search for"
      ]
    },
    {
      "cell_type": "code",
      "metadata": {
        "id": "l8AJtaisZUM1"
      },
      "source": [
        "# Return the number of times the value 5 appears in the tuple:\n",
        "\n",
        "thistuple = (1, 3, 7, 8, 7, 5, 4, 6, 8, 5)\n",
        "\n",
        "x = thistuple.count(5)\n",
        "\n",
        "print(x)"
      ],
      "execution_count": null,
      "outputs": []
    },
    {
      "cell_type": "code",
      "metadata": {
        "colab": {
          "base_uri": "https://localhost:8080/"
        },
        "id": "sSLwEeUwVM9T",
        "outputId": "abede8ac-1f18-40c6-9039-032483a5114c"
      },
      "source": [
        "# vowels tuple\n",
        "vowels = ('a', 'e', 'i', 'o', 'i', 'u')\n",
        "\n",
        "# count element 'i'\n",
        "count = vowels.count('i')\n",
        "print(vowels.count('i'))  # can be used inside print() built-in function\n",
        "                          # since it does NOT modify original variable\n",
        "\n",
        "# print count\n",
        "print('The count of i is:', count)\n",
        "\n",
        "# count element 'p'\n",
        "count = vowels.count('p')\n",
        "\n",
        "# print count\n",
        "print('The count of p is:', count)"
      ],
      "execution_count": null,
      "outputs": [
        {
          "output_type": "stream",
          "text": [
            "2\n",
            "The count of i is: 2\n",
            "The count of p is: 0\n"
          ],
          "name": "stdout"
        }
      ]
    },
    {
      "cell_type": "markdown",
      "metadata": {
        "id": "mo7dJj4cWJdf"
      },
      "source": [
        "**Count List and Tuple Elements Inside Tuple**"
      ]
    },
    {
      "cell_type": "code",
      "metadata": {
        "colab": {
          "base_uri": "https://localhost:8080/"
        },
        "id": "XhdiYeAtWHXd",
        "outputId": "0b99aed6-b1eb-4d32-d5a2-6ad18f3de78c"
      },
      "source": [
        "# random tuple\n",
        "random = ('a', ('a', 'b'), ('a', 'b'), [3, 4])\n",
        "\n",
        "# count element ('a', 'b')\n",
        "count = random.count(('a', 'b'))\n",
        "\n",
        "# print count\n",
        "print(\"The count of ('a', 'b') is:\", count)\n",
        "\n",
        "# count element [3, 4]\n",
        "count = random.count([3, 4])\n",
        "\n",
        "# print count\n",
        "print(\"The count of [3, 4] is:\", count)"
      ],
      "execution_count": null,
      "outputs": [
        {
          "output_type": "stream",
          "text": [
            "The count of ('a', 'b') is: 2\n",
            "The count of [3, 4] is: 1\n"
          ],
          "name": "stdout"
        }
      ]
    },
    {
      "cell_type": "markdown",
      "metadata": {
        "id": "gyr5xvArWvfZ"
      },
      "source": [
        "# **index()**"
      ]
    },
    {
      "cell_type": "markdown",
      "metadata": {
        "id": "vlvkkExuWitx"
      },
      "source": [
        "**Definition and Usage**\n",
        "\n",
        "The index() method finds the first occurrence of the specified value.\n",
        "\n",
        "The index() method raises an exception if the value is not found.\n",
        "\n",
        "**Syntax:** tuple.index(value)\n",
        "\n",
        "**Parameter Values**\n",
        "\n",
        "**value\tRequired**. The item to search for"
      ]
    },
    {
      "cell_type": "code",
      "metadata": {
        "colab": {
          "base_uri": "https://localhost:8080/"
        },
        "id": "yd7z1D-uWzkL",
        "outputId": "698410f2-8e2e-419f-8691-ccdda6783cd9"
      },
      "source": [
        "# Search for the first occurrence of the value 8, and return its position:\n",
        "\n",
        "thistuple = (1, 3, 7, 8, 7, 5, 4, 6, 8, 5)\n",
        "\n",
        "x = thistuple.index(8)\n",
        "\n",
        "print(x)\n",
        "print(thistuple.index(8))"
      ],
      "execution_count": null,
      "outputs": [
        {
          "output_type": "stream",
          "text": [
            "3\n",
            "3\n"
          ],
          "name": "stdout"
        }
      ]
    },
    {
      "cell_type": "markdown",
      "metadata": {
        "id": "NjVBlzxLXoFF"
      },
      "source": [
        "The index() method returns the index of the given element in the tuple.\n",
        "\n",
        "If the element is not found, a ValueError exception is raised.\n",
        "\n",
        "**Note:** The index() method only returns the first occurrence of the matching element."
      ]
    },
    {
      "cell_type": "code",
      "metadata": {
        "colab": {
          "base_uri": "https://localhost:8080/"
        },
        "id": "BdunCfrjXzdz",
        "outputId": "6cf5606d-ef23-4878-c0eb-7a34b1bc7b57"
      },
      "source": [
        "# vowels tuple\n",
        "vowels = ('a', 'e', 'i', 'o', 'i', 'u')\n",
        "\n",
        "# index of 'e' in vowels\n",
        "index = vowels.index('e')\n",
        "print('The index of e:', index)\n",
        "\n",
        "# element 'i' is searched\n",
        "# index of the first 'i' is returned\n",
        "index = vowels.index('i')\n",
        "\n",
        "print('The index of i:', index)"
      ],
      "execution_count": null,
      "outputs": [
        {
          "output_type": "stream",
          "text": [
            "The index of e: 1\n",
            "The index of i: 2\n"
          ],
          "name": "stdout"
        }
      ]
    },
    {
      "cell_type": "markdown",
      "metadata": {
        "id": "bQ-YPQ4AYBjQ"
      },
      "source": [
        "**Index of the Element not Present in the Tuple**"
      ]
    },
    {
      "cell_type": "code",
      "metadata": {
        "id": "ONEUnStBX_ht"
      },
      "source": [
        "# vowels tuple\n",
        "vowels = ('a', 'e', 'i', 'o', 'u')\n",
        "\n",
        "# index of'p' is vowels\n",
        "index = vowels.index('p')\n",
        "print('The index of p:', index)  # ValueError: tuple.index(x): x not in tuple"
      ],
      "execution_count": null,
      "outputs": []
    },
    {
      "cell_type": "markdown",
      "metadata": {
        "id": "TcBl2i7YYOlP"
      },
      "source": [
        "**Working of index() With Start and End Parameters**"
      ]
    },
    {
      "cell_type": "code",
      "metadata": {
        "id": "ndEMV7msYM3U"
      },
      "source": [
        "# alphabets tuple\n",
        "alphabets = ('a', 'e', 'i', 'o', 'g', 'l', 'i', 'u')\n",
        "\n",
        "# index of 'i' in alphabets\n",
        "index = alphabets.index('e')   # 2\n",
        "print('The index of e:', index)\n",
        "\n",
        "# 'i' after the 4th index is searched\n",
        "index = alphabets.index('i', 4)   # 6\n",
        "print('The index of i:', index)\n",
        "\n",
        "# 'i' between 3rd and 5th index is searched\n",
        "index = alphabets.index('i', 3, 5)  # ValueError: tuple.index(x): x not in tuple\n",
        "print('The index of i:', index)"
      ],
      "execution_count": null,
      "outputs": []
    }
  ]
}