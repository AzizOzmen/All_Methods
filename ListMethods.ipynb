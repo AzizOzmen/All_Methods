{
  "nbformat": 4,
  "nbformat_minor": 0,
  "metadata": {
    "colab": {
      "name": "ListMethods.ipynb",
      "provenance": [],
      "authorship_tag": "ABX9TyO0QLxVXnzwRcLTrerYHAbh",
      "include_colab_link": true
    },
    "kernelspec": {
      "name": "python3",
      "display_name": "Python 3"
    },
    "language_info": {
      "name": "python"
    }
  },
  "cells": [
    {
      "cell_type": "markdown",
      "metadata": {
        "id": "view-in-github",
        "colab_type": "text"
      },
      "source": [
        "<a href=\"https://colab.research.google.com/github/AzizOzmen/All_Methods/blob/main/ListMethods.ipynb\" target=\"_parent\"><img src=\"https://colab.research.google.com/assets/colab-badge.svg\" alt=\"Open In Colab\"/></a>"
      ]
    },
    {
      "cell_type": "markdown",
      "metadata": {
        "id": "j-63SqnJKwRF"
      },
      "source": [
        "Python has a set of built-in methods that you can use on lists/arrays. [link text](https://www.programiz.com/python-programming/methods/list) [link text](https://www.w3schools.com/python/python_ref_list.asp)\n",
        "\n",
        "Method\tDescription\n",
        "\n",
        "**append()**\tAdds an element at the end of the list\n",
        "\n",
        "**clear()**\tRemoves all the elements from the list\n",
        "\n",
        "**copy()**\tReturns a copy of the list\n",
        "\n",
        "**count()**\tReturns the number of elements with the specified value\n",
        "\n",
        "**extend()**\tAdd the elements of a list (or any iterable), to the end of the current list\n",
        "\n",
        "**index()**\tReturns the index of the first element with the specified value\n",
        "\n",
        "**insert()**\tAdds an element at the specified position\n",
        "\n",
        "**pop()**\tRemoves the element at the specified position\n",
        "\n",
        "**remove()**\tRemoves the first item with the specified value\n",
        "\n",
        "**reverse()**\tReverses the order of the list\n",
        "\n",
        "**sort()**\tSorts the list"
      ]
    },
    {
      "cell_type": "markdown",
      "metadata": {
        "id": "TNbMSpW921O1"
      },
      "source": [
        "# **WATCH OUT:** if any method only updates the current list and you want to assign to a new variable or put it inside print() built-in function for printing, it doesn't return anything; just returns None "
      ]
    },
    {
      "cell_type": "markdown",
      "metadata": {
        "id": "_Z5ZbKowLVxu"
      },
      "source": [
        "# **append()**"
      ]
    },
    {
      "cell_type": "markdown",
      "metadata": {
        "id": "GOFjS9fDLDCU"
      },
      "source": [
        "**Definition and Usage**\n",
        "\n",
        "The append() method appends an element to the end of the list.\n",
        "\n",
        "**Syntax:** list.append(elmnt)\n",
        "\n",
        "**Parameter Values**\n",
        "\n",
        "**elmnt\tRequired**. An element of any type (string, number, object etc.)"
      ]
    },
    {
      "cell_type": "code",
      "metadata": {
        "colab": {
          "base_uri": "https://localhost:8080/"
        },
        "id": "rqSJOlzpKf6X",
        "outputId": "aa5a7fad-2dc6-4a1e-df68-73ce328236ab"
      },
      "source": [
        "fruits = ['apple', 'banana', 'cherry']\n",
        "fruits.append(\"orange\")  # print just original variable WITHOUT either making any new assignment\n",
        "                         # or puting the method inside the print() built-in function  \n",
        "                         # since append() method updates (modify) the current list\n",
        "                         # some methods like append() do NOT need any assignment \n",
        "                         # if just modifiying original variable\n",
        "                         # otherwise it will print NONE if you make a new assignment\n",
        "                         # or put the method inside the print() built-in function \n",
        "print(fruits)\n",
        "\n",
        "x = fruits.append(\"orange\")\n",
        "print(x)  # returns None\n",
        "print(fruits.append(\"orange\"))  # returns None"
      ],
      "execution_count": null,
      "outputs": [
        {
          "output_type": "stream",
          "text": [
            "['apple', 'banana', 'cherry', 'orange']\n",
            "None\n",
            "None\n"
          ],
          "name": "stdout"
        }
      ]
    },
    {
      "cell_type": "code",
      "metadata": {
        "colab": {
          "base_uri": "https://localhost:8080/"
        },
        "id": "Ffp8ZsYvNixp",
        "outputId": "93a18666-7b0c-40c9-df74-c156c6bd077a"
      },
      "source": [
        "a = [\"apple\", \"banana\", \"cherry\"]\n",
        "b = [\"Ford\", \"BMW\", \"Volvo\"]\n",
        "a.append(b)\n",
        "\n",
        "print(a)"
      ],
      "execution_count": null,
      "outputs": [
        {
          "output_type": "stream",
          "text": [
            "['apple', 'banana', 'cherry', ['Ford', 'BMW', 'Volvo']]\n"
          ],
          "name": "stdout"
        }
      ]
    },
    {
      "cell_type": "code",
      "metadata": {
        "colab": {
          "base_uri": "https://localhost:8080/"
        },
        "id": "9JnSpTvIO0RL",
        "outputId": "25dfc02b-9da0-4590-a5f4-4943c49e6294"
      },
      "source": [
        "# animals list\n",
        "animals = ['cat', 'dog', 'rabbit']\n",
        "\n",
        "# 'guinea pig' is appended to the animals list\n",
        "animals.append('guinea pig')\n",
        "\n",
        "# Updated animals list\n",
        "print('Updated animals list: ', animals)"
      ],
      "execution_count": null,
      "outputs": [
        {
          "output_type": "stream",
          "text": [
            "Updated animals list:  ['cat', 'dog', 'rabbit', 'guinea pig']\n"
          ],
          "name": "stdout"
        }
      ]
    },
    {
      "cell_type": "code",
      "metadata": {
        "colab": {
          "base_uri": "https://localhost:8080/"
        },
        "id": "GSwgqvnPPPW1",
        "outputId": "a4041cc4-56b9-45a2-c263-4b42fc398d39"
      },
      "source": [
        "# animals list\n",
        "animals = ['cat', 'dog', 'rabbit']\n",
        "\n",
        "# list of wild animals\n",
        "wild_animals = ['tiger', 'fox']\n",
        "\n",
        "# appending wild_animals list to the animals list\n",
        "animals.append(wild_animals)\n",
        "\n",
        "print('Updated animals list: ', animals)"
      ],
      "execution_count": null,
      "outputs": [
        {
          "output_type": "stream",
          "text": [
            "Updated animals list:  ['cat', 'dog', 'rabbit', ['tiger', 'fox']]\n"
          ],
          "name": "stdout"
        }
      ]
    },
    {
      "cell_type": "markdown",
      "metadata": {
        "id": "wNnPyFb7YrPg"
      },
      "source": [
        "It is important to notice that, a single item (wild_animals list) is added to the animals list in the above program.\n",
        "\n",
        "If you need to add items of a list to another list (rather than the list itself), use the **extend()** method."
      ]
    },
    {
      "cell_type": "markdown",
      "metadata": {
        "id": "vcv91jNVZBZ8"
      },
      "source": [
        "# **clear()**"
      ]
    },
    {
      "cell_type": "markdown",
      "metadata": {
        "id": "EInKsU3jYsVr"
      },
      "source": [
        "**Definition and Usage**\n",
        "\n",
        "The clear() method removes all the elements from a list.\n",
        "\n",
        "**Syntax**: list.clear()\n",
        "\n",
        "**Parameter Values**\n",
        "\n",
        "No parameters"
      ]
    },
    {
      "cell_type": "code",
      "metadata": {
        "colab": {
          "base_uri": "https://localhost:8080/"
        },
        "id": "Uxr0Ao4VZEm3",
        "outputId": "52c32f51-d7ef-4fbb-b506-af203a4f6f8b"
      },
      "source": [
        "# Remove all elements from the fruits list:\n",
        "\n",
        "fruits = ['apple', 'banana', 'cherry', 'orange']\n",
        "fruits.clear()\n",
        "print(fruits)"
      ],
      "execution_count": null,
      "outputs": [
        {
          "output_type": "stream",
          "text": [
            "[]\n"
          ],
          "name": "stdout"
        }
      ]
    },
    {
      "cell_type": "markdown",
      "metadata": {
        "id": "xX8A4sOZhqlg"
      },
      "source": [
        "The clear() method only empties the given list. It doesn't return any value."
      ]
    },
    {
      "cell_type": "markdown",
      "metadata": {
        "id": "-qJ6_JbKhwmn"
      },
      "source": [
        "Note: If you are using Python 2 or Python 3.2 and below, you cannot use the clear() method. You can use the del operator instead."
      ]
    },
    {
      "cell_type": "code",
      "metadata": {
        "colab": {
          "base_uri": "https://localhost:8080/"
        },
        "id": "8TQamhSmhrKJ",
        "outputId": "0f236137-9c9c-498d-d639-d11a19d3418c"
      },
      "source": [
        "# Defining a list\n",
        "list = [{1, 2}, ('a'), ['1.1', '2.2']]\n",
        "\n",
        "# clearing the list\n",
        "del list[:]  # in del() method you have to use parameter\n",
        "\n",
        "print('List:', list)"
      ],
      "execution_count": null,
      "outputs": [
        {
          "output_type": "stream",
          "text": [
            "List: []\n"
          ],
          "name": "stdout"
        }
      ]
    },
    {
      "cell_type": "markdown",
      "metadata": {
        "id": "WaS6C9zWicVm"
      },
      "source": [
        "Visit this page to learn how del operator works in Python. [link text](https://www.programiz.com/python-programming/del)"
      ]
    },
    {
      "cell_type": "markdown",
      "metadata": {
        "id": "wyFNkSI1jETJ"
      },
      "source": [
        "# **copy()**"
      ]
    },
    {
      "cell_type": "markdown",
      "metadata": {
        "id": "s_6V8k9zjHDV"
      },
      "source": [
        "**Definition and Usage**\n",
        "\n",
        "The copy() method returns a copy of the specified list.\n",
        "\n",
        "**Syntax**: list.copy()\n",
        "\n",
        "**Parameter Values**\n",
        "\n",
        "No parameters"
      ]
    },
    {
      "cell_type": "code",
      "metadata": {
        "colab": {
          "base_uri": "https://localhost:8080/"
        },
        "id": "tRFiBt6jihlp",
        "outputId": "54b486e4-0744-483c-b152-244eeb78c9bc"
      },
      "source": [
        "# Copy the fruits list:\n",
        "\n",
        "fruits = ['apple', 'banana', 'cherry', 'orange']\n",
        "x = fruits.copy()\n",
        "print(x)"
      ],
      "execution_count": null,
      "outputs": [
        {
          "output_type": "stream",
          "text": [
            "['apple', 'banana', 'cherry', 'orange']\n"
          ],
          "name": "stdout"
        }
      ]
    },
    {
      "cell_type": "code",
      "metadata": {
        "colab": {
          "base_uri": "https://localhost:8080/",
          "height": 128
        },
        "id": "_pIaqbBUjRIn",
        "outputId": "b4e64119-1ddb-4670-ed15-5435fffca0fc"
      },
      "source": [
        "# A list can be copied using the = operator. For example,\n",
        "\n",
        "old_list = [1, 2, 3]\n",
        "​new_list = old_list"
      ],
      "execution_count": null,
      "outputs": [
        {
          "output_type": "error",
          "ename": "SyntaxError",
          "evalue": "ignored",
          "traceback": [
            "\u001b[0;36m  File \u001b[0;32m\"<ipython-input-6-4e750fc62d39>\"\u001b[0;36m, line \u001b[0;32m4\u001b[0m\n\u001b[0;31m    ​new_list = old_list\u001b[0m\n\u001b[0m            ^\u001b[0m\n\u001b[0;31mSyntaxError\u001b[0m\u001b[0;31m:\u001b[0m invalid character in identifier\n"
          ]
        }
      ]
    },
    {
      "cell_type": "markdown",
      "metadata": {
        "id": "higMAWGIjqjK"
      },
      "source": [
        "The problem with copying lists in this way is that if you modify new_list, old_list is also modified. It is because the new list is referencing or pointing to the same old_list object."
      ]
    },
    {
      "cell_type": "code",
      "metadata": {
        "colab": {
          "base_uri": "https://localhost:8080/"
        },
        "id": "3CCSDKHHj90l",
        "outputId": "330d78fd-f166-491b-eade-8877b71cc55e"
      },
      "source": [
        "old_list = [1, 2, 3]\n",
        "new_list = old_list\n",
        "\n",
        "# add an element to list\n",
        "new_list.append('a')\n",
        "\n",
        "print('New List:', new_list)\n",
        "print('Old List:', old_list)"
      ],
      "execution_count": null,
      "outputs": [
        {
          "output_type": "stream",
          "text": [
            "New List: [1, 2, 3, 'a']\n",
            "Old List: [1, 2, 3, 'a']\n"
          ],
          "name": "stdout"
        }
      ]
    },
    {
      "cell_type": "markdown",
      "metadata": {
        "id": "KOwAUyVmksGR"
      },
      "source": [
        "However, if you need the original list unchanged when the new list is modified, you can use the copy() method."
      ]
    },
    {
      "cell_type": "markdown",
      "metadata": {
        "id": "-3HVFQjPk3Pt"
      },
      "source": [
        "The syntax of the copy() method is:"
      ]
    },
    {
      "cell_type": "code",
      "metadata": {
        "id": "m5YrKPSPkePH"
      },
      "source": [
        "new_list = list.copy()"
      ],
      "execution_count": null,
      "outputs": []
    },
    {
      "cell_type": "code",
      "metadata": {
        "colab": {
          "base_uri": "https://localhost:8080/"
        },
        "id": "58kT9EPDlnqr",
        "outputId": "b3c94a28-cd84-4779-b3be-70f2c6c9e63f"
      },
      "source": [
        "# mixed list\n",
        "my_list = ['cat', 0, 6.7]\n",
        "print('Original List:', my_list)\n",
        "\n",
        "# copying a list\n",
        "new_list = my_list.copy()\n",
        "print('Copied New List:', new_list)\n",
        "\n",
        "# add an element to list\n",
        "new_list.append('a')\n",
        "print('Modified New List:', new_list)\n",
        "\n",
        "print('Original List:', my_list)"
      ],
      "execution_count": null,
      "outputs": [
        {
          "output_type": "stream",
          "text": [
            "Original List: ['cat', 0, 6.7]\n",
            "Copied New List: ['cat', 0, 6.7]\n",
            "Modified New List: ['cat', 0, 6.7, 'a']\n",
            "Original List: ['cat', 0, 6.7]\n"
          ],
          "name": "stdout"
        }
      ]
    },
    {
      "cell_type": "markdown",
      "metadata": {
        "id": "rdda_NoZmjma"
      },
      "source": [
        "If you modify the new_list in the above example, my_list will not be modified."
      ]
    },
    {
      "cell_type": "markdown",
      "metadata": {
        "id": "YLhlSifQnpZQ"
      },
      "source": [
        "**Copy List Using Slicing Syntax**"
      ]
    },
    {
      "cell_type": "code",
      "metadata": {
        "colab": {
          "base_uri": "https://localhost:8080/"
        },
        "id": "LFCbKl2Oml0f",
        "outputId": "59b986b5-16f2-40e1-98f9-789041aecfd6"
      },
      "source": [
        "# shallow copy using the slicing syntax\n",
        "\n",
        "# mixed list\n",
        "list = ['cat', 0, 6.7]\n",
        "\n",
        "# copying a list using slicing\n",
        "new_list = list[:]\n",
        "\n",
        "# Adding an element to the new list\n",
        "new_list.append('dog')\n",
        "\n",
        "# Printing new and old list\n",
        "print('Old List:', list)\n",
        "print('New List:', new_list)"
      ],
      "execution_count": null,
      "outputs": [
        {
          "output_type": "stream",
          "text": [
            "Old List: ['cat', 0, 6.7]\n",
            "New List: ['cat', 0, 6.7, 'dog']\n"
          ],
          "name": "stdout"
        }
      ]
    },
    {
      "cell_type": "markdown",
      "metadata": {
        "id": "jbn_S9_EoJoD"
      },
      "source": [
        "# **count()**"
      ]
    },
    {
      "cell_type": "markdown",
      "metadata": {
        "id": "0HhDPonzoARS"
      },
      "source": [
        "**Definition and Usage**\n",
        "\n",
        "The count() method returns the number of elements with the specified value.\n",
        "\n",
        "**Syntax:** list.count(value)\n",
        "\n",
        "**Parameter Values**\n",
        "\n",
        "**value\tRequired**. Any type (string, number, list, tuple, etc.). The value to search for."
      ]
    },
    {
      "cell_type": "code",
      "metadata": {
        "colab": {
          "base_uri": "https://localhost:8080/"
        },
        "id": "LQifs3nsoSDA",
        "outputId": "46af4ec9-e2b3-4de9-91bf-c92619b392fe"
      },
      "source": [
        "# Return the number of times the value \"cherry\" appears in the fruits list:\n",
        "\n",
        "fruits = ['apple', 'banana', 'cherry']\n",
        "\n",
        "x = fruits.count(\"cherry\")\n",
        "print(x)\n",
        "print(fruits.count(\"cherry\"))   # Unlike append() method, you can either assign \n",
        "                                # count() method a new variable or put it inside print() \n",
        "                                # built-in funtion for printing\n",
        "                                # since count() method returns an outcome (value) without any assignment \n",
        "                                # and it does NOT updates (modify) the current list\n",
        "                                # some methods do NOT need any assignment if modifiying variable\n",
        "                                # otherwise it will print NONE if you make a new assignment  "
      ],
      "execution_count": null,
      "outputs": [
        {
          "output_type": "stream",
          "text": [
            "1\n",
            "1\n"
          ],
          "name": "stdout"
        }
      ]
    },
    {
      "cell_type": "code",
      "metadata": {
        "id": "APqfO_pV4jZO"
      },
      "source": [
        " # print just variable without making any new assignment\n",
        "                         # since append() method updates (modify) the current list\n",
        "                         # some methods do NOT need any assignment if just modifiying variable\n",
        "                         # otherwise it will print NONE if you make a new assignment"
      ],
      "execution_count": null,
      "outputs": []
    },
    {
      "cell_type": "code",
      "metadata": {
        "colab": {
          "base_uri": "https://localhost:8080/"
        },
        "id": "DD7eDcoJoULC",
        "outputId": "1d60fc8e-7c25-4847-91c8-c27dee30fd4e"
      },
      "source": [
        "fruits = ['apple', 'banana', 'cherry']\n",
        "\n",
        "print(fruits.count(\"cherry\"))"
      ],
      "execution_count": null,
      "outputs": [
        {
          "output_type": "stream",
          "text": [
            "1\n"
          ],
          "name": "stdout"
        }
      ]
    },
    {
      "cell_type": "code",
      "metadata": {
        "colab": {
          "base_uri": "https://localhost:8080/"
        },
        "id": "NACVy9Deore1",
        "outputId": "bb20b195-2c38-48b1-9af4-468303c66861"
      },
      "source": [
        "# Return the number of times the value 9 appears int the list:\n",
        "\n",
        "points = [1, 4, 2, 9, 7, 8, 9, 3, 1]\n",
        "\n",
        "print(points.count(9))"
      ],
      "execution_count": null,
      "outputs": [
        {
          "output_type": "stream",
          "text": [
            "2\n"
          ],
          "name": "stdout"
        }
      ]
    },
    {
      "cell_type": "code",
      "metadata": {
        "colab": {
          "base_uri": "https://localhost:8080/"
        },
        "id": "miBp7sVso6zS",
        "outputId": "b45677b4-a2dc-4fe0-c0e9-93c7ee721d7c"
      },
      "source": [
        "# vowels list\n",
        "vowels = ['a', 'e', 'i', 'o', 'i', 'u']\n",
        "\n",
        "# count element 'i'\n",
        "count = vowels.count('i')\n",
        "\n",
        "# print count\n",
        "print('The count of \"i\" element is:', count)\n",
        "\n",
        "# count element 'p'\n",
        "count = vowels.count('p')\n",
        "\n",
        "# print count\n",
        "print('The count of \"p\" element is:', count)\n",
        "print(vowels.count('p'))"
      ],
      "execution_count": null,
      "outputs": [
        {
          "output_type": "stream",
          "text": [
            "The count of \"i\" element is: 2\n",
            "The count of \"p\" element is: 0\n",
            "0\n"
          ],
          "name": "stdout"
        }
      ]
    },
    {
      "cell_type": "markdown",
      "metadata": {
        "id": "S5WRi2D8pQNg"
      },
      "source": [
        "**Count Tuple and List Elements Inside List**\n"
      ]
    },
    {
      "cell_type": "code",
      "metadata": {
        "colab": {
          "base_uri": "https://localhost:8080/"
        },
        "id": "arfavqN0pOK5",
        "outputId": "dbafa8f1-aba0-4ac8-fad2-4f97ed7bb9c5"
      },
      "source": [
        "# random list\n",
        "random = ['a', ('a', 'b'), ('a', 'b'), [3, 4]]\n",
        "\n",
        "# count element ('a', 'b')\n",
        "count = random.count(('a', 'b'))\n",
        "\n",
        "# print count\n",
        "print(\"The count of ('a', 'b') is:\", count)\n",
        "\n",
        "# count element [3, 4]\n",
        "count = random.count([3, 4])\n",
        "\n",
        "# print count\n",
        "print(\"The count of [3, 4] is:\", count)\n",
        "print(random.count([3, 4]))"
      ],
      "execution_count": null,
      "outputs": [
        {
          "output_type": "stream",
          "text": [
            "The count of ('a', 'b') is: 2\n",
            "The count of [3, 4] is: 1\n",
            "1\n"
          ],
          "name": "stdout"
        }
      ]
    },
    {
      "cell_type": "markdown",
      "metadata": {
        "id": "CyNJd1drppaQ"
      },
      "source": [
        "# **extend()**"
      ]
    },
    {
      "cell_type": "markdown",
      "metadata": {
        "id": "ur7O2k6EpguD"
      },
      "source": [
        "**Definition and Usage**\n",
        "\n",
        "The extend() method adds the specified list elements (or any iterable) to the end of the current list.\n",
        "\n",
        "**Syntax :** list.extend(iterable)\n",
        "\n",
        "**Parameter Values**\n",
        "\n",
        "**iterable\tRequired**. Any iterable (list, set, tuple, etc.)"
      ]
    },
    {
      "cell_type": "code",
      "metadata": {
        "colab": {
          "base_uri": "https://localhost:8080/"
        },
        "id": "vqazoih3ptVv",
        "outputId": "340f33aa-e065-471f-f6ea-8d1e5c067a74"
      },
      "source": [
        "# Add a tuple to the fruits list:\n",
        "\n",
        "fruits = ['apple', 'banana', 'cherry']\n",
        "\n",
        "points = (1, 4, 5, 9)\n",
        "\n",
        "fruits.extend(points)\n",
        "\n",
        "print(fruits)  # be aware of the outcome by comparing with append() method\n",
        "print(fruits.extend(points))  # returns None"
      ],
      "execution_count": null,
      "outputs": [
        {
          "output_type": "stream",
          "text": [
            "['apple', 'banana', 'cherry', 1, 4, 5, 9]\n",
            "None\n"
          ],
          "name": "stdout"
        }
      ]
    },
    {
      "cell_type": "markdown",
      "metadata": {
        "id": "JOABoEFRsA78"
      },
      "source": [
        "Here, all the elements of iterable (points) are added to the end of fruits one by one.\n",
        "\n",
        "As mentioned, the extend() method takes an iterable such as list, tuple, string etc.\n",
        "\n",
        "The extend() method modifies the original list. It doesn't return any value."
      ]
    },
    {
      "cell_type": "code",
      "metadata": {
        "colab": {
          "base_uri": "https://localhost:8080/"
        },
        "id": "sbtqYqimsQp6",
        "outputId": "2db3ab2f-468d-4b69-d581-b766381d66d1"
      },
      "source": [
        "# languages list\n",
        "languages = ['French', 'English']\n",
        "\n",
        "# another list of language\n",
        "languages1 = ['Spanish', 'Portuguese']\n",
        "\n",
        "# appending language1 elements to language\n",
        "languages.extend(languages1)\n",
        "\n",
        "print('Languages List:', languages)"
      ],
      "execution_count": null,
      "outputs": [
        {
          "output_type": "stream",
          "text": [
            "Languages List: ['French', 'English', 'Spanish', 'Portuguese']\n"
          ],
          "name": "stdout"
        }
      ]
    },
    {
      "cell_type": "markdown",
      "metadata": {
        "id": "kPWicMrPsjxy"
      },
      "source": [
        "**Add Elements of Tuple and Set to List**"
      ]
    },
    {
      "cell_type": "code",
      "metadata": {
        "colab": {
          "base_uri": "https://localhost:8080/"
        },
        "id": "5ekfA8bssiA8",
        "outputId": "9f1ede57-6818-4af7-f47a-33d0b672f818"
      },
      "source": [
        "# languages list\n",
        "languages = ['French']\n",
        "\n",
        "# languages tuple\n",
        "languages_tuple = ('Spanish', 'Portuguese')\n",
        "\n",
        "# languages set\n",
        "languages_set = {'Chinese', 'Japanese'}  # WATCH OUT, elements will be added unorderly\n",
        "\n",
        "# appending language_tuple elements to language (extending the list of languages)\n",
        "languages.extend(languages_tuple)\n",
        "\n",
        "print('First Extended New Language List:', languages)\n",
        "\n",
        "# appending language_set elements to language (again extending the list of languages)\n",
        "languages.extend(languages_set)\n",
        "\n",
        "print('Second Extended Newer Languages List:', languages)"
      ],
      "execution_count": null,
      "outputs": [
        {
          "output_type": "stream",
          "text": [
            "First Extended New Language List: ['French', 'Spanish', 'Portuguese']\n",
            "Second Extended Newer Languages List: ['French', 'Spanish', 'Portuguese', 'Japanese', 'Chinese']\n"
          ],
          "name": "stdout"
        }
      ]
    },
    {
      "cell_type": "markdown",
      "metadata": {
        "id": "9OKrTKYIudLS"
      },
      "source": [
        "# **index()**"
      ]
    },
    {
      "cell_type": "markdown",
      "metadata": {
        "id": "nE4CmL8VuM9n"
      },
      "source": [
        "**Definition and Usage**\n",
        "\n",
        "The index() method returns the position at the first occurrence of the specified value.\n",
        "\n",
        "**Syntax :** list.index(element)\n",
        "\n",
        "**Parameter Values**\n",
        "\n",
        "**element\tRequired**. Any type (string, number, list, etc.). The element to search for"
      ]
    },
    {
      "cell_type": "code",
      "metadata": {
        "colab": {
          "base_uri": "https://localhost:8080/"
        },
        "id": "OWyHGnneurBl",
        "outputId": "07e22fa3-56f6-492c-d09d-b5c267bdc6fc"
      },
      "source": [
        "# What is the position of the value \"cherry\":\n",
        "\n",
        "fruits = ['apple', 'banana', 'cherry']\n",
        "\n",
        "x = fruits.index(\"cherry\")\n",
        "\n",
        "print(x)\n",
        "print(fruits.index(\"cherry\"))\n"
      ],
      "execution_count": null,
      "outputs": [
        {
          "output_type": "stream",
          "text": [
            "2\n",
            "2\n"
          ],
          "name": "stdout"
        }
      ]
    },
    {
      "cell_type": "code",
      "metadata": {
        "colab": {
          "base_uri": "https://localhost:8080/"
        },
        "id": "29Rt6qWHvNbs",
        "outputId": "5a08c6ed-22ac-46bc-ed73-b77a1a58ff61"
      },
      "source": [
        "# What is the position of the value 32:\n",
        "\n",
        "fruits = [4, 55, 64, 32, 16, 32]\n",
        "\n",
        "print(fruits.index(32))"
      ],
      "execution_count": null,
      "outputs": [
        {
          "output_type": "stream",
          "text": [
            "3\n"
          ],
          "name": "stdout"
        }
      ]
    },
    {
      "cell_type": "markdown",
      "metadata": {
        "id": "1up5wF3Ewh5u"
      },
      "source": [
        "The index() method returns the index of the given element in the list.\n",
        "\n",
        "If the element is not found, a ValueError exception is raised.\n",
        "\n",
        "**Note:** The index() method only returns the first occurrence of the matching element."
      ]
    },
    {
      "cell_type": "code",
      "metadata": {
        "colab": {
          "base_uri": "https://localhost:8080/"
        },
        "id": "DC_tVDSvwkYF",
        "outputId": "16d91128-1450-4f39-e34e-5db9cf636bf3"
      },
      "source": [
        "# vowels list\n",
        "vowels = ['a', 'e', 'i', 'o', 'i', 'u']\n",
        "\n",
        "# index of 'e' in vowels\n",
        "index = vowels.index('e')\n",
        "print('The index of e:', index)\n",
        "print(vowels.index('e'))\n",
        "\n",
        "# element 'i' is searched\n",
        "# index of the first 'i' is returned\n",
        "index = vowels.index('i')\n",
        "\n",
        "print('The index of i:', index)\n",
        "print(vowels.index('i'))"
      ],
      "execution_count": null,
      "outputs": [
        {
          "output_type": "stream",
          "text": [
            "The index of e: 1\n",
            "1\n",
            "The index of i: 2\n",
            "2\n"
          ],
          "name": "stdout"
        }
      ]
    },
    {
      "cell_type": "code",
      "metadata": {
        "id": "ElLwgPti0e8W"
      },
      "source": [
        "# Index of the Element not Present in the List\n",
        "\n",
        "# vowels list\n",
        "vowels = ['a', 'e', 'i', 'o', 'u']\n",
        "\n",
        "# index of'p' is vowels\n",
        "index = vowels.index('p')\n",
        "print('The index of p:', index)  #  ValueError: 'p' is not in list"
      ],
      "execution_count": null,
      "outputs": []
    },
    {
      "cell_type": "markdown",
      "metadata": {
        "id": "11Mh8kab0YS1"
      },
      "source": [
        "# **insert()**"
      ]
    },
    {
      "cell_type": "markdown",
      "metadata": {
        "id": "Gc-McwSU0GQ8"
      },
      "source": [
        "**Definition and Usage**\n",
        "\n",
        "The insert() method inserts the specified value at the specified position.\n",
        "\n",
        "**Syntax:** list.insert(position, element)\n",
        "\n",
        "**Parameter Values**\n",
        "\n",
        "**position\tRequired**. A number specifying in which position to insert the value\n",
        "**elmnt\tRequired**. An element of any type (string, number, object etc.)"
      ]
    },
    {
      "cell_type": "code",
      "metadata": {
        "colab": {
          "base_uri": "https://localhost:8080/"
        },
        "id": "OIebL9vhzz-K",
        "outputId": "b586f564-b752-4039-930d-f036404f19ce"
      },
      "source": [
        "# Insert the value \"orange\" as the second element of the fruit list:\n",
        "\n",
        "fruits = ['apple', 'banana', 'cherry']\n",
        "\n",
        "fruits.insert(1, \"orange\")  # the second element means index[1]\n",
        "\n",
        "print(fruits)"
      ],
      "execution_count": null,
      "outputs": [
        {
          "output_type": "stream",
          "text": [
            "['apple', 'orange', 'banana', 'cherry']\n"
          ],
          "name": "stdout"
        }
      ]
    },
    {
      "cell_type": "markdown",
      "metadata": {
        "id": "4oiaLGWN1sCv"
      },
      "source": [
        "The insert() method takes two parameters:\n",
        "\n",
        "index - the index where the element needs to be inserted\n",
        "\n",
        "element - this is the element to be inserted in the list\n",
        "\n",
        "**Notes:**\n",
        "\n",
        "If index is 0, the element is inserted at the beginning of the list.\n",
        "\n",
        "If index is 3, the element is inserted after the 3rd element. Its position will be 4th.\n",
        "\n",
        "The insert() method doesn't return anything; returns None. It only updates the current list."
      ]
    },
    {
      "cell_type": "code",
      "metadata": {
        "colab": {
          "base_uri": "https://localhost:8080/"
        },
        "id": "98iYkgSW1vGr",
        "outputId": "7b115a3a-3876-44d2-9c94-bf24c50f20b8"
      },
      "source": [
        "# vowel list\n",
        "vowel = ['a', 'e', 'i', 'u']\n",
        "\n",
        "# 'o' is inserted at index 3\n",
        "# the position of 'o' will be 4th\n",
        "vowel.insert(3, 'o')\n",
        "\n",
        "print('Updated List:', vowel)\n",
        "\n",
        "print(vowel.insert(3, 'o'))  # returns None"
      ],
      "execution_count": null,
      "outputs": [
        {
          "output_type": "stream",
          "text": [
            "Updated List: ['a', 'e', 'i', 'o', 'u']\n",
            "None\n"
          ],
          "name": "stdout"
        }
      ]
    },
    {
      "cell_type": "markdown",
      "metadata": {
        "id": "1wp1DTdC9wJ_"
      },
      "source": [
        "**Inserting a Tuple (as an Element) to the List**"
      ]
    },
    {
      "cell_type": "code",
      "metadata": {
        "colab": {
          "base_uri": "https://localhost:8080/"
        },
        "id": "kTUhv8SH9qy4",
        "outputId": "517b7a0b-209b-4d29-ad30-c6be7eb5512d"
      },
      "source": [
        "mixed_list = [{1, 2}, [5, 6, 7]]\n",
        "\n",
        "# number tuple\n",
        "number_tuple = (3, 4)\n",
        "\n",
        "# inserting a tuple to the list\n",
        "mixed_list.insert(1, number_tuple)\n",
        "\n",
        "print('Updated List:', mixed_list)"
      ],
      "execution_count": null,
      "outputs": [
        {
          "output_type": "stream",
          "text": [
            "Updated List: [{1, 2}, (3, 4), [5, 6, 7]]\n"
          ],
          "name": "stdout"
        }
      ]
    },
    {
      "cell_type": "markdown",
      "metadata": {
        "id": "Rl5BmshT-T8L"
      },
      "source": [
        "# **pop()**"
      ]
    },
    {
      "cell_type": "markdown",
      "metadata": {
        "id": "ULlwmnPn-Gst"
      },
      "source": [
        "**Definition and Usage**\n",
        "\n",
        "The pop() method removes the element at the specified position.\n",
        "\n",
        "**Syntax:** list.pop(position)\n",
        "\n",
        "**Parameter Values**\n",
        "\n",
        "**position\tOptional**. A number specifying the position of the element you want to remove, default value is -1, which returns the last item"
      ]
    },
    {
      "cell_type": "code",
      "metadata": {
        "colab": {
          "base_uri": "https://localhost:8080/"
        },
        "id": "FLm31L00-dKg",
        "outputId": "3d2fabad-970f-4088-9152-571cd8db30db"
      },
      "source": [
        "# Remove the second element of the fruit list:\n",
        "\n",
        "fruits = ['apple', 'banana', 'cherry']\n",
        "\n",
        "fruits.pop(1)\n",
        "\n",
        "print(fruits)"
      ],
      "execution_count": null,
      "outputs": [
        {
          "output_type": "stream",
          "text": [
            "['apple', 'cherry']\n"
          ],
          "name": "stdout"
        }
      ]
    },
    {
      "cell_type": "code",
      "metadata": {
        "colab": {
          "base_uri": "https://localhost:8080/"
        },
        "id": "D-iiCG9V-wns",
        "outputId": "c54cc508-4826-495a-b7ca-bf357496806a"
      },
      "source": [
        "fruits = ['apple', 'banana', 'cherry']\n",
        "\n",
        "x = fruits.pop(1)\n",
        "\n",
        "print(x)"
      ],
      "execution_count": null,
      "outputs": [
        {
          "output_type": "stream",
          "text": [
            "banana\n"
          ],
          "name": "stdout"
        }
      ]
    },
    {
      "cell_type": "markdown",
      "metadata": {
        "id": "I4yWeTAB-6Uj"
      },
      "source": [
        "**Note:** The pop() method returns removed value."
      ]
    },
    {
      "cell_type": "markdown",
      "metadata": {
        "id": "iB4GXBbB_HZ-"
      },
      "source": [
        "The pop() method takes a single argument (index).\n",
        "\n",
        "The argument passed to the method is optional. If not passed, the default index -1 is passed as an argument (index of the last item).\n",
        "\n",
        "If the index passed to the method is not in range, it throws IndexError: pop index out of range exception."
      ]
    },
    {
      "cell_type": "code",
      "metadata": {
        "colab": {
          "base_uri": "https://localhost:8080/"
        },
        "id": "zroRiX5v-8Vj",
        "outputId": "acd16180-6035-42fc-f602-6cb5fd721253"
      },
      "source": [
        "# programming languages list\n",
        "languages = ['Python', 'Java', 'C++', 'French', 'C']\n",
        "\n",
        "# remove and return the 4th item\n",
        "return_value = languages.pop(3)\n",
        "print('Return Value:', return_value)\n",
        "\n",
        "# Updated List\n",
        "print('Updated List:', languages)"
      ],
      "execution_count": null,
      "outputs": [
        {
          "output_type": "stream",
          "text": [
            "Return Value: French\n",
            "Updated List: ['Python', 'Java', 'C++', 'C']\n"
          ],
          "name": "stdout"
        }
      ]
    },
    {
      "cell_type": "markdown",
      "metadata": {
        "id": "jLH-Ed0Q_ZI4"
      },
      "source": [
        "If you need to pop the 4th element, you need to pass 3 to the pop() method."
      ]
    },
    {
      "cell_type": "markdown",
      "metadata": {
        "id": "WTy5HCQM_fvH"
      },
      "source": [
        "**pop() without an index, and for negative indices**"
      ]
    },
    {
      "cell_type": "code",
      "metadata": {
        "colab": {
          "base_uri": "https://localhost:8080/"
        },
        "id": "3SBIRbdO_Z0o",
        "outputId": "cafc76f5-97ef-4266-f310-4b04c343db83"
      },
      "source": [
        "# programming languages list\n",
        "languages = ['Python', 'Java', 'C++', 'Ruby', 'C']\n",
        "\n",
        "# remove and return the last item\n",
        "print('When index is not passed:') \n",
        "print('Return Value:', languages.pop())\n",
        "print('Updated List:', languages)\n",
        "\n",
        "# remove and return the last item\n",
        "print('\\nWhen -1 is passed:') \n",
        "print('Return Value:', languages.pop(-1))\n",
        "print('Updated List:', languages)\n",
        "\n",
        "# remove and return the third last item\n",
        "print('\\nWhen -3 is passed:') \n",
        "print('Return Value:', languages.pop(-3))\n",
        "print('Updated List:', languages)"
      ],
      "execution_count": null,
      "outputs": [
        {
          "output_type": "stream",
          "text": [
            "When index is not passed:\n",
            "Return Value: C\n",
            "Updated List: ['Python', 'Java', 'C++', 'Ruby']\n",
            "\n",
            "When -1 is passed:\n",
            "Return Value: Ruby\n",
            "Updated List: ['Python', 'Java', 'C++']\n",
            "\n",
            "When -3 is passed:\n",
            "Return Value: Python\n",
            "Updated List: ['Java', 'C++']\n"
          ],
          "name": "stdout"
        }
      ]
    },
    {
      "cell_type": "markdown",
      "metadata": {
        "id": "7zv3uwA6_2f2"
      },
      "source": [
        "If you need to remove the given item from the list, you can to use the remove() method. [link text](https://www.programiz.com/python-programming/methods/list/remove)\n",
        "\n",
        "And, you can use the del statement to remove an item or slices from the list. [link text](https://www.programiz.com/python-programming/del#items-list)"
      ]
    },
    {
      "cell_type": "markdown",
      "metadata": {
        "id": "pQ2qMp32CUwn"
      },
      "source": [
        "# **remove()**"
      ]
    },
    {
      "cell_type": "markdown",
      "metadata": {
        "id": "tsHfZsgo_6Il"
      },
      "source": [
        "**Definition and Usage**\n",
        "\n",
        "The remove() method removes the first occurrence of the element with the specified value.\n",
        "\n",
        "**Syntax:** list.remove(element)\n",
        "\n",
        "**Parameter Values**\n",
        "\n",
        "**element\tRequired**. Any type (string, number, list etc.) The element you want to remove"
      ]
    },
    {
      "cell_type": "code",
      "metadata": {
        "colab": {
          "base_uri": "https://localhost:8080/"
        },
        "id": "0koECwJ4Ccn7",
        "outputId": "50132d44-60ff-4999-d428-77907b51d320"
      },
      "source": [
        "# Remove the \"banana\" element of the fruit list:\n",
        "\n",
        "fruits = ['apple', 'banana', 'cherry']\n",
        "\n",
        "fruits.remove(\"banana\")\n",
        "\n",
        "print(fruits)\n",
        "# print(fruits.remove(\"banana\"))  # ValueError: list.remove(x): x not in list"
      ],
      "execution_count": null,
      "outputs": [
        {
          "output_type": "stream",
          "text": [
            "['apple', 'cherry']\n"
          ],
          "name": "stdout"
        }
      ]
    },
    {
      "cell_type": "code",
      "metadata": {
        "colab": {
          "base_uri": "https://localhost:8080/"
        },
        "id": "aeCvdqBRCh8s",
        "outputId": "15972be1-6ec0-4355-a62d-00ab5174529d"
      },
      "source": [
        "fruits = ['apple', 'banana', 'cherry']\n",
        "\n",
        "x = fruits.remove(\"banana\")\n",
        "\n",
        "print(x)  # returns None"
      ],
      "execution_count": null,
      "outputs": [
        {
          "output_type": "stream",
          "text": [
            "None\n"
          ],
          "name": "stdout"
        }
      ]
    },
    {
      "cell_type": "markdown",
      "metadata": {
        "id": "mHXMJcEyDZZj"
      },
      "source": [
        "The remove() method takes a single element as an argument and removes it from the list.\n",
        "\n",
        "If the element doesn't exist, it throws ValueError: list.remove(x): x not in list exception.\n",
        "\n",
        "The remove() doesn't return any value (returns None)."
      ]
    },
    {
      "cell_type": "code",
      "metadata": {
        "colab": {
          "base_uri": "https://localhost:8080/"
        },
        "id": "QMcWq97aDpph",
        "outputId": "4a3dcc64-8089-467f-d20b-df2b72825a59"
      },
      "source": [
        "# animals list\n",
        "animals = ['cat', 'dog', 'rabbit', 'guinea pig']\n",
        "\n",
        "# 'rabbit' is removed\n",
        "animals.remove('rabbit')\n",
        "\n",
        "# Updated animals List\n",
        "print('Updated animals list: ', animals)"
      ],
      "execution_count": null,
      "outputs": [
        {
          "output_type": "stream",
          "text": [
            "Updated animals list:  ['cat', 'dog', 'guinea pig']\n"
          ],
          "name": "stdout"
        }
      ]
    },
    {
      "cell_type": "markdown",
      "metadata": {
        "id": "uqNiaZclD0DG"
      },
      "source": [
        "**remove() method on a list having duplicate elements**"
      ]
    },
    {
      "cell_type": "markdown",
      "metadata": {
        "id": "Hr8eVtgxEF5R"
      },
      "source": [
        "If a list contains duplicate elements, the remove() method only removes the first matching element."
      ]
    },
    {
      "cell_type": "code",
      "metadata": {
        "colab": {
          "base_uri": "https://localhost:8080/"
        },
        "id": "gdM1j0yFDxUm",
        "outputId": "1028f85b-3ab4-4d52-cbce-30947497c63e"
      },
      "source": [
        "# animals list\n",
        "animals = ['cat', 'dog', 'dog', 'guinea pig', 'dog']\n",
        "\n",
        "# 'dog' is removed\n",
        "animals.remove('dog')\n",
        "\n",
        "# Updated animals list\n",
        "print('Updated animals list: ', animals)"
      ],
      "execution_count": null,
      "outputs": [
        {
          "output_type": "stream",
          "text": [
            "Updated animals list:  ['cat', 'dog', 'guinea pig', 'dog']\n"
          ],
          "name": "stdout"
        }
      ]
    },
    {
      "cell_type": "markdown",
      "metadata": {
        "id": "qw1EzA1PECp3"
      },
      "source": [
        "Here, only the first occurrence of element 'dog' is removed from the list."
      ]
    },
    {
      "cell_type": "markdown",
      "metadata": {
        "id": "FrpwrdE6EL-_"
      },
      "source": [
        "**Deleting element that doesn't exist**\n"
      ]
    },
    {
      "cell_type": "code",
      "metadata": {
        "id": "ORPgALs7EKQD"
      },
      "source": [
        "# animals list\n",
        "animals = ['cat', 'dog', 'rabbit', 'guinea pig']\n",
        "\n",
        "# Deleting 'fish' element\n",
        "animals.remove('fish')\n",
        "\n",
        "# Updated animals List\n",
        "print('Updated animals list: ', animals)  # ValueError: list.remove(x): x not in list"
      ],
      "execution_count": null,
      "outputs": []
    },
    {
      "cell_type": "markdown",
      "metadata": {
        "id": "j-sMpcEIEWgs"
      },
      "source": [
        "If you need to delete elements based on the index (like the fourth element), you can use the pop() method.  [link text](https://www.programiz.com/python-programming/methods/list/pop)\n",
        "\n",
        "Also, you can use the Python del statement to remove items from the list. [link text](https://www.programiz.com/python-programming/del)"
      ]
    },
    {
      "cell_type": "markdown",
      "metadata": {
        "id": "UKbibWqOEmo-"
      },
      "source": [
        "**Definition and Usage**\n",
        "\n",
        "The reverse() method reverses the sorting order of the elements.\n",
        "\n",
        "**Syntax:** list.reverse()\n",
        "\n",
        "**Parameter Values**\n",
        "\n",
        "No parameters\n",
        "\n",
        "**Related Pages**\n",
        "\n",
        "The buil-in function reversed() returns a reversed iterator object. [link text](https://www.w3schools.com/python/ref_func_reversed.asp)"
      ]
    },
    {
      "cell_type": "code",
      "metadata": {
        "colab": {
          "base_uri": "https://localhost:8080/"
        },
        "id": "IZFSQW67FDJB",
        "outputId": "f69ff9b5-a488-469c-86db-d2e7db9e6b2c"
      },
      "source": [
        "# Reverse the order of the fruit list:\n",
        "\n",
        "fruits = ['apple', 'banana', 'cherry']\n",
        "\n",
        "fruits.reverse()\n",
        "print(fruits)\n",
        "print(fruits.reverse())  # returns None"
      ],
      "execution_count": null,
      "outputs": [
        {
          "output_type": "stream",
          "text": [
            "['cherry', 'banana', 'apple']\n",
            "None\n"
          ],
          "name": "stdout"
        }
      ]
    },
    {
      "cell_type": "markdown",
      "metadata": {
        "id": "XYx5PrpKF_TD"
      },
      "source": [
        "The reverse() method doesn't take any arguments.\n",
        "\n",
        "The reverse() method doesn't return any value. It updates (modifies) the existing list."
      ]
    },
    {
      "cell_type": "code",
      "metadata": {
        "colab": {
          "base_uri": "https://localhost:8080/"
        },
        "id": "e4e2lMNNFKCo",
        "outputId": "61552438-af0c-4cda-c420-c4588566a1f7"
      },
      "source": [
        "# Operating System List\n",
        "systems = ['Windows', 'macOS', 'Linux']\n",
        "print('Original List:', systems)\n",
        "\n",
        "# List Reverse\n",
        "systems.reverse()\n",
        "\n",
        "# updated list\n",
        "print('Updated List:', systems)"
      ],
      "execution_count": null,
      "outputs": [
        {
          "output_type": "stream",
          "text": [
            "Original List: ['Windows', 'macOS', 'Linux']\n",
            "Updated List: ['Linux', 'macOS', 'Windows']\n"
          ],
          "name": "stdout"
        }
      ]
    },
    {
      "cell_type": "markdown",
      "metadata": {
        "id": "uemr-PcWGbhf"
      },
      "source": [
        "There are other several ways to reverse a list."
      ]
    },
    {
      "cell_type": "markdown",
      "metadata": {
        "id": "qWzbjqKCGWSF"
      },
      "source": [
        "**Reverse a List Using Slicing Operator**"
      ]
    },
    {
      "cell_type": "code",
      "metadata": {
        "colab": {
          "base_uri": "https://localhost:8080/"
        },
        "id": "4xCUMNXYGUPv",
        "outputId": "f84056d5-55be-43cb-a19c-8769cbbe8ed9"
      },
      "source": [
        "# Operating System List\n",
        "systems = ['Windows', 'macOS', 'Linux']\n",
        "print('Original List:', systems)\n",
        "\n",
        "# Reversing a list\t\n",
        "#Syntax: reversed_list = systems[start:stop:step] \n",
        "reversed_list = systems[::-1]\n",
        "\n",
        "# updated list\n",
        "print('Updated List:', reversed_list)"
      ],
      "execution_count": null,
      "outputs": [
        {
          "output_type": "stream",
          "text": [
            "Original List: ['Windows', 'macOS', 'Linux']\n",
            "Updated List: ['Linux', 'macOS', 'Windows']\n"
          ],
          "name": "stdout"
        }
      ]
    },
    {
      "cell_type": "markdown",
      "metadata": {
        "id": "Cj6Hhz4gGoSk"
      },
      "source": [
        "**Accessing Elements in Reversed Order**"
      ]
    },
    {
      "cell_type": "code",
      "metadata": {
        "colab": {
          "base_uri": "https://localhost:8080/"
        },
        "id": "EPZEGtwgGlU-",
        "outputId": "e39a5ae1-9186-4f06-d007-4c99dd5ab382"
      },
      "source": [
        "# If you need to access individual elements of a list in the reverse order, \n",
        "# it's better to use reversed() function.\n",
        "\n",
        "# Operating System List\n",
        "systems = ['Windows', 'macOS', 'Linux']\n",
        "\n",
        "# Printing Elements in Reversed Order\n",
        "for i in reversed(systems):\n",
        "    print(i)"
      ],
      "execution_count": null,
      "outputs": [
        {
          "output_type": "stream",
          "text": [
            "Linux\n",
            "macOS\n",
            "Windows\n"
          ],
          "name": "stdout"
        }
      ]
    },
    {
      "cell_type": "markdown",
      "metadata": {
        "id": "dk9VQoXjHO1v"
      },
      "source": [
        "# **sort()**"
      ]
    },
    {
      "cell_type": "markdown",
      "metadata": {
        "id": "krMd-pddHC47"
      },
      "source": [
        "**Definition and Usage**\n",
        "\n",
        "The sort() method sorts the list ascending by default.\n",
        "\n",
        "You can also make a function to decide the sorting criteria(s).\n",
        "\n",
        "**Syntax:** list.sort(reverse=True|False, key=myFunc)\n",
        "\n",
        "**Parameter Values**\n",
        "\n",
        "**reverse\tOptional**. reverse=True will sort the list descending. Default is reverse=False\n",
        "\n",
        "**key\tOptional**. A function to specify the sorting criteria(s)"
      ]
    },
    {
      "cell_type": "code",
      "metadata": {
        "colab": {
          "base_uri": "https://localhost:8080/"
        },
        "id": "zCjJbFfxHX5v",
        "outputId": "2a763112-1b5d-4b7c-9d7f-39348bf7c09b"
      },
      "source": [
        "# Sort the list alphabetically:\n",
        "\n",
        "cars = ['Ford', 'BMW', 'Volvo']\n",
        "\n",
        "cars.sort()\n",
        "\n",
        "print(cars)\n",
        "print(cars.sort())  # returns None"
      ],
      "execution_count": null,
      "outputs": [
        {
          "output_type": "stream",
          "text": [
            "['BMW', 'Ford', 'Volvo']\n",
            "None\n"
          ],
          "name": "stdout"
        }
      ]
    },
    {
      "cell_type": "code",
      "metadata": {
        "colab": {
          "base_uri": "https://localhost:8080/"
        },
        "id": "LuhbV7ZPHrp_",
        "outputId": "7e2966d3-08da-4d37-ba11-3c7462bc7571"
      },
      "source": [
        "# Sort the list descending:\n",
        "\n",
        "cars = ['Ford', 'BMW', 'Volvo']\n",
        "\n",
        "cars.sort(reverse=True)  # Since default value is reverse=False\n",
        "\n",
        "print(cars)"
      ],
      "execution_count": null,
      "outputs": [
        {
          "output_type": "stream",
          "text": [
            "['Volvo', 'Ford', 'BMW']\n"
          ],
          "name": "stdout"
        }
      ]
    },
    {
      "cell_type": "code",
      "metadata": {
        "colab": {
          "base_uri": "https://localhost:8080/"
        },
        "id": "tmI4F8Y7Hv63",
        "outputId": "f2fbd3e4-1de7-4b19-877e-0406da3c7c1a"
      },
      "source": [
        "# Sort the list by the length of the values:\n",
        "\n",
        "# A function that returns the length of the value:\n",
        "\n",
        "def myFunc(x):\n",
        "  return len(x)\n",
        "\n",
        "cars = ['Ford', 'Mitsubishi', 'BMW', 'VW']\n",
        "\n",
        "cars.sort(key=myFunc)\n",
        "\n",
        "print(myFunc(cars))\n",
        "print(cars)\n"
      ],
      "execution_count": null,
      "outputs": [
        {
          "output_type": "stream",
          "text": [
            "4\n",
            "['VW', 'BMW', 'Ford', 'Mitsubishi']\n"
          ],
          "name": "stdout"
        }
      ]
    },
    {
      "cell_type": "code",
      "metadata": {
        "colab": {
          "base_uri": "https://localhost:8080/"
        },
        "id": "ANZQ7NFcJnGO",
        "outputId": "7630e3f4-ef84-4094-e98f-c95c33e21fd6"
      },
      "source": [
        "# Sort a list of dictionaries based on the \"year\" value of the dictionaries:\n",
        "\n",
        "# A function that returns the 'year' value:\n",
        "\n",
        "def myFunc(e):\n",
        "  return e['year']\n",
        "\n",
        "cars = [\n",
        "  {'car': 'Ford', 'year': 2005},\n",
        "  {'car': 'Mitsubishi', 'year': 2000},\n",
        "  {'car': 'BMW', 'year': 2019},\n",
        "  {'car': 'VW', 'year': 2011}\n",
        "]\n",
        "\n",
        "cars.sort(key=myFunc)\n",
        "\n",
        "print(cars)"
      ],
      "execution_count": null,
      "outputs": [
        {
          "output_type": "stream",
          "text": [
            "[{'car': 'Mitsubishi', 'year': 2000}, {'car': 'Ford', 'year': 2005}, {'car': 'VW', 'year': 2011}, {'car': 'BMW', 'year': 2019}]\n"
          ],
          "name": "stdout"
        }
      ]
    },
    {
      "cell_type": "code",
      "metadata": {
        "colab": {
          "base_uri": "https://localhost:8080/"
        },
        "id": "LZbIXegzLblJ",
        "outputId": "53815d99-f359-44af-9efe-bfb5960f67ec"
      },
      "source": [
        "# Sort the list by the length of the values and reversed:\n",
        "\n",
        "# A function that returns the length of the value:\n",
        "\n",
        "def myFunc(e):\n",
        "  return len(e)\n",
        "\n",
        "cars = ['Ford', 'Mitsubishi', 'BMW', 'VW']\n",
        "\n",
        "cars.sort(reverse=True, key=myFunc)\n",
        "\n",
        "print(cars)\n",
        "print(myFunc(cars))"
      ],
      "execution_count": null,
      "outputs": [
        {
          "output_type": "stream",
          "text": [
            "['Mitsubishi', 'Ford', 'BMW', 'VW']\n",
            "4\n"
          ],
          "name": "stdout"
        }
      ]
    },
    {
      "cell_type": "markdown",
      "metadata": {
        "id": "VelKUMCKL_lh"
      },
      "source": [
        "Alternatively, you can also use Python's built-in **sorted()** function for the same purpose.\n",
        "\n",
        "sorted(list, key=..., reverse=...)\n",
        "\n",
        "**Note:** The simplest **difference** between sort() and sorted() is: sort() changes the list directly and doesn't return any value, while sorted() doesn't change the list and returns the sorted list."
      ]
    },
    {
      "cell_type": "markdown",
      "metadata": {
        "id": "9L3RPDsVMVh4"
      },
      "source": [
        "The sort() method doesn't return any value. Rather, it changes the original list.\n",
        "\n",
        "If you want a function to return the sorted list rather than change the original list, use sorted()."
      ]
    },
    {
      "cell_type": "code",
      "metadata": {
        "colab": {
          "base_uri": "https://localhost:8080/"
        },
        "id": "KXXKp9maMCW1",
        "outputId": "fb2fd800-ee74-41fb-bd6f-2bdb525a8d28"
      },
      "source": [
        "# vowels list\n",
        "vowels = ['e', 'a', 'u', 'o', 'i']\n",
        "\n",
        "# sort the vowels\n",
        "vowels.sort()\n",
        "\n",
        "# print vowels\n",
        "print('Sorted list:', vowels)"
      ],
      "execution_count": null,
      "outputs": [
        {
          "output_type": "stream",
          "text": [
            "Sorted list: ['a', 'e', 'i', 'o', 'u']\n"
          ],
          "name": "stdout"
        }
      ]
    },
    {
      "cell_type": "markdown",
      "metadata": {
        "id": "IGctFsRUMvzI"
      },
      "source": [
        "The sort() method accepts a reverse parameter as an optional argument.\n",
        "\n",
        "Setting reverse = True sorts the list in the descending order."
      ]
    },
    {
      "cell_type": "code",
      "metadata": {
        "id": "kqq8qcYeMyBr"
      },
      "source": [
        "list.sort(reverse=True)"
      ],
      "execution_count": null,
      "outputs": []
    },
    {
      "cell_type": "code",
      "metadata": {
        "id": "-zqSIwAINqOa"
      },
      "source": [
        "# Sort the list in Descending order\n",
        "\n",
        "# vowels list\n",
        "vowels = ['e', 'a', 'u', 'o', 'i']\n",
        "\n",
        "# sort the vowels\n",
        "vowels.sort(reverse=True)\n",
        "\n",
        "# print vowels\n",
        "print('Sorted list (in Descending):', vowels)"
      ],
      "execution_count": null,
      "outputs": []
    },
    {
      "cell_type": "markdown",
      "metadata": {
        "id": "uYAYUmEtMyrQ"
      },
      "source": [
        "Alternately for sorted(), you can use the following code."
      ]
    },
    {
      "cell_type": "code",
      "metadata": {
        "id": "ibMpeM9SMzaY"
      },
      "source": [
        "sorted(list, reverse=True)"
      ],
      "execution_count": null,
      "outputs": []
    },
    {
      "cell_type": "markdown",
      "metadata": {
        "id": "NCODP8wVN1le"
      },
      "source": [
        "**Sort with custom function using key**"
      ]
    },
    {
      "cell_type": "markdown",
      "metadata": {
        "id": "S1mP7utLNzxZ"
      },
      "source": [
        "If you want your own implementation for sorting, the sort() method also accepts a key function as an optional parameter.\n",
        "\n",
        "Based on the results of the key function, you can sort the given list."
      ]
    },
    {
      "cell_type": "code",
      "metadata": {
        "id": "vUb6jxOwOA6V"
      },
      "source": [
        "list.sort(key=len)"
      ],
      "execution_count": null,
      "outputs": []
    },
    {
      "cell_type": "markdown",
      "metadata": {
        "id": "CGPe2PF2OG9C"
      },
      "source": [
        "Alternatively for sorted:"
      ]
    },
    {
      "cell_type": "code",
      "metadata": {
        "id": "EgcJwGJKOGQM"
      },
      "source": [
        "sorted(list, key=len)"
      ],
      "execution_count": null,
      "outputs": []
    },
    {
      "cell_type": "markdown",
      "metadata": {
        "id": "u35Nc4zoOVTc"
      },
      "source": [
        "Here, len is the Python's in-built function to count the length of an element.\n",
        "\n",
        "The list is sorted based on the length of each element, from lowest count to highest."
      ]
    },
    {
      "cell_type": "markdown",
      "metadata": {
        "id": "M7S2a26AOWjc"
      },
      "source": [
        "**Sort the list using key**"
      ]
    },
    {
      "cell_type": "markdown",
      "metadata": {
        "id": "FfuwV_yqOyHC"
      },
      "source": [
        "We know that a tuple is sorted using its first parameter by default. Let's look at how to customize the sort() method to sort using the second element."
      ]
    },
    {
      "cell_type": "code",
      "metadata": {
        "colab": {
          "base_uri": "https://localhost:8080/"
        },
        "id": "MIHCJ2d8Ogzo",
        "outputId": "f38e938d-cd3c-4385-9e90-c0e4d25f8b0e"
      },
      "source": [
        "# take second element for sort\n",
        "def takeSecond(elem):\n",
        "    return elem[1]\n",
        "\n",
        "# random list\n",
        "random = [(2, 2), (3, 4), (4, 1), (1, 3)]\n",
        "\n",
        "# sort list with key\n",
        "random.sort(key=takeSecond)\n",
        "\n",
        "# print list\n",
        "print('Sorted list:', random)"
      ],
      "execution_count": null,
      "outputs": [
        {
          "output_type": "stream",
          "text": [
            "Sorted list: [(4, 1), (2, 2), (1, 3), (3, 4)]\n"
          ],
          "name": "stdout"
        }
      ]
    },
    {
      "cell_type": "markdown",
      "metadata": {
        "id": "HCdcIHq5PUfl"
      },
      "source": [
        "Let's take another example. Suppose we have a list of information about the employees of an office where each element is a dictionary.\n",
        "\n",
        "We can sort the list in the following way:"
      ]
    },
    {
      "cell_type": "code",
      "metadata": {
        "colab": {
          "base_uri": "https://localhost:8080/"
        },
        "id": "geFRv8i5PVh2",
        "outputId": "d83386bb-d9ec-41aa-ee14-921b0b1b14b8"
      },
      "source": [
        "# sorting using custom key\n",
        "employees = [\n",
        "    {'Name': 'Alan Turing', 'age': 25, 'salary': 10000},\n",
        "    {'Name': 'Sharon Lin', 'age': 30, 'salary': 8000},\n",
        "    {'Name': 'John Hopkins', 'age': 18, 'salary': 1000},\n",
        "    {'Name': 'Mikhail Tal', 'age': 40, 'salary': 15000},\n",
        "]\n",
        "\n",
        "# custom functions to get employee info\n",
        "def get_name(employee):\n",
        "    return employee.get('Name')\n",
        "\n",
        "\n",
        "def get_age(employee):\n",
        "    return employee.get('age')\n",
        "\n",
        "\n",
        "def get_salary(employee):\n",
        "    return employee.get('salary')\n",
        "\n",
        "\n",
        "# sort by name (Ascending order)\n",
        "employees.sort(key=get_name)\n",
        "print(employees, end='\\n\\n')\n",
        "\n",
        "# sort by Age (Ascending order)\n",
        "employees.sort(key=get_age)\n",
        "print(employees, end='\\n\\n')\n",
        "\n",
        "# sort by salary (Descending order)\n",
        "employees.sort(key=get_salary, reverse=True)\n",
        "print(employees, end='\\n\\n')"
      ],
      "execution_count": null,
      "outputs": [
        {
          "output_type": "stream",
          "text": [
            "[{'Name': 'Alan Turing', 'age': 25, 'salary': 10000}, {'Name': 'John Hopkins', 'age': 18, 'salary': 1000}, {'Name': 'Mikhail Tal', 'age': 40, 'salary': 15000}, {'Name': 'Sharon Lin', 'age': 30, 'salary': 8000}]\n",
            "\n",
            "[{'Name': 'John Hopkins', 'age': 18, 'salary': 1000}, {'Name': 'Alan Turing', 'age': 25, 'salary': 10000}, {'Name': 'Sharon Lin', 'age': 30, 'salary': 8000}, {'Name': 'Mikhail Tal', 'age': 40, 'salary': 15000}]\n",
            "\n",
            "[{'Name': 'Mikhail Tal', 'age': 40, 'salary': 15000}, {'Name': 'Alan Turing', 'age': 25, 'salary': 10000}, {'Name': 'Sharon Lin', 'age': 30, 'salary': 8000}, {'Name': 'John Hopkins', 'age': 18, 'salary': 1000}]\n",
            "\n"
          ],
          "name": "stdout"
        }
      ]
    },
    {
      "cell_type": "markdown",
      "metadata": {
        "id": "sR3Rjfh2WI3k"
      },
      "source": [
        "Here, for the first case, our custom function returns the name of each employee. Since the name is a string, Python by default sorts it using the alphabetical order.\n",
        "\n",
        "For the second case, age (int) is returned and is sorted in ascending order.\n",
        "\n",
        "For the third case, the function returns the salary (int), and is sorted in the descending order using reverse = True.\n",
        "\n",
        "It is a good practice to use the lambda function when the function can be summarized in one line. So, we can also write the above program as:"
      ]
    },
    {
      "cell_type": "code",
      "metadata": {
        "id": "ueHnOPSkWO8n"
      },
      "source": [
        "# sorting using custom key\n",
        "employees = [\n",
        "    {'Name': 'Alan Turing', 'age': 25, 'salary': 10000},\n",
        "    {'Name': 'Sharon Lin', 'age': 30, 'salary': 8000},\n",
        "    {'Name': 'John Hopkins', 'age': 18, 'salary': 1000},\n",
        "    {'Name': 'Mikhail Tal', 'age': 40, 'salary': 15000},\n",
        "]\n",
        "\n",
        "# sort by name (Ascending order)\n",
        "employees.sort(key=lambda x: x.get('Name'))\n",
        "print(employees, end='\\n\\n')\n",
        "\n",
        "# sort by Age (Ascending order)\n",
        "employees.sort(key=lambda x: x.get('age'))\n",
        "print(employees, end='\\n\\n')\n",
        "\n",
        "# sort by salary (Descending order)\n",
        "employees.sort(key=lambda x: x.get('salary'), reverse=True)\n",
        "print(employees, end='\\n\\n')"
      ],
      "execution_count": null,
      "outputs": []
    },
    {
      "cell_type": "markdown",
      "metadata": {
        "id": "L08QkrZhWU3x"
      },
      "source": [
        "To learn more about lambda functions, visit Python Lambda Functions. [link text](https://www.programiz.com/python-programming/anonymous-function)"
      ]
    },
    {
      "cell_type": "markdown",
      "metadata": {
        "id": "EZTvuC_KW5TQ"
      },
      "source": [
        "**How to Use sorted() and sort() in Python**  [link text](https://realpython.com/python-sort/)  [link text](https://discuss.codecademy.com/t/what-is-the-difference-between-sort-and-sorted/349679)"
      ]
    },
    {
      "cell_type": "markdown",
      "metadata": {
        "id": "JveHvmdlY12u"
      },
      "source": [
        "The primary difference between the list sort() function and the sorted() function is that the sort() function will modify the list it is called on. The sorted() function will create a new list containing a sorted version of the list it is given. The sorted() function will not modify the list passed as a parameter. If you want to sort a list but still have the original unsorted version, then you would use the sorted() function. If maintaining the original order of the list is unimportant, then you can call the sort() function on the list."
      ]
    },
    {
      "cell_type": "code",
      "metadata": {
        "colab": {
          "base_uri": "https://localhost:8080/"
        },
        "id": "0xDCYXNpXKk-",
        "outputId": "59c83b08-3952-4a40-a4e2-6fffd784d02b"
      },
      "source": [
        "numbers = [6, 9, 3, 1]\n",
        "\n",
        "print(sorted(numbers))\n",
        "# [1, 3, 6, 9]\n",
        "\n",
        "print(numbers.sort())  \n",
        "# gives None\n",
        "\n",
        "print(numbers)\n",
        "# [6, 9, 3, 1]"
      ],
      "execution_count": null,
      "outputs": [
        {
          "output_type": "stream",
          "text": [
            "[1, 3, 6, 9]\n",
            "None\n",
            "[1, 3, 6, 9]\n"
          ],
          "name": "stdout"
        }
      ]
    },
    {
      "cell_type": "markdown",
      "metadata": {
        "id": "GNooslSDWbwP"
      },
      "source": [
        "The output from this code is a new, sorted list. When the original variable is printed, the initial values are unchanged."
      ]
    },
    {
      "cell_type": "markdown",
      "metadata": {
        "id": "7Flds5JsY-NV"
      },
      "source": [
        "A second important difference is that the sorted() function will return a list so you must assign the returned data to a new variable. The sort() function modifies the list in-place and has no return value."
      ]
    },
    {
      "cell_type": "code",
      "metadata": {
        "colab": {
          "base_uri": "https://localhost:8080/"
        },
        "id": "9Ou89G82X4xG",
        "outputId": "0586e60c-477e-46d1-a027-0d50b02af0c0"
      },
      "source": [
        "numbers = [6, 9, 3, 1]\n",
        "\n",
        "numbers_sorted = sorted(numbers)\n",
        "\n",
        "print(numbers_sorted)\n",
        "# [1, 3, 6, 9]\n",
        "\n",
        "print(numbers)\n",
        "# [6, 9, 3, 1]"
      ],
      "execution_count": null,
      "outputs": [
        {
          "output_type": "stream",
          "text": [
            "[1, 3, 6, 9]\n",
            "[6, 9, 3, 1]\n"
          ],
          "name": "stdout"
        }
      ]
    },
    {
      "cell_type": "markdown",
      "metadata": {
        "id": "IhurhqdSZLft"
      },
      "source": [
        "The example below shows the difference in behavior between sort() and sorted(). After being passed to sorted(), the vegetables list remains unchanged. Once the sort() function is called on it, the list is updated.\n"
      ]
    },
    {
      "cell_type": "code",
      "metadata": {
        "colab": {
          "base_uri": "https://localhost:8080/"
        },
        "id": "Us9SNXToZIiI",
        "outputId": "5a80d3a5-4c25-454e-ee42-9ff0032a40f1"
      },
      "source": [
        "vegetables = ['squash', 'pea', 'carrot', 'potato']\n",
        "\n",
        "new_list = sorted(vegetables)\n",
        "\n",
        "# new_list = ['carrot', 'pea', 'potato', 'squash']\n",
        "print(new_list)\n",
        "\n",
        "# vegetables = ['squash', 'pea', 'carrot', 'potato']\n",
        "print(vegetables)\n",
        "\n",
        "vegetables.sort()\n",
        "\n",
        "# vegetables = ['carrot', 'pea', 'potato', 'squash']\n",
        "print(vegetables)"
      ],
      "execution_count": null,
      "outputs": [
        {
          "output_type": "stream",
          "text": [
            "['carrot', 'pea', 'potato', 'squash']\n",
            "['squash', 'pea', 'carrot', 'potato']\n",
            "['carrot', 'pea', 'potato', 'squash']\n"
          ],
          "name": "stdout"
        }
      ]
    }
  ]
}