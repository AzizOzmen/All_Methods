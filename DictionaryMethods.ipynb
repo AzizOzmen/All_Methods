{
  "nbformat": 4,
  "nbformat_minor": 0,
  "metadata": {
    "colab": {
      "name": "DictionaryMethods.ipynb",
      "provenance": [],
      "authorship_tag": "ABX9TyOTkbkdRFddpGHXzPwRcRQq",
      "include_colab_link": true
    },
    "kernelspec": {
      "name": "python3",
      "display_name": "Python 3"
    },
    "language_info": {
      "name": "python"
    }
  },
  "cells": [
    {
      "cell_type": "markdown",
      "metadata": {
        "id": "view-in-github",
        "colab_type": "text"
      },
      "source": [
        "<a href=\"https://colab.research.google.com/github/AzizOzmen/All_Methods/blob/main/DictionaryMethods.ipynb\" target=\"_parent\"><img src=\"https://colab.research.google.com/assets/colab-badge.svg\" alt=\"Open In Colab\"/></a>"
      ]
    },
    {
      "cell_type": "markdown",
      "metadata": {
        "id": "z5iRXDYwhQwq"
      },
      "source": [
        "**Python has a set of built-in methods that you can use on dictionaries.** [link text](https://www.w3schools.com/python/python_ref_dictionary.asp)  [link text](https://www.programiz.com/python-programming/methods/dictionary)\n",
        "\n",
        "**clear()**\tRemoves all the elements from the dictionary\n",
        "\n",
        "**copy()**\tReturns a copy of the dictionary\n",
        "\n",
        "**fromkeys()**\tReturns a dictionary with the specified keys and value\n",
        "\n",
        "**get()**\tReturns the value of the specified key\n",
        "\n",
        "**items()**\tReturns a list containing a tuple for each key value pair\n",
        "\n",
        "**keys()**\tReturns a list containing the dictionary's keys\n",
        "\n",
        "**pop()**\tRemoves the element with the specified key\n",
        "\n",
        "**popitem()**\tRemoves the last inserted key-value pair\n",
        "\n",
        "**setdefault()**\tReturns the value of the specified key. If the key does not exist: insert the key, with the specified value\n",
        "\n",
        "**update()**\tUpdates the dictionary with the specified key-value pairs\n",
        "\n",
        "**values()**\tReturns a list of all the values in the dictionary"
      ]
    },
    {
      "cell_type": "markdown",
      "metadata": {
        "id": "dec2vOGDsrSe"
      },
      "source": [
        "# **clear()**"
      ]
    },
    {
      "cell_type": "markdown",
      "metadata": {
        "id": "DqlUVPUtsiD4"
      },
      "source": [
        "**Definition and Usage**\n",
        "\n",
        "The clear() method removes all the elements from a dictionary.\n",
        "\n",
        "**Syntax:** dictionary.clear()\n",
        "\n",
        "**Parameter Values**\n",
        "\n",
        "No parameters"
      ]
    },
    {
      "cell_type": "markdown",
      "metadata": {
        "id": "hAPfO7UJtMTP"
      },
      "source": [
        "clear() method doesn't return any value (returns None)."
      ]
    },
    {
      "cell_type": "code",
      "metadata": {
        "colab": {
          "base_uri": "https://localhost:8080/"
        },
        "id": "1Q_OflrohF70",
        "outputId": "732174e0-30db-4938-ee74-a138d5e6bec2"
      },
      "source": [
        "# Remove all elements from the car dictionary:\n",
        "\n",
        "car = {\n",
        "  \"brand\": \"Ford\",\n",
        "  \"model\": \"Mustang\",\n",
        "  \"year\": 1964\n",
        "}\n",
        "\n",
        "car.clear()\n",
        "\n",
        "print(car)\n",
        "print(car.clear())"
      ],
      "execution_count": null,
      "outputs": [
        {
          "output_type": "stream",
          "text": [
            "{}\n",
            "None\n"
          ],
          "name": "stdout"
        }
      ]
    },
    {
      "cell_type": "code",
      "metadata": {
        "colab": {
          "base_uri": "https://localhost:8080/"
        },
        "id": "4znfyfmMxiIp",
        "outputId": "cad674e7-d8a6-49c7-82f7-dc46f51a69d1"
      },
      "source": [
        "d = {1: \"one\", 2: \"two\"}\n",
        "\n",
        "d.clear()\n",
        "print('d =', d)"
      ],
      "execution_count": null,
      "outputs": [
        {
          "output_type": "stream",
          "text": [
            "d = {}\n"
          ],
          "name": "stdout"
        }
      ]
    },
    {
      "cell_type": "markdown",
      "metadata": {
        "id": "vPCCc7zYxtFU"
      },
      "source": [
        "# **copy()**"
      ]
    },
    {
      "cell_type": "markdown",
      "metadata": {
        "id": "7unPFIhVxwra"
      },
      "source": [
        "**Definition and Usage**\n",
        "\n",
        "The copy() method returns a copy of the specified dictionary.\n",
        "\n",
        "**Syntax:** dictionary.copy()\n",
        "\n",
        "**Parameter Values**\n",
        "\n",
        "No parameters"
      ]
    },
    {
      "cell_type": "markdown",
      "metadata": {
        "id": "nAuQYfSHyCtb"
      },
      "source": [
        "This method returns a shallow copy of the dictionary. It doesn't modify the original dictionary."
      ]
    },
    {
      "cell_type": "code",
      "metadata": {
        "colab": {
          "base_uri": "https://localhost:8080/"
        },
        "id": "Adaor_rux6b1",
        "outputId": "f793001a-7810-4a3f-a3d3-c90641e323f6"
      },
      "source": [
        "car = {\n",
        "  \"brand\": \"Ford\",\n",
        "  \"model\": \"Mustang\",\n",
        "  \"year\": 1964\n",
        "}\n",
        "\n",
        "x = car.copy()\n",
        "\n",
        "print(x)"
      ],
      "execution_count": null,
      "outputs": [
        {
          "output_type": "stream",
          "text": [
            "{'brand': 'Ford', 'model': 'Mustang', 'year': 1964}\n"
          ],
          "name": "stdout"
        }
      ]
    },
    {
      "cell_type": "code",
      "metadata": {
        "colab": {
          "base_uri": "https://localhost:8080/"
        },
        "id": "BcW8II6fyHKL",
        "outputId": "c9265e94-389b-4206-aac0-a87e55006433"
      },
      "source": [
        "original = {1:'one', 2:'two'}\n",
        "new = original.copy()\n",
        "\n",
        "print('Orignal: ', original)\n",
        "print('New: ', new)\n",
        "print(\"Shallow copy of original :\", original.copy())  # shallow copy of original"
      ],
      "execution_count": null,
      "outputs": [
        {
          "output_type": "stream",
          "text": [
            "Orignal:  {1: 'one', 2: 'two'}\n",
            "New:  {1: 'one', 2: 'two'}\n",
            "Shallow copy of original : {1: 'one', 2: 'two'}\n"
          ],
          "name": "stdout"
        }
      ]
    },
    {
      "cell_type": "markdown",
      "metadata": {
        "id": "tRf1WUqryyv3"
      },
      "source": [
        "**Difference in Using copy() method, and = Operator to Copy Dictionaries**"
      ]
    },
    {
      "cell_type": "markdown",
      "metadata": {
        "id": "hK086voayGxl"
      },
      "source": [
        "When **copy()** method is used, **a new dictionary is created** which is filled with a copy of the references from the original dictionary.\n",
        "\n",
        "When **= operator** is used, **a new reference to the original dictionary is created**."
      ]
    },
    {
      "cell_type": "markdown",
      "metadata": {
        "id": "HVfzDW_t6xsE"
      },
      "source": [
        "**Using = Operator to Copy Dictionaries**"
      ]
    },
    {
      "cell_type": "code",
      "metadata": {
        "colab": {
          "base_uri": "https://localhost:8080/"
        },
        "id": "oycddwC7y-CX",
        "outputId": "8ba134a3-ed1d-4460-c66b-1b638236227b"
      },
      "source": [
        "original = {1:'one', 2:'two'}\n",
        "new = original\n",
        "\n",
        "# removing all elements from the list\n",
        "new.clear()\n",
        "# original.clear()\n",
        "\n",
        "print('new: ', new)\n",
        "print('original: ', original)\n",
        "print(id(original))\n",
        "print(id(new))"
      ],
      "execution_count": null,
      "outputs": [
        {
          "output_type": "stream",
          "text": [
            "new:  {}\n",
            "original:  {}\n",
            "140246626145296\n",
            "140246626145296\n"
          ],
          "name": "stdout"
        }
      ]
    },
    {
      "cell_type": "markdown",
      "metadata": {
        "id": "G8esDdYE52c4"
      },
      "source": [
        "Here, when new dictionary is cleared, original dictionary is also cleared."
      ]
    },
    {
      "cell_type": "markdown",
      "metadata": {
        "id": "bfL8e9DI6qdJ"
      },
      "source": [
        "**Using copy() to Copy Dictionaries**"
      ]
    },
    {
      "cell_type": "code",
      "metadata": {
        "colab": {
          "base_uri": "https://localhost:8080/"
        },
        "id": "oP14rs686mgM",
        "outputId": "a8fd3306-4d75-4548-de34-c66e8505a4af"
      },
      "source": [
        "original = {1:'one', 2:'two'}\n",
        "new = original.copy()\n",
        "\n",
        "# removing all elements from the list\n",
        "new.clear()\n",
        "\n",
        "print('new: ', new)\n",
        "print('original: ', original)\n",
        "print(id(original))\n",
        "print(id(new))"
      ],
      "execution_count": null,
      "outputs": [
        {
          "output_type": "stream",
          "text": [
            "new:  {}\n",
            "original:  {1: 'one', 2: 'two'}\n",
            "140246626139584\n",
            "140246626137344\n"
          ],
          "name": "stdout"
        }
      ]
    },
    {
      "cell_type": "markdown",
      "metadata": {
        "id": "OofrL8Td63Lg"
      },
      "source": [
        "Here, when new dictionary is cleared, original dictionary remains unchanged."
      ]
    },
    {
      "cell_type": "markdown",
      "metadata": {
        "id": "FZN4lzfo7SHg"
      },
      "source": [
        "# **fromkeys()**"
      ]
    },
    {
      "cell_type": "markdown",
      "metadata": {
        "id": "lhVEAXig7R3w"
      },
      "source": [
        "**Definition and Usage**\n",
        "\n",
        "The fromkeys() method returns a dictionary with the specified keys and the specified value.\n",
        "\n",
        "**Syntax:** dict.fromkeys(keys, value)\n",
        "\n",
        "**Parameter Values**\n",
        "\n",
        "**keys\tRequired**. An iterable specifying the keys of the new dictionary\n",
        "\n",
        "**value\tOptional**. The value for all keys. Default value is None"
      ]
    },
    {
      "cell_type": "code",
      "metadata": {
        "colab": {
          "base_uri": "https://localhost:8080/"
        },
        "id": "CWJF-mzU7kil",
        "outputId": "a1d06ae8-5c52-4bdf-dabf-cc30c05f54ee"
      },
      "source": [
        "# Create a dictionary with 3 keys, all with the value 0:\n",
        "\n",
        "x = ('key1', 'key2', 'key3')\n",
        "y = 0\n",
        "\n",
        "thisdict = dict.fromkeys(x, y)\n",
        "\n",
        "print(thisdict)\n",
        "print(dict.fromkeys(x, y))"
      ],
      "execution_count": null,
      "outputs": [
        {
          "output_type": "stream",
          "text": [
            "{'key1': 0, 'key2': 0, 'key3': 0}\n",
            "{'key1': 0, 'key2': 0, 'key3': 0}\n"
          ],
          "name": "stdout"
        }
      ]
    },
    {
      "cell_type": "code",
      "metadata": {
        "colab": {
          "base_uri": "https://localhost:8080/"
        },
        "id": "IrPO56i48Mz4",
        "outputId": "4ab2120d-85cd-4802-f479-770fffceb492"
      },
      "source": [
        "# Same example as above, but without specifying the value:\n",
        "\n",
        "x = ('key1', 'key2', 'key3')\n",
        "\n",
        "thisdict = dict.fromkeys(x)\n",
        "\n",
        "print(thisdict)"
      ],
      "execution_count": null,
      "outputs": [
        {
          "output_type": "stream",
          "text": [
            "{'key1': None, 'key2': None, 'key3': None}\n"
          ],
          "name": "stdout"
        }
      ]
    },
    {
      "cell_type": "code",
      "metadata": {
        "id": "D_NiiTAb8fsn"
      },
      "source": [
        "dictionary.fromkeys(sequence[, value])"
      ],
      "execution_count": null,
      "outputs": []
    },
    {
      "cell_type": "markdown",
      "metadata": {
        "id": "yvZuMsnF8jM5"
      },
      "source": [
        "fromkeys() method takes two parameters:\n",
        "\n",
        "sequence - sequence of elements which is to be used as keys for the new dictionary\n",
        "value (Optional) - value which is set to each each element of the dictionary"
      ]
    },
    {
      "cell_type": "markdown",
      "metadata": {
        "id": "TyokCiFZ9GDY"
      },
      "source": [
        "fromkeys() method returns a new dictionary with the given sequence of elements as the keys of the dictionary.\n",
        "\n",
        "If the value argument is set, each element of the newly created dictionary is set to the provided value."
      ]
    },
    {
      "cell_type": "code",
      "metadata": {
        "colab": {
          "base_uri": "https://localhost:8080/"
        },
        "id": "Vmue7bi38vfS",
        "outputId": "943e93cc-79d6-46a3-ae06-33fdfc07b7d5"
      },
      "source": [
        "# Create a dictionary from a sequence of keys\n",
        "\n",
        "# vowels keys\n",
        "keys = {'a', 'e', 'i', 'o', 'u' }\n",
        "\n",
        "vowels = dict.fromkeys(keys)\n",
        "print(vowels)"
      ],
      "execution_count": null,
      "outputs": [
        {
          "output_type": "stream",
          "text": [
            "{'e': None, 'i': None, 'u': None, 'a': None, 'o': None}\n"
          ],
          "name": "stdout"
        }
      ]
    },
    {
      "cell_type": "code",
      "metadata": {
        "colab": {
          "base_uri": "https://localhost:8080/"
        },
        "id": "E9jHHc3E9Up-",
        "outputId": "f357962f-519f-4a72-b327-ee3175a98eeb"
      },
      "source": [
        "# Create a dictionary from a sequence of keys with value\n",
        "\n",
        "# vowels keys\n",
        "keys = {'a', 'e', 'i', 'o', 'u' }\n",
        "value = 'vowel'\n",
        "\n",
        "vowels = dict.fromkeys(keys, value)\n",
        "print(vowels)"
      ],
      "execution_count": null,
      "outputs": [
        {
          "output_type": "stream",
          "text": [
            "{'e': 'vowel', 'i': 'vowel', 'u': 'vowel', 'a': 'vowel', 'o': 'vowel'}\n"
          ],
          "name": "stdout"
        }
      ]
    },
    {
      "cell_type": "code",
      "metadata": {
        "colab": {
          "base_uri": "https://localhost:8080/"
        },
        "id": "a3lHGImn9cC6",
        "outputId": "02782e1f-303d-4470-9242-5d79dc898b0a"
      },
      "source": [
        "# Create a dictionary from mutable object list\n",
        "\n",
        "# vowels keys\n",
        "keys = {'a', 'e', 'i', 'o', 'u' }\n",
        "value = [1]\n",
        "\n",
        "vowels = dict.fromkeys(keys, value)\n",
        "print(vowels)\n",
        "\n",
        "# updating the value\n",
        "value.append(2)\n",
        "print(vowels)"
      ],
      "execution_count": null,
      "outputs": [
        {
          "output_type": "stream",
          "text": [
            "{'e': [1], 'i': [1], 'u': [1], 'a': [1], 'o': [1]}\n",
            "{'e': [1, 2], 'i': [1, 2], 'u': [1, 2], 'a': [1, 2], 'o': [1, 2]}\n"
          ],
          "name": "stdout"
        }
      ]
    },
    {
      "cell_type": "markdown",
      "metadata": {
        "id": "bLWcpUC89wL3"
      },
      "source": [
        "If value is a mutable object (whose value can be modified) like list, dictionary, etc., when the mutable object is modified, each element of the sequence also gets updated.\n",
        "\n",
        "This is because each element is assigned a reference to the same object (points to the same object in the memory).\n",
        "\n",
        "To avoid this issue, we use dictionary comprehension."
      ]
    },
    {
      "cell_type": "code",
      "metadata": {
        "colab": {
          "base_uri": "https://localhost:8080/"
        },
        "id": "Yc7WvDmY94cD",
        "outputId": "fef75e4e-16c0-4ee0-f850-ec9651ddcef0"
      },
      "source": [
        "# vowels keys\n",
        "keys = {'a', 'e', 'i', 'o', 'u' }\n",
        "value = [1]\n",
        "\n",
        "vowels = { key : list(value) for key in keys }\n",
        "# you can also use { key : value[:] for key in keys }\n",
        "print(vowels)\n",
        "\n",
        "# updating the value\n",
        "value.append(2)\n",
        "print(vowels)"
      ],
      "execution_count": null,
      "outputs": [
        {
          "output_type": "stream",
          "text": [
            "{'e': [1], 'i': [1], 'u': [1], 'a': [1], 'o': [1]}\n",
            "{'e': [1], 'i': [1], 'u': [1], 'a': [1], 'o': [1]}\n"
          ],
          "name": "stdout"
        }
      ]
    },
    {
      "cell_type": "markdown",
      "metadata": {
        "id": "JqPaS3U_-ZZq"
      },
      "source": [
        "Here, for each key in keys, a new list from value is created and assigned to it.\n",
        "\n",
        "In essence, value isn't assigned to the element but a new list is created from it, which is then assigned to each element in the dictionary."
      ]
    },
    {
      "cell_type": "markdown",
      "metadata": {
        "id": "aJi4eTNl-4j7"
      },
      "source": [
        "# **get()**"
      ]
    },
    {
      "cell_type": "markdown",
      "metadata": {
        "id": "r2mhV2at-7Xn"
      },
      "source": [
        "**Definition and Usage**\n",
        "\n",
        "The get() method returns the value of the item with the specified key.\n",
        "\n",
        "**Syntax:** dictionary.get(keyname, value)\n",
        "\n",
        "**Parameter Values**\n",
        "\n",
        "**keyname\tRequired**. The keyname of the item you want to return the value from\n",
        "\n",
        "**value\tOptional**. A value to return if the specified key does not exist.\n",
        "Default value None"
      ]
    },
    {
      "cell_type": "code",
      "metadata": {
        "colab": {
          "base_uri": "https://localhost:8080/"
        },
        "id": "y_8PhQHO_H9N",
        "outputId": "c242f447-2e27-4f76-e138-52ecbc540e53"
      },
      "source": [
        "# Get the value of the \"model\" item:\n",
        "\n",
        "car = {\n",
        "  \"brand\": \"Ford\",\n",
        "  \"model\": \"Mustang\",\n",
        "  \"year\": 1964\n",
        "}\n",
        "\n",
        "x = car.get(\"model\")\n",
        "\n",
        "print(x)\n",
        "print(car.get(\"model\"))"
      ],
      "execution_count": null,
      "outputs": [
        {
          "output_type": "stream",
          "text": [
            "Mustang\n",
            "Mustang\n"
          ],
          "name": "stdout"
        }
      ]
    },
    {
      "cell_type": "markdown",
      "metadata": {
        "id": "nIyNxU6f_3mS"
      },
      "source": [
        "get() method takes maximum of two parameters:\n",
        "\n",
        "key - key to be searched in the dictionary\n",
        "\n",
        "value (optional) - **Value** to be returned if the key is **not found**. The default value is **None**."
      ]
    },
    {
      "cell_type": "code",
      "metadata": {
        "colab": {
          "base_uri": "https://localhost:8080/"
        },
        "id": "wwjY0Gcl_j-0",
        "outputId": "2fc66bfc-c8c4-4e0f-eec1-ef6cd3fbf5d2"
      },
      "source": [
        "# Try to return the value of an item that do not exist:\n",
        "\n",
        "car = {\n",
        "  \"brand\": \"Ford\",\n",
        "  \"model\": \"Mustang\",\n",
        "  \"year\": 1964\n",
        "}\n",
        "\n",
        "x = car.get(\"price\", 15000)\n",
        "\n",
        "print(x)\n",
        "print(car.get(\"price\"))"
      ],
      "execution_count": null,
      "outputs": [
        {
          "output_type": "stream",
          "text": [
            "15000\n",
            "None\n"
          ],
          "name": "stdout"
        }
      ]
    },
    {
      "cell_type": "markdown",
      "metadata": {
        "id": "vE1egR7CANUV"
      },
      "source": [
        "get() method returns:\n",
        "\n",
        "the value for the specified key if key is in dictionary.\n",
        "\n",
        "None if the key is not found and value is not specified.\n",
        "\n",
        "value if the key is not found and value is specified."
      ]
    },
    {
      "cell_type": "code",
      "metadata": {
        "colab": {
          "base_uri": "https://localhost:8080/"
        },
        "id": "s2W_W_YdAPVF",
        "outputId": "6edd669e-dfd1-420a-bbc0-774dd3042a30"
      },
      "source": [
        "person = {'name': 'Phill', 'age': 22}\n",
        "\n",
        "print('Name: ', person.get('name'))\n",
        "print('Age: ', person.get('age'))\n",
        "\n",
        "# value is not provided\n",
        "print('Salary: ', person.get('salary'))\n",
        "\n",
        "# value is provided\n",
        "print('Salary: ', person.get('salary', 0.0))"
      ],
      "execution_count": null,
      "outputs": [
        {
          "output_type": "stream",
          "text": [
            "Name:  Phill\n",
            "Age:  22\n",
            "Salary:  None\n",
            "Salary:  0.0\n"
          ],
          "name": "stdout"
        }
      ]
    },
    {
      "cell_type": "markdown",
      "metadata": {
        "id": "Smo6V2pBAojO"
      },
      "source": [
        "**Python get() method Vs dict[key] to Access Elements**"
      ]
    },
    {
      "cell_type": "markdown",
      "metadata": {
        "id": "-RzcfpHvAnzO"
      },
      "source": [
        "get() method returns a default value if the key is missing.\n",
        "\n",
        "However, if the key is not found when you use dict[key], KeyError exception is raised."
      ]
    },
    {
      "cell_type": "code",
      "metadata": {
        "id": "LO1M6z7IA__0"
      },
      "source": [
        "person = {}\n",
        "\n",
        "# Using get() results in None\n",
        "print('Salary: ', person.get('salary'))\n",
        "\n",
        "# Using [] results in KeyError\n",
        "print(person['salary'])  # gives KeyError: 'salary'"
      ],
      "execution_count": null,
      "outputs": []
    },
    {
      "cell_type": "markdown",
      "metadata": {
        "id": "lTo9kXPlBaAb"
      },
      "source": [
        "# **items()**"
      ]
    },
    {
      "cell_type": "markdown",
      "metadata": {
        "id": "pdXyHATQBS7y"
      },
      "source": [
        "**Definition and Usage**\n",
        "\n",
        "The items() method returns a view object. The view object contains the key-value pairs of the dictionary, as tuples in a list.\n",
        "\n",
        "The view object will reflect any changes done to the dictionary, see example below.\n",
        "\n",
        "**Syntax:** dictionary.items()\n",
        "\n",
        "**Parameter Values**\n",
        "\n",
        "No parameters"
      ]
    },
    {
      "cell_type": "markdown",
      "metadata": {
        "id": "DHMNgyvlCO63"
      },
      "source": [
        "items() method returns a view object that displays a list of a given dictionary's (key, value) tuple pair."
      ]
    },
    {
      "cell_type": "code",
      "metadata": {
        "colab": {
          "base_uri": "https://localhost:8080/"
        },
        "id": "x8LEqDvTBdQF",
        "outputId": "60b67b9e-c35f-4719-dcd9-66d6b21adb39"
      },
      "source": [
        "# Return the dictionary's key-value pairs:\n",
        "\n",
        "car = {\n",
        "  \"brand\": \"Ford\",\n",
        "  \"model\": \"Mustang\",\n",
        "  \"year\": 1964\n",
        "}\n",
        "\n",
        "x = car.items()\n",
        "\n",
        "print(x)\n",
        "print(car.items())"
      ],
      "execution_count": null,
      "outputs": [
        {
          "output_type": "stream",
          "text": [
            "dict_items([('brand', 'Ford'), ('model', 'Mustang'), ('year', 1964)])\n",
            "dict_items([('brand', 'Ford'), ('model', 'Mustang'), ('year', 1964)])\n"
          ],
          "name": "stdout"
        }
      ]
    },
    {
      "cell_type": "code",
      "metadata": {
        "colab": {
          "base_uri": "https://localhost:8080/"
        },
        "id": "yK1gMpssBdvT",
        "outputId": "5c536c49-0513-485f-b860-d58fa71b8444"
      },
      "source": [
        "# When an item in the dictionary changes value, the view object also gets updated:\n",
        "\n",
        "car = {\n",
        "  \"brand\": \"Ford\",\n",
        "  \"model\": \"Mustang\",\n",
        "  \"year\": 1964\n",
        "}\n",
        "\n",
        "x = car.items()\n",
        "\n",
        "car[\"year\"] = 2018\n",
        "\n",
        "print(x)\n",
        "print(car.items())"
      ],
      "execution_count": null,
      "outputs": [
        {
          "output_type": "stream",
          "text": [
            "dict_items([('brand', 'Ford'), ('model', 'Mustang'), ('year', 2018)])\n",
            "dict_items([('brand', 'Ford'), ('model', 'Mustang'), ('year', 2018)])\n"
          ],
          "name": "stdout"
        }
      ]
    },
    {
      "cell_type": "code",
      "metadata": {
        "colab": {
          "base_uri": "https://localhost:8080/"
        },
        "id": "egR7f_NzCV6K",
        "outputId": "a9c1c2f8-dd43-4b8c-fa36-39736f4628c7"
      },
      "source": [
        "# random sales dictionary\n",
        "sales = { 'apple': 2, 'orange': 3, 'grapes': 4 }\n",
        "\n",
        "print(sales.items())"
      ],
      "execution_count": null,
      "outputs": [
        {
          "output_type": "stream",
          "text": [
            "dict_items([('apple', 2), ('orange', 3), ('grapes', 4)])\n"
          ],
          "name": "stdout"
        }
      ]
    },
    {
      "cell_type": "markdown",
      "metadata": {
        "id": "BayJh_oeCh0g"
      },
      "source": [
        "**How items() works when a dictionary is modified?**"
      ]
    },
    {
      "cell_type": "code",
      "metadata": {
        "colab": {
          "base_uri": "https://localhost:8080/"
        },
        "id": "usYg_qG4CgJg",
        "outputId": "a29bc8c1-f464-4684-bad0-bc0d643cf979"
      },
      "source": [
        "# random sales dictionary\n",
        "sales = { 'apple': 2, 'orange': 3, 'grapes': 4 }\n",
        "\n",
        "items = sales.items()\n",
        "print('Original items:', items)\n",
        "print(sales.items())\n",
        "\n",
        "# delete an item from dictionary\n",
        "del[sales['apple']]\n",
        "print('Updated items:', items)"
      ],
      "execution_count": null,
      "outputs": [
        {
          "output_type": "stream",
          "text": [
            "Original items: dict_items([('apple', 2), ('orange', 3), ('grapes', 4)])\n",
            "dict_items([('apple', 2), ('orange', 3), ('grapes', 4)])\n",
            "Updated items: dict_items([('orange', 3), ('grapes', 4)])\n"
          ],
          "name": "stdout"
        }
      ]
    },
    {
      "cell_type": "markdown",
      "metadata": {
        "id": "ydR8K9Z0CooH"
      },
      "source": [
        "The view object items doesn't itself return a list of sales items but it returns a view of sales's (key, value) pair.\n",
        "\n",
        "If the list is updated at any time, the changes are reflected on the view object itself, as shown in the above program."
      ]
    },
    {
      "cell_type": "markdown",
      "metadata": {
        "id": "IlPlFzVYDb49"
      },
      "source": [
        "# **pop()**"
      ]
    },
    {
      "cell_type": "markdown",
      "metadata": {
        "id": "59xsuxEvDRCt"
      },
      "source": [
        "**Definition and Usage**\n",
        "\n",
        "The pop() method removes the specified item from the dictionary.\n",
        "\n",
        "The value of the removed item is the return value of the pop() method, see example below.\n",
        "\n",
        "**Syntax:** dictionary.pop(keyname, defaultvalue)\n",
        "\n",
        "**Parameter Values**\n",
        "\n",
        "**keyname\tRequired**. The keyname of the item you want to remove\n",
        "defaultvalue\tOptional. A value to return if the specified key do not exist.\n",
        "\n",
        "If this parameter is not specified, and the no item with the specified key is found, an error is raised"
      ]
    },
    {
      "cell_type": "code",
      "metadata": {
        "colab": {
          "base_uri": "https://localhost:8080/"
        },
        "id": "05lPHn97DlQq",
        "outputId": "60fc5852-3df2-43d5-e62b-b1053aa451cc"
      },
      "source": [
        "# Remove \"model\" from the dictionary:\n",
        "\n",
        "car = {\n",
        "  \"brand\": \"Ford\",\n",
        "  \"model\": \"Mustang\",\n",
        "  \"year\": 1964\n",
        "}\n",
        "\n",
        "car.pop(\"model\")\n",
        "\n",
        "print(car)\n",
        "# print(car.pop(\"model\"))  # KeyError: 'model'"
      ],
      "execution_count": null,
      "outputs": [
        {
          "output_type": "stream",
          "text": [
            "{'brand': 'Ford', 'year': 1964}\n"
          ],
          "name": "stdout"
        }
      ]
    },
    {
      "cell_type": "code",
      "metadata": {
        "colab": {
          "base_uri": "https://localhost:8080/"
        },
        "id": "5ASGsm_FD6xB",
        "outputId": "9580a051-0f18-4053-d1aa-a8926e07ecab"
      },
      "source": [
        "# The value of the removed item is the return value of the pop() method:\n",
        "\n",
        "car = {\n",
        "  \"brand\": \"Ford\",\n",
        "  \"model\": \"Mustang\",\n",
        "  \"year\": 1964\n",
        "}\n",
        "\n",
        "x = car.pop(\"model\")\n",
        "\n",
        "print(x)"
      ],
      "execution_count": null,
      "outputs": [
        {
          "output_type": "stream",
          "text": [
            "Mustang\n"
          ],
          "name": "stdout"
        }
      ]
    },
    {
      "cell_type": "markdown",
      "metadata": {
        "id": "l6ADWTa1FQAo"
      },
      "source": [
        "**The pop() method returns:**\n",
        "\n",
        "If key is found - removed/popped element from the dictionary\n",
        "\n",
        "If key is not found - value specified as the second argument (default)\n",
        "\n",
        "If key is not found and default argument is not specified - KeyError exception is raised"
      ]
    },
    {
      "cell_type": "markdown",
      "metadata": {
        "id": "M3te9H6sE1Uv"
      },
      "source": [
        "**Pop an element from the dictionary**"
      ]
    },
    {
      "cell_type": "code",
      "metadata": {
        "colab": {
          "base_uri": "https://localhost:8080/"
        },
        "id": "qaQPbIVPEa4b",
        "outputId": "83adf171-c3b0-485f-dca1-f0203d340b0b"
      },
      "source": [
        "# random sales dictionary\n",
        "sales = { 'apple': 2, 'orange': 3, 'grapes': 4 }\n",
        "\n",
        "element = sales.pop('apple')\n",
        "print('The popped element is:', element)\n",
        "print('The dictionary is:', sales)"
      ],
      "execution_count": null,
      "outputs": [
        {
          "output_type": "stream",
          "text": [
            "The popped element is: 2\n",
            "The dictionary is: {'orange': 3, 'grapes': 4}\n"
          ],
          "name": "stdout"
        }
      ]
    },
    {
      "cell_type": "markdown",
      "metadata": {
        "id": "6UMnriC3EueP"
      },
      "source": [
        "**Pop an element not present from the dictionary**"
      ]
    },
    {
      "cell_type": "code",
      "metadata": {
        "id": "dWlJanj8Elcv"
      },
      "source": [
        "# random sales dictionary\n",
        "sales = { 'apple': 2, 'orange': 3, 'grapes': 4 }\n",
        "\n",
        "element = sales.pop('guava')  # KeyError: 'guava'"
      ],
      "execution_count": null,
      "outputs": []
    },
    {
      "cell_type": "markdown",
      "metadata": {
        "id": "PBzCo_CyFCqJ"
      },
      "source": [
        "**Pop an element not present from the dictionary, provided a default value**"
      ]
    },
    {
      "cell_type": "code",
      "metadata": {
        "colab": {
          "base_uri": "https://localhost:8080/"
        },
        "id": "q-zCpeewFBGV",
        "outputId": "23e53d71-240c-4a7a-a5e0-496aebe71069"
      },
      "source": [
        "# random sales dictionary\n",
        "sales = { 'apple': 2, 'orange': 3, 'grapes': 4 }\n",
        "\n",
        "element = sales.pop('guava', 'banana')\n",
        "print('The popped element is:', element)\n",
        "print('The dictionary is:', sales)"
      ],
      "execution_count": null,
      "outputs": [
        {
          "output_type": "stream",
          "text": [
            "The popped element is: banana\n",
            "The dictionary is: {'apple': 2, 'orange': 3, 'grapes': 4}\n"
          ],
          "name": "stdout"
        }
      ]
    },
    {
      "cell_type": "markdown",
      "metadata": {
        "id": "Nl7_gaUSTqbO"
      },
      "source": [
        "# **popitem()**"
      ]
    },
    {
      "cell_type": "markdown",
      "metadata": {
        "id": "CieGhJy1TJlR"
      },
      "source": [
        "**Definition and Usage**\n",
        "\n",
        "The popitem() method removes the item that was **last** inserted into the dictionary. In versions before 3.7, the popitem() method removes a random item.\n",
        "\n",
        "The removed item is the return value of the popitem() method, as a tuple, see example below.\n",
        "\n",
        "**Syntax:** dictionary.popitem()\n",
        "\n",
        "**Parameter Values**\n",
        "\n",
        "No parameters"
      ]
    },
    {
      "cell_type": "markdown",
      "metadata": {
        "id": "RYq6sYp8XbN1"
      },
      "source": [
        "The popitem() method removes and returns the (key, value) pair from the dictionary in the Last In, First Out (LIFO) order.\n",
        "\n",
        "Returns the latest inserted element (key,value) pair from the dictionary.\n",
        "\n",
        "Removes the returned element pair from the dictionary.\n",
        "\n",
        "**Note:** Before Python 3.7, the popitem() method returned and removed an arbitrary element (key, value) pair from the dictionary."
      ]
    },
    {
      "cell_type": "code",
      "metadata": {
        "colab": {
          "base_uri": "https://localhost:8080/"
        },
        "id": "9oB3MGewW0Sm",
        "outputId": "039ba5a9-b6af-4c9a-c6e4-fb0f20fa7db1"
      },
      "source": [
        "# Remove the last item from the dictionary:\n",
        "\n",
        "car = {\n",
        "  \"brand\": \"Ford\",\n",
        "  \"model\": \"Mustang\",\n",
        "  \"year\": 1964\n",
        "}\n",
        "\n",
        "car.popitem()\n",
        "\n",
        "print(car)\n",
        "print(car.popitem())"
      ],
      "execution_count": null,
      "outputs": [
        {
          "output_type": "stream",
          "text": [
            "{'brand': 'Ford', 'model': 'Mustang'}\n",
            "('model', 'Mustang')\n"
          ],
          "name": "stdout"
        }
      ]
    },
    {
      "cell_type": "code",
      "metadata": {
        "colab": {
          "base_uri": "https://localhost:8080/"
        },
        "id": "iDt3KjZoXLyq",
        "outputId": "364a73cc-e08e-48c3-ea59-84b8d72abb30"
      },
      "source": [
        "# The removed item is the return value of the pop() method:\n",
        "\n",
        "car = {\n",
        "  \"brand\": \"Ford\",\n",
        "  \"model\": \"Mustang\",\n",
        "  \"year\": 1964\n",
        "}\n",
        "\n",
        "x = car.popitem()\n",
        "\n",
        "print(x)"
      ],
      "execution_count": null,
      "outputs": [
        {
          "output_type": "stream",
          "text": [
            "('year', 1964)\n"
          ],
          "name": "stdout"
        }
      ]
    },
    {
      "cell_type": "code",
      "metadata": {
        "colab": {
          "base_uri": "https://localhost:8080/"
        },
        "id": "2SOdh3h6Xipx",
        "outputId": "d90f4881-1c61-474b-ca72-136b70b5447f"
      },
      "source": [
        "person = {'name': 'Phill', 'age': 22, 'salary': 3500.0}\n",
        "\n",
        "# ('salary', 3500.0) is inserted at the last, so it is removed.\n",
        "result = person.popitem()\n",
        "\n",
        "print('Return Value = ', result)\n",
        "print('person = ', person)\n",
        "\n",
        "# inserting a new element pair\n",
        "person['profession'] = 'Plumber'\n",
        "print(\"After new element assignment: \", person)\n",
        "\n",
        "# now ('profession', 'Plumber') is the latest element\n",
        "result = person.popitem()\n",
        "\n",
        "print('Return Value = ', result)\n",
        "print('person = ', person)"
      ],
      "execution_count": null,
      "outputs": [
        {
          "output_type": "stream",
          "text": [
            "Return Value =  ('salary', 3500.0)\n",
            "person =  {'name': 'Phill', 'age': 22}\n",
            "After new element assignment:  {'name': 'Phill', 'age': 22, 'profession': 'Plumber'}\n",
            "Return Value =  ('profession', 'Plumber')\n",
            "person =  {'name': 'Phill', 'age': 22}\n"
          ],
          "name": "stdout"
        }
      ]
    },
    {
      "cell_type": "markdown",
      "metadata": {
        "id": "8wxW3tMcXmU7"
      },
      "source": [
        "**Note:** The popitem() method raises a KeyError error if the dictionary is empty."
      ]
    },
    {
      "cell_type": "markdown",
      "metadata": {
        "id": "mJ2b0_27YePo"
      },
      "source": [
        "# **setdefault()**"
      ]
    },
    {
      "cell_type": "markdown",
      "metadata": {
        "id": "yiga8G6sYMpo"
      },
      "source": [
        "**Definition and Usage**\n",
        "\n",
        "The setdefault() method returns the value of the item with the specified key.\n",
        "\n",
        "If the key does not exist, insert the key, with the specified value, see example below\n",
        "\n",
        "**Syntax:** dictionary.setdefault(keyname, value)\n",
        "\n",
        "**Parameter Values**\n",
        "\n",
        "**keyname\tRequired**. The keyname of the item you want to return the value from\n",
        "\n",
        "**value\tOptional**.\n",
        "\n",
        "If the key exist, this parameter has no effect.\n",
        "\n",
        "If the key does not exist, this value becomes the key's value\n",
        "\n",
        "Default value None"
      ]
    },
    {
      "cell_type": "code",
      "metadata": {
        "colab": {
          "base_uri": "https://localhost:8080/"
        },
        "id": "5vSPaNE6ZMb7",
        "outputId": "3b2bc0be-b75e-427b-f775-3b251998c5cb"
      },
      "source": [
        "# Get the value of the \"model\" item:\n",
        "\n",
        "car = {\n",
        "  \"brand\": \"Ford\",\n",
        "  \"model\": \"Mustang\",\n",
        "  \"year\": 1964\n",
        "}\n",
        "\n",
        "x = car.setdefault(\"model\", \"Bronco\")\n",
        "\n",
        "print(x)\n",
        "print(car.setdefault(\"model\", \"Bronco\"))"
      ],
      "execution_count": null,
      "outputs": [
        {
          "output_type": "stream",
          "text": [
            "Mustang\n",
            "Mustang\n"
          ],
          "name": "stdout"
        }
      ]
    },
    {
      "cell_type": "code",
      "metadata": {
        "colab": {
          "base_uri": "https://localhost:8080/"
        },
        "id": "A4nueEMAZcba",
        "outputId": "2cca4598-034a-44e5-bca6-1811ff604a9f"
      },
      "source": [
        "# Get the value of the \"color\" item, if the \"color\" item does not exist, \n",
        "# insert \"color\" with the value \"white\":\n",
        "\n",
        "car = {\n",
        "  \"brand\": \"Ford\",\n",
        "  \"model\": \"Mustang\",\n",
        "  \"year\": 1964\n",
        "}\n",
        "\n",
        "x = car.setdefault(\"color\", \"white\")\n",
        "\n",
        "print(x)\n",
        "print(car.setdefault(\"color\", \"white\"))\n",
        "print(car)"
      ],
      "execution_count": null,
      "outputs": [
        {
          "output_type": "stream",
          "text": [
            "white\n",
            "white\n",
            "{'brand': 'Ford', 'model': 'Mustang', 'year': 1964, 'color': 'white'}\n"
          ],
          "name": "stdout"
        }
      ]
    },
    {
      "cell_type": "markdown",
      "metadata": {
        "id": "pGp2PwnEZLth"
      },
      "source": [
        "The setdefault() method returns the value of a key (if the key is in dictionary). If not, it inserts key with a value to the dictionary."
      ]
    },
    {
      "cell_type": "markdown",
      "metadata": {
        "id": "tsCaESujaRRj"
      },
      "source": [
        "**setdefault() returns:**\n",
        "\n",
        "**value** of the key if it is in the dictionary\n",
        "\n",
        "**None** if the key is not in the dictionary and default_value is not specified\n",
        "\n",
        "**default_value** if key is not in the dictionary and default_value is specified"
      ]
    },
    {
      "cell_type": "code",
      "metadata": {
        "colab": {
          "base_uri": "https://localhost:8080/"
        },
        "id": "2dZd8-bzaMLS",
        "outputId": "afafe8ef-f74c-4983-e308-8737ce13be15"
      },
      "source": [
        "person = {'name': 'Phill', 'age': 22}\n",
        "\n",
        "age = person.setdefault('age')\n",
        "print('person = ',person)\n",
        "print('Age = ',age)"
      ],
      "execution_count": null,
      "outputs": [
        {
          "output_type": "stream",
          "text": [
            "person =  {'name': 'Phill', 'age': 22}\n",
            "Age =  22\n"
          ],
          "name": "stdout"
        }
      ]
    },
    {
      "cell_type": "code",
      "metadata": {
        "colab": {
          "base_uri": "https://localhost:8080/"
        },
        "id": "jC9KphsubMo8",
        "outputId": "cc276587-6da6-4afa-dd6b-fdd561b7a382"
      },
      "source": [
        "# How setdefault() works when key is not in the dictionary?\n",
        "\n",
        "person = {'name': 'Phill'}\n",
        "\n",
        "# key is not in the dictionary\n",
        "salary = person.setdefault('salary')\n",
        "print('person = ',person)\n",
        "print('salary = ',salary)\n",
        "\n",
        "# key is not in the dictionary\n",
        "# default_value is provided\n",
        "age = person.setdefault('age', 22)\n",
        "print('person = ',person)\n",
        "print('age = ',age)"
      ],
      "execution_count": null,
      "outputs": [
        {
          "output_type": "stream",
          "text": [
            "person =  {'name': 'Phill', 'salary': None}\n",
            "salary =  None\n",
            "person =  {'name': 'Phill', 'salary': None, 'age': 22}\n",
            "age =  22\n"
          ],
          "name": "stdout"
        }
      ]
    },
    {
      "cell_type": "markdown",
      "metadata": {
        "id": "xxsqECeZdXV3"
      },
      "source": [
        "# **update()**"
      ]
    },
    {
      "cell_type": "markdown",
      "metadata": {
        "id": "H7Jn4nsIdMdV"
      },
      "source": [
        "**Definition and Usage**\n",
        "\n",
        "The update() method inserts the specified items to the dictionary.\n",
        "\n",
        "The specified items can be a dictionary, or an iterable object with key value pairs.\n",
        "\n",
        "**Syntax:** dictionary.update(iterable)\n",
        "\n",
        "**Parameter Values**\n",
        "\n",
        "**iterable**\tA dictionary or an iterable object with key value pairs, that will be inserted to the dictionary"
      ]
    },
    {
      "cell_type": "markdown",
      "metadata": {
        "id": "Nm8z0nT9dxgp"
      },
      "source": [
        "update() method updates the dictionary with elements from a dictionary object or an iterable object of key/value pairs.\n",
        "\n",
        "It doesn't return any value (returns None)."
      ]
    },
    {
      "cell_type": "code",
      "metadata": {
        "colab": {
          "base_uri": "https://localhost:8080/"
        },
        "id": "ZsGygzeqdaWH",
        "outputId": "81893d59-6c86-44a2-88a6-8d8a8402b57c"
      },
      "source": [
        "# Insert an item to the dictionary:\n",
        "\n",
        "car = {\n",
        "  \"brand\": \"Ford\",\n",
        "  \"model\": \"Mustang\",\n",
        "  \"year\": 1964\n",
        "}\n",
        "\n",
        "car.update({\"color\": \"White\"})\n",
        "\n",
        "print(car)\n",
        "print(car.update({\"color\": \"White\"}))  # gives None"
      ],
      "execution_count": null,
      "outputs": [
        {
          "output_type": "stream",
          "text": [
            "{'brand': 'Ford', 'model': 'Mustang', 'year': 1964, 'color': 'White'}\n",
            "None\n"
          ],
          "name": "stdout"
        }
      ]
    },
    {
      "cell_type": "code",
      "metadata": {
        "colab": {
          "base_uri": "https://localhost:8080/"
        },
        "id": "IX0hsEYzd5wV",
        "outputId": "fe6e7a69-66b2-42dc-fb7e-73a4082da399"
      },
      "source": [
        "d = {1: \"one\", 2: \"three\"}\n",
        "d1 = {2: \"two\"}\n",
        "\n",
        "# updates the value of key 2\n",
        "d.update(d1)\n",
        "print(d)\n",
        "\n",
        "d1 = {3: \"three\"}\n",
        "\n",
        "# adds element with key 3\n",
        "d.update(d1)\n",
        "print(d)"
      ],
      "execution_count": null,
      "outputs": [
        {
          "output_type": "stream",
          "text": [
            "{1: 'one', 2: 'two'}\n",
            "{1: 'one', 2: 'two', 3: 'three'}\n"
          ],
          "name": "stdout"
        }
      ]
    },
    {
      "cell_type": "markdown",
      "metadata": {
        "id": "sEICYJiXeHmN"
      },
      "source": [
        "**update() When Tuple is Passed**"
      ]
    },
    {
      "cell_type": "code",
      "metadata": {
        "colab": {
          "base_uri": "https://localhost:8080/"
        },
        "id": "5JoFxNAceF3U",
        "outputId": "266bc7c8-9930-469d-ece3-cecbd730d4f5"
      },
      "source": [
        "d = {'x': 2}\n",
        "\n",
        "d.update(y = 3, z = 0)\n",
        "print(d)"
      ],
      "execution_count": null,
      "outputs": [
        {
          "output_type": "stream",
          "text": [
            "{'x': 2, 'y': 3, 'z': 0}\n"
          ],
          "name": "stdout"
        }
      ]
    },
    {
      "cell_type": "markdown",
      "metadata": {
        "id": "Oehri0VCecjU"
      },
      "source": [
        "# **values()**"
      ]
    },
    {
      "cell_type": "markdown",
      "metadata": {
        "id": "a7OaRWumeWaZ"
      },
      "source": [
        "**Definition and Usage**\n",
        "\n",
        "The values() method returns a view object. The view object contains the values of the dictionary, as a list.\n",
        "\n",
        "The view object will reflect any changes done to the dictionary, see example below.\n",
        "\n",
        "**Syntax:** dictionary.values()\n",
        "\n",
        "**Parameter Values**\n",
        "\n",
        "No parameters"
      ]
    },
    {
      "cell_type": "markdown",
      "metadata": {
        "id": "ipuBNPXDe-uY"
      },
      "source": [
        "values() method returns a view object that displays a list of all values in a given dictionary."
      ]
    },
    {
      "cell_type": "code",
      "metadata": {
        "colab": {
          "base_uri": "https://localhost:8080/"
        },
        "id": "mpLW2ljBei-7",
        "outputId": "c53ed6bc-1912-4564-87d2-48a433a3cce4"
      },
      "source": [
        "# Return the values:\n",
        "\n",
        "car = {\n",
        "  \"brand\": \"Ford\",\n",
        "  \"model\": \"Mustang\",\n",
        "  \"year\": 1964\n",
        "}\n",
        "\n",
        "x = car.values()\n",
        "\n",
        "print(x)\n",
        "print(car.values())"
      ],
      "execution_count": null,
      "outputs": [
        {
          "output_type": "stream",
          "text": [
            "dict_values(['Ford', 'Mustang', 1964])\n",
            "dict_values(['Ford', 'Mustang', 1964])\n"
          ],
          "name": "stdout"
        }
      ]
    },
    {
      "cell_type": "code",
      "metadata": {
        "colab": {
          "base_uri": "https://localhost:8080/"
        },
        "id": "rO7vI500etrP",
        "outputId": "e4e4ff46-b211-4e09-a676-8ad5356f1887"
      },
      "source": [
        "# When a values is changed in the dictionary, the view object also gets updated:\n",
        "\n",
        "car = {\n",
        "  \"brand\": \"Ford\",\n",
        "  \"model\": \"Mustang\",\n",
        "  \"year\": 1964\n",
        "}\n",
        "\n",
        "x = car.values()\n",
        "\n",
        "car[\"year\"] = 2018\n",
        "\n",
        "print(x)\n",
        "print(car.values())"
      ],
      "execution_count": null,
      "outputs": [
        {
          "output_type": "stream",
          "text": [
            "dict_values(['Ford', 'Mustang', 2018])\n",
            "dict_values(['Ford', 'Mustang', 2018])\n"
          ],
          "name": "stdout"
        }
      ]
    },
    {
      "cell_type": "code",
      "metadata": {
        "colab": {
          "base_uri": "https://localhost:8080/"
        },
        "id": "epSshF3ifCM-",
        "outputId": "c97f36da-2894-435c-9216-c720c1e18deb"
      },
      "source": [
        "# random sales dictionary\n",
        "sales = { 'apple': 2, 'orange': 3, 'grapes': 4 }\n",
        "\n",
        "print(sales.values())"
      ],
      "execution_count": null,
      "outputs": [
        {
          "output_type": "stream",
          "text": [
            "dict_values([2, 3, 4])\n"
          ],
          "name": "stdout"
        }
      ]
    },
    {
      "cell_type": "code",
      "metadata": {
        "colab": {
          "base_uri": "https://localhost:8080/"
        },
        "id": "LGo4VW6VfH2M",
        "outputId": "953da5ca-afd8-405c-e0e2-2eebb4f1a536"
      },
      "source": [
        "# random sales dictionary\n",
        "sales = { 'apple': 2, 'orange': 3, 'grapes': 4 }\n",
        "\n",
        "values = sales.values()\n",
        "print('Original items:', values)\n",
        "\n",
        "# delete an item from dictionary\n",
        "del[sales['apple']]\n",
        "print('Updated items:', values)"
      ],
      "execution_count": null,
      "outputs": [
        {
          "output_type": "stream",
          "text": [
            "Original items: dict_values([2, 3, 4])\n",
            "Updated items: dict_values([3, 4])\n"
          ],
          "name": "stdout"
        }
      ]
    },
    {
      "cell_type": "markdown",
      "metadata": {
        "id": "p855mougfLLq"
      },
      "source": [
        "The view object values doesn't itself return a list of sales item values but it returns a view of all values of the dictionary.\n",
        "\n",
        "If the list is updated at any time, the changes are reflected on the view object itself, as shown in the above program."
      ]
    }
  ]
}