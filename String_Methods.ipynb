{
  "nbformat": 4,
  "nbformat_minor": 0,
  "metadata": {
    "colab": {
      "name": "String_Methods.ipynb",
      "provenance": [],
      "authorship_tag": "ABX9TyODa+pQ5MisukGwOAsnVPvP",
      "include_colab_link": true
    },
    "kernelspec": {
      "name": "python3",
      "display_name": "Python 3"
    },
    "language_info": {
      "name": "python"
    }
  },
  "cells": [
    {
      "cell_type": "markdown",
      "metadata": {
        "id": "view-in-github",
        "colab_type": "text"
      },
      "source": [
        "<a href=\"https://colab.research.google.com/github/AzizOzmen/All_Methods/blob/main/String_Methods.ipynb\" target=\"_parent\"><img src=\"https://colab.research.google.com/assets/colab-badge.svg\" alt=\"Open In Colab\"/></a>"
      ]
    },
    {
      "cell_type": "markdown",
      "metadata": {
        "id": "C1ucPTY5scFJ"
      },
      "source": [
        "# **You can reach all String Methods here** [link text](https://www.w3schools.com/python/python_ref_string.asp)\n",
        "\n",
        "# [link text](https://https://www.programiz.com/python-programming/methods/string)"
      ]
    },
    {
      "cell_type": "markdown",
      "metadata": {
        "id": "avdS0fCUlXGk"
      },
      "source": [
        "# **capitalize()** ***\n",
        "[link text](https://www.programiz.com/python-programming/methods/string/casefold)\n",
        "[link text](https://www.geeksforgeeks.org/string-capitalize-python/#:~:text=In%20Python%2C%20the%20capitalize(),string_name.)\n",
        "[link text](https://www.w3schools.com/python/ref_string_capitalize.asp)\n"
      ]
    },
    {
      "cell_type": "markdown",
      "metadata": {
        "id": "h_C5C4D5l7SZ"
      },
      "source": [
        "**Definition and Usage:** The capitalize() metod returns a string with the first letter capitalized and all other characters lowercased. It doesn't modify the original string."
      ]
    },
    {
      "cell_type": "markdown",
      "metadata": {
        "id": "DEQ4gFjVmHjd"
      },
      "source": [
        "**Syntax:** string.capitalize()"
      ]
    },
    {
      "cell_type": "markdown",
      "metadata": {
        "id": "YMiIzxMKpZre"
      },
      "source": [
        "**Examples: Capitalize a Sentence**"
      ]
    },
    {
      "cell_type": "code",
      "metadata": {
        "colab": {
          "base_uri": "https://localhost:8080/"
        },
        "id": "kyrol3H3nrOz",
        "outputId": "fad8f2ab-1a3f-44f7-d5c5-d6dd68fdb96e"
      },
      "source": [
        "string = \"python is AWesome.\"\n",
        "capitalized_string = string.capitalize()  # BE CAREFUL we have to assign method \n",
        "                                          # a new variable otherwise there will \n",
        "                                          # be no change on orginal variable\n",
        "print('Old String: ', string)  # There has been no change on original string\n",
        "print('Capitalized String:', capitalized_string)\n",
        "print(string.capitalize())  # we put the method inside print function rather than \n",
        "                            # assigning it to another variable outside"
      ],
      "execution_count": null,
      "outputs": [
        {
          "output_type": "stream",
          "text": [
            "Old String:  python is AWesome.\n",
            "Capitalized String: Python is awesome.\n",
            "Python is awesome.\n"
          ],
          "name": "stdout"
        }
      ]
    },
    {
      "cell_type": "markdown",
      "metadata": {
        "id": "617XF2g3pVOT"
      },
      "source": [
        "**Examples: Non-alphabetic First Character**"
      ]
    },
    {
      "cell_type": "code",
      "metadata": {
        "colab": {
          "base_uri": "https://localhost:8080/"
        },
        "id": "e33ZCfOMppLp",
        "outputId": "386101f8-c210-496d-e096-06c92f075f94"
      },
      "source": [
        "string = \"+ is an operator.\"\n",
        "new_string = string.capitalize()\n",
        "\n",
        "print(string)  \n",
        "print(new_string)  # .capitalize() method cannot make any changes on \n",
        "                   # non-alphabetical first character"
      ],
      "execution_count": null,
      "outputs": [
        {
          "output_type": "stream",
          "text": [
            "+ is an operator.\n",
            "+ is an operator.\n"
          ],
          "name": "stdout"
        }
      ]
    },
    {
      "cell_type": "code",
      "metadata": {
        "colab": {
          "base_uri": "https://localhost:8080/"
        },
        "id": "m79TxxjelEfz",
        "outputId": "3377cbda-44d1-4e63-e6a8-849901a712cd"
      },
      "source": [
        "txt1 = \"52 is my age.\"\n",
        "txt2 = \"my age is 52.\"\n",
        "a = txt1.capitalize()\n",
        "b = txt2.capitalize()\n",
        "print(a)\n",
        "print(b)"
      ],
      "execution_count": null,
      "outputs": [
        {
          "output_type": "stream",
          "text": [
            "52 is my age.\n",
            "My age is 52.\n"
          ],
          "name": "stdout"
        }
      ]
    },
    {
      "cell_type": "code",
      "metadata": {
        "colab": {
          "base_uri": "https://localhost:8080/"
        },
        "id": "9QJwTDlRnHUI",
        "outputId": "88916c99-149f-4c86-f0cb-e6336f85b7f5"
      },
      "source": [
        "string = \"python is AWesome.\"\n",
        "string.capitalize()  # we have to either assign the method to a new variable or \n",
        "                     # or put it inside print() built-in function \n",
        "                     # otherwise .capitilize() method cannot work like other methods\n",
        "print(string)  # There has been no change on original string\n",
        "print(string.capitalize())"
      ],
      "execution_count": null,
      "outputs": [
        {
          "output_type": "stream",
          "text": [
            "python is AWesome.\n",
            "Python is awesome.\n"
          ],
          "name": "stdout"
        }
      ]
    },
    {
      "cell_type": "markdown",
      "metadata": {
        "id": "Zlk_OZGAq8Zj"
      },
      "source": [
        "# **casefold()** ***"
      ]
    },
    {
      "cell_type": "markdown",
      "metadata": {
        "id": "-BK1kyhHrqvI"
      },
      "source": [
        "**Definition and Usage:**\n",
        "\n",
        "The casefold() method returns a string where ***all the characters are lower case***.\n",
        "\n",
        "This method is *similar to the lower() method*, but the casefold() method is stronger, more aggressive, meaning that it will convert more characters into lower case, and will find more matches when comparing two strings and both are converted using the casefold() method.\n",
        "\n",
        "**Syntax:** \n",
        "\n",
        "string.casefold()"
      ]
    },
    {
      "cell_type": "markdown",
      "metadata": {
        "id": "U7Ixx_O5tuoy"
      },
      "source": [
        "**Example: Lowercase using casefold()**"
      ]
    },
    {
      "cell_type": "code",
      "metadata": {
        "colab": {
          "base_uri": "https://localhost:8080/"
        },
        "id": "4veotYmdq7i3",
        "outputId": "0ab9d1bb-f485-4c81-8a08-6dbf56571281"
      },
      "source": [
        "txt = \"Hello, And WelCome To My World!\"\n",
        "x = txt.casefold()\n",
        "print(x)"
      ],
      "execution_count": null,
      "outputs": [
        {
          "output_type": "stream",
          "text": [
            "hello, and welcome to my world!\n"
          ],
          "name": "stdout"
        }
      ]
    },
    {
      "cell_type": "code",
      "metadata": {
        "colab": {
          "base_uri": "https://localhost:8080/"
        },
        "id": "LrTgthuEtQeI",
        "outputId": "ab8fe991-055e-4d0d-e84e-89251bb9588d"
      },
      "source": [
        "string = \"PYTHON IS AWESOME\"\n",
        "print(string.casefold())  # print lowercase string"
      ],
      "execution_count": null,
      "outputs": [
        {
          "output_type": "stream",
          "text": [
            "python is awesome\n"
          ],
          "name": "stdout"
        }
      ]
    },
    {
      "cell_type": "markdown",
      "metadata": {
        "id": "FEeSiDQ6tlLz"
      },
      "source": [
        "**Example: Comparison using casefold()**"
      ]
    },
    {
      "cell_type": "code",
      "metadata": {
        "colab": {
          "base_uri": "https://localhost:8080/"
        },
        "id": "j0yV7qhtt1yQ",
        "outputId": "6c61c335-c416-4800-c908-dc0d4ff3dfe4"
      },
      "source": [
        "firstString = \"der Fluß\"\n",
        "secondString = \"der Fluss\"\n",
        "\n",
        "# ß is equivalent to ss\n",
        "if firstString.casefold() == secondString.casefold():\n",
        "  print('The strings are equal.')\n",
        "else:\n",
        "  print('The strings are not equal.')"
      ],
      "execution_count": null,
      "outputs": [
        {
          "output_type": "stream",
          "text": [
            "The strings are equal.\n"
          ],
          "name": "stdout"
        }
      ]
    },
    {
      "cell_type": "markdown",
      "metadata": {
        "id": "cKNFeYHEuKwS"
      },
      "source": [
        "# **center()**"
      ]
    },
    {
      "cell_type": "markdown",
      "metadata": {
        "id": "Floolk7TuKgl"
      },
      "source": [
        "**Definition and Usage:** The center() method will center align the string, using a specified character (space is default) as the fill character.\n",
        "\n",
        "**Syntax:** string.center(length, character)\n",
        "\n",
        "**Parameter Values:**\n",
        "\n",
        "***length\tRequired.*** The length of the returned string\n",
        "\n",
        "***character\tOptional.*** The character to fill the missing space on each side. Default is \" \" (space)"
      ]
    },
    {
      "cell_type": "code",
      "metadata": {
        "colab": {
          "base_uri": "https://localhost:8080/"
        },
        "id": "1UMDW3q9u35p",
        "outputId": "8e751367-d818-4ff7-cf8f-5525de7b9146"
      },
      "source": [
        "txt = \"banana\"\n",
        "x = txt.center(20, \"-\")  # Using the letter \"-\" as the padding character:\n",
        "print(x)"
      ],
      "execution_count": null,
      "outputs": [
        {
          "output_type": "stream",
          "text": [
            "-------banana-------\n"
          ],
          "name": "stdout"
        }
      ]
    },
    {
      "cell_type": "code",
      "metadata": {
        "colab": {
          "base_uri": "https://localhost:8080/"
        },
        "id": "0yc2m0iVvalW",
        "outputId": "3b442f99-ba26-46c1-df6f-1aed397ccb20"
      },
      "source": [
        "string = \"Python is awesome\"\n",
        "new_string = string.center(24)\n",
        "print(new_string)"
      ],
      "execution_count": null,
      "outputs": [
        {
          "output_type": "stream",
          "text": [
            "   Python is awesome    \n"
          ],
          "name": "stdout"
        }
      ]
    },
    {
      "cell_type": "code",
      "metadata": {
        "colab": {
          "base_uri": "https://localhost:8080/"
        },
        "id": "nJS0ILBvvhuK",
        "outputId": "808d7d59-06ff-4110-f8f2-b205c11d517d"
      },
      "source": [
        "string = \"Python is awesome\"\n",
        "new_string = string.center(24, '*')\n",
        "print(new_string)"
      ],
      "execution_count": null,
      "outputs": [
        {
          "output_type": "stream",
          "text": [
            "***Python is awesome****\n"
          ],
          "name": "stdout"
        }
      ]
    },
    {
      "cell_type": "markdown",
      "metadata": {
        "id": "Q3bPACz4vur0"
      },
      "source": [
        "# **count()** ***"
      ]
    },
    {
      "cell_type": "markdown",
      "metadata": {
        "id": "8pZhQv7NvuSv"
      },
      "source": [
        "**Definition and Usage:**\n",
        "The count() method returns ***the number of times a specified value*** appears in the string.\n",
        "\n",
        "**Syntax:** string.count(value, start, end)\n",
        "\n",
        "**Parameter Values:**\n",
        "\n",
        "***value\tRequired.*** \n",
        "A String (substring). The string to value to search for\n",
        "\n",
        "***start\tOptional.*** \n",
        "An Integer. The position to start the search. Default is 0\n",
        "\n",
        "***end\tOptional.*** \n",
        "An Integer. The position to end the search. Default is the end of the string"
      ]
    },
    {
      "cell_type": "code",
      "metadata": {
        "colab": {
          "base_uri": "https://localhost:8080/"
        },
        "id": "HIdvtNApwAaK",
        "outputId": "60698b8d-1c38-4b8d-d43d-78412cf6f50e"
      },
      "source": [
        "txt = \"I love apples, apple are my favorite fruit\"\n",
        "x = txt.count(\"apple\", 10, 24)  # try to find if there is the substring of \"apple\"\n",
        "                                # between elements of 10 (included) to 24 (not included)\n",
        "print(x)"
      ],
      "execution_count": null,
      "outputs": [
        {
          "output_type": "stream",
          "text": [
            "1\n"
          ],
          "name": "stdout"
        }
      ]
    },
    {
      "cell_type": "markdown",
      "metadata": {
        "id": "HOenA7Gp05TQ"
      },
      "source": [
        "count() method returns the number of occurrences of the substring in the given string."
      ]
    },
    {
      "cell_type": "code",
      "metadata": {
        "colab": {
          "base_uri": "https://localhost:8080/"
        },
        "id": "pzuqWFmxxC2K",
        "outputId": "f5927812-39d5-4920-ed58-aebf3201e46f"
      },
      "source": [
        "string = \"Python is awesome, isn't it?\"\n",
        "substring = \"is\"\n",
        "\n",
        "count = string.count(substring)\n",
        "\n",
        "print(count)"
      ],
      "execution_count": null,
      "outputs": [
        {
          "output_type": "stream",
          "text": [
            "2\n"
          ],
          "name": "stdout"
        }
      ]
    },
    {
      "cell_type": "code",
      "metadata": {
        "colab": {
          "base_uri": "https://localhost:8080/"
        },
        "id": "nEEPvJIdxCmk",
        "outputId": "2a449d27-4bae-4df7-9412-2da89176987d"
      },
      "source": [
        "string = \"Python is awesome, isn't it?\"\n",
        "substring = \"i\"\n",
        "\n",
        "# count after first 'i' and before the last 'i'\n",
        "count = string.count(substring, 8, 25)\n",
        "\n",
        "print(string[8:25])\n",
        "print(string.count(substring))\n",
        "print(count)"
      ],
      "execution_count": null,
      "outputs": [
        {
          "output_type": "stream",
          "text": [
            "s awesome, isn't \n",
            "3\n",
            "1\n"
          ],
          "name": "stdout"
        }
      ]
    },
    {
      "cell_type": "markdown",
      "metadata": {
        "id": "eV3-WjpP0Lsa"
      },
      "source": [
        "Here, the counting starts after the first i has been encountered, i.e. 7th index position.\n",
        "\n",
        "And, it ends before the last i, i.e. 25th index position."
      ]
    },
    {
      "cell_type": "markdown",
      "metadata": {
        "id": "xhkW1Dct1EMc"
      },
      "source": [
        "# **endswith()**"
      ]
    },
    {
      "cell_type": "markdown",
      "metadata": {
        "id": "JJdPwj1P1JaZ"
      },
      "source": [
        "**Definition and Usage:**\n",
        "\n",
        "The endswith() method returns True if the string ends with the specified value, otherwise False.\n",
        "\n",
        "**Syntax:**\n",
        "string.endswith(value, start, end)\n",
        "\n",
        "**Parameter Values:**\n",
        "\n",
        "***value\tRequired.*** The value to check if the string ends with\n",
        "\n",
        "***start\tOptional.*** An Integer specifying at which position to start the search\n",
        "\n",
        "***end\tOptional.*** An Integer specifying at which position to end the search"
      ]
    },
    {
      "cell_type": "markdown",
      "metadata": {
        "id": "VdgbQ8E14OA4"
      },
      "source": [
        "**Example: endswith() Without start and end Parameters**"
      ]
    },
    {
      "cell_type": "code",
      "metadata": {
        "colab": {
          "base_uri": "https://localhost:8080/"
        },
        "id": "VeuZ0Dst1m58",
        "outputId": "f33a1ca3-7599-4b7f-92fe-021881980837"
      },
      "source": [
        "# Check if the string ends with the phrase \"my world.\":\n",
        "\n",
        "txt = \"Hello, welcome to my world.\"\n",
        "x = txt.endswith(\"my world.\")\n",
        "print(x)"
      ],
      "execution_count": null,
      "outputs": [
        {
          "output_type": "stream",
          "text": [
            "True\n"
          ],
          "name": "stdout"
        }
      ]
    },
    {
      "cell_type": "markdown",
      "metadata": {
        "id": "lO7bEtaN4FoB"
      },
      "source": [
        "**Example: endswith() With start and end Parameters**"
      ]
    },
    {
      "cell_type": "code",
      "metadata": {
        "colab": {
          "base_uri": "https://localhost:8080/"
        },
        "id": "70RIUKr13Gw8",
        "outputId": "c885c55b-95fc-44e7-c3f6-bb63c48cbff3"
      },
      "source": [
        "# Check if position 5 to 11 ends with the phrase \"my world.\":\n",
        "\n",
        "txt = \"Hello, welcome to my world.\"\n",
        "x = txt.endswith(\"my world.\", 5, 11)\n",
        "print(txt[5:11])\n",
        "print(x)"
      ],
      "execution_count": null,
      "outputs": [
        {
          "output_type": "stream",
          "text": [
            ", welc\n",
            "False\n"
          ],
          "name": "stdout"
        }
      ]
    },
    {
      "cell_type": "markdown",
      "metadata": {
        "id": "BR7jdpun4SWA"
      },
      "source": [
        "**Example: endswith() With Tuple Suffix**\n",
        "\n",
        "It's possible to pass a tuple suffixes to the endswith() method in Python.\n",
        "\n",
        "If the string ends with ***any item of the tuple***, endswith() returns ***True***. If not, it returns False"
      ]
    },
    {
      "cell_type": "code",
      "metadata": {
        "colab": {
          "base_uri": "https://localhost:8080/"
        },
        "id": "0oBhLczY4SHz",
        "outputId": "c3fa90d1-9425-451f-ee9b-1c76f93f1ae5"
      },
      "source": [
        "text = \"programming is easy\"\n",
        "result = text.endswith(('programming', 'python'))\n",
        "\n",
        "print(result) # prints False\n",
        "\n",
        "result = text.endswith(('python', 'easy', 'java'))\n",
        "\n",
        "print(result) #prints True\n",
        "\n",
        "# With start and end parameter\n",
        "# 'programming is' string is checked\n",
        "result = text.endswith(('is', 'an'), 0, 14)\n",
        "\n",
        "print(text[:14])\n",
        "print(result) # prints True"
      ],
      "execution_count": null,
      "outputs": [
        {
          "output_type": "stream",
          "text": [
            "False\n",
            "True\n",
            "programming is\n",
            "True\n"
          ],
          "name": "stdout"
        }
      ]
    },
    {
      "cell_type": "markdown",
      "metadata": {
        "id": "KAeawzD_56Wu"
      },
      "source": [
        "# **encode()**"
      ]
    },
    {
      "cell_type": "markdown",
      "metadata": {
        "id": "I49QsrjX5-FX"
      },
      "source": [
        "**Definition and Usage:**\n",
        "\n",
        "The encode() method encodes the string, using the specified encoding. If no encoding is specified, UTF-8 will be used.\n",
        "\n",
        "**Syntax:** string.encode(encoding=encoding, errors=errors)\n",
        "\n",
        "**Parameter Values:**\n",
        "\n",
        "***encoding\tOptional.*** A String specifying the encoding to use. Default is UTF-8\n",
        "\n",
        "***errors\tOptional.*** A String specifying the error method. Legal values are:\n",
        "'backslashreplace'\t- uses a backslash instead of the character that could not be encoded\n",
        "'ignore'\t- ignores the characters that cannot be encoded\n",
        "'namereplace'\t- replaces the character with a text explaining the character\n",
        "'strict'\t- Default, raises an error on failure\n",
        "'replace'\t- replaces the character with a questionmark\n",
        "'xmlcharrefreplace'\t- replaces the character with an xml character"
      ]
    },
    {
      "cell_type": "markdown",
      "metadata": {
        "id": "bXo9Ojws7wyX"
      },
      "source": [
        "**Example: Encode to Default Utf-8 Encoding**"
      ]
    },
    {
      "cell_type": "code",
      "metadata": {
        "colab": {
          "base_uri": "https://localhost:8080/"
        },
        "id": "SW3JVIKL7Yxi",
        "outputId": "7879dc56-5ed5-465c-cf88-f77ea1c8ae7d"
      },
      "source": [
        "# unicode string\n",
        "string = 'pythön!'\n",
        "print(string)\n",
        "\n",
        "# default encoding to utf-8\n",
        "string_utf = string.encode()\n",
        "print(string_utf)"
      ],
      "execution_count": null,
      "outputs": [
        {
          "output_type": "stream",
          "text": [
            "pythön!\n",
            "b'pyth\\xc3\\xb6n!'\n"
          ],
          "name": "stdout"
        }
      ]
    },
    {
      "cell_type": "markdown",
      "metadata": {
        "id": "MxTFNs3I75O6"
      },
      "source": [
        "**Example 2: Encoding with error parameter**"
      ]
    },
    {
      "cell_type": "code",
      "metadata": {
        "colab": {
          "base_uri": "https://localhost:8080/"
        },
        "id": "JIcSJN3f6iAi",
        "outputId": "e100e5d3-d729-430c-e0e4-321152395258"
      },
      "source": [
        "# These examples uses ascii encoding, and a character that cannot be encoded, \n",
        "# showing the result with different errors:\n",
        "\n",
        "txt = \"My name is Ståle\"\n",
        "\n",
        "print(txt.encode(encoding=\"ascii\",errors=\"backslashreplace\"))\n",
        "print(txt.encode(encoding=\"ascii\",errors=\"ignore\"))\n",
        "print(txt.encode(encoding=\"ascii\",errors=\"namereplace\"))\n",
        "print(txt.encode(encoding=\"ascii\",errors=\"replace\"))\n",
        "print(txt.encode(encoding=\"ascii\",errors=\"xmlcharrefreplace\"))"
      ],
      "execution_count": null,
      "outputs": [
        {
          "output_type": "stream",
          "text": [
            "b'My name is St\\\\xe5le'\n",
            "b'My name is Stle'\n",
            "b'My name is St\\\\N{LATIN SMALL LETTER A WITH RING ABOVE}le'\n",
            "b'My name is St?le'\n",
            "b'My name is St&#229;le'\n"
          ],
          "name": "stdout"
        }
      ]
    },
    {
      "cell_type": "code",
      "metadata": {
        "colab": {
          "base_uri": "https://localhost:8080/"
        },
        "id": "ahNayaL-8BoI",
        "outputId": "5ad365b2-0abd-4cb2-f3e9-04d71c6d0564"
      },
      "source": [
        "# unicode string\n",
        "string = 'pythön!'\n",
        "print('The string is:', string)\n",
        "\n",
        "# ignore error\n",
        "print('The encoded version (with ignore) is:', string.encode(\"ascii\", \"ignore\"))\n",
        "\n",
        "# replace error\n",
        "print('The encoded version (with replace) is:', string.encode(\"ascii\", \"replace\"))"
      ],
      "execution_count": null,
      "outputs": [
        {
          "output_type": "stream",
          "text": [
            "The string is: pythön!\n",
            "The encoded version (with ignore) is: b'pythn!'\n",
            "The encoded version (with replace) is: b'pyth?n!'\n"
          ],
          "name": "stdout"
        }
      ]
    },
    {
      "cell_type": "markdown",
      "metadata": {
        "id": "chsoi_li8gmB"
      },
      "source": [
        "# **expandtabs()**"
      ]
    },
    {
      "cell_type": "markdown",
      "metadata": {
        "id": "lxjzZe-m8kaz"
      },
      "source": [
        "***Definition and Usage:***\n",
        "\n",
        "The expandtabs() method sets the tab size to the specified number of whitespaces.\n",
        "\n",
        "**Syntax:** string.expandtabs(tabsize)\n",
        "\n",
        "**Parameter Values**\n",
        "\n",
        "***tabsize\tOptional.*** A number specifying the tabsize. Default tabsize is 8"
      ]
    },
    {
      "cell_type": "code",
      "metadata": {
        "colab": {
          "base_uri": "https://localhost:8080/"
        },
        "id": "3RTmseSt8-_U",
        "outputId": "b05dc63d-f177-43f1-f3b2-b1abd753a546"
      },
      "source": [
        "txt = \"H\\te\\tl\\tl\\to\"\n",
        "\n",
        "print(txt)\n",
        "print(txt.expandtabs())\n",
        "print(txt.expandtabs(2))\n",
        "print(txt.expandtabs(4))\n",
        "print(txt.expandtabs(10))"
      ],
      "execution_count": null,
      "outputs": [
        {
          "output_type": "stream",
          "text": [
            "H\te\tl\tl\to\n",
            "H       e       l       l       o\n",
            "H e l l o\n",
            "H   e   l   l   o\n",
            "H         e         l         l         o\n"
          ],
          "name": "stdout"
        }
      ]
    },
    {
      "cell_type": "code",
      "metadata": {
        "colab": {
          "base_uri": "https://localhost:8080/"
        },
        "id": "zcN0EOrx9hya",
        "outputId": "4bf20a98-6819-4019-c195-6d8a6d435a79"
      },
      "source": [
        "str = 'xyz\\t12345\\tabc'\n",
        "\n",
        "# no argument is passed\n",
        "# default tabsize is 8\n",
        "result = str.expandtabs()\n",
        "\n",
        "print(result)"
      ],
      "execution_count": null,
      "outputs": [
        {
          "output_type": "stream",
          "text": [
            "xyz     12345   abc\n"
          ],
          "name": "stdout"
        }
      ]
    },
    {
      "cell_type": "markdown",
      "metadata": {
        "id": "L7rTI12990Kb"
      },
      "source": [
        "# **find()**"
      ]
    },
    {
      "cell_type": "markdown",
      "metadata": {
        "id": "a0Ez2FSi9zPr"
      },
      "source": [
        "**Definition and Usage:**\n",
        "The find() method finds the first occurrence of the specified value.\n",
        "\n",
        "The find() method returns -1 if the value is not found.\n",
        "\n",
        "The find() method is almost the same as the index() method, the only difference is that the index() method raises an exception if the value is not found. (See example below)\n",
        "\n",
        "**Syntax:** string.find(value, start, end)\n",
        "\n",
        "**Parameter Values:**\n",
        "\n",
        "***value\tRequired.*** The value to search for\n",
        "\n",
        "***start\tOptional.*** Where to start the search. Default is 0\n",
        "\n",
        "***end\tOptional.*** Where to end the search. Default is to the end of the string"
      ]
    },
    {
      "cell_type": "code",
      "metadata": {
        "colab": {
          "base_uri": "https://localhost:8080/"
        },
        "id": "Z6LBFrOb-Krw",
        "outputId": "fc43964a-b748-4d61-e093-e75d14a0855b"
      },
      "source": [
        "txt = \"Hello, welcome to my world.\"\n",
        "x = txt.find(\"welcome\")\n",
        "print(x)  # prints the index where the character or substring begins"
      ],
      "execution_count": null,
      "outputs": [
        {
          "output_type": "stream",
          "text": [
            "7\n"
          ],
          "name": "stdout"
        }
      ]
    },
    {
      "cell_type": "code",
      "metadata": {
        "colab": {
          "base_uri": "https://localhost:8080/"
        },
        "id": "84PFTaIN-ol4",
        "outputId": "aed99a82-700c-48d1-c95d-abdd40f0dcf7"
      },
      "source": [
        "txt = \"Hello, welcome to my world.\"\n",
        "x = txt.find(\"e\")\n",
        "print(x)"
      ],
      "execution_count": null,
      "outputs": [
        {
          "output_type": "stream",
          "text": [
            "1\n"
          ],
          "name": "stdout"
        }
      ]
    },
    {
      "cell_type": "code",
      "metadata": {
        "colab": {
          "base_uri": "https://localhost:8080/"
        },
        "id": "ZHaCe52w-vbi",
        "outputId": "5a8915bf-222d-4239-ef97-825a45837b28"
      },
      "source": [
        "txt = \"Hello, welcome to my world.\"\n",
        "x = txt.find(\"e\", 5, 10)\n",
        "print(x)"
      ],
      "execution_count": null,
      "outputs": [
        {
          "output_type": "stream",
          "text": [
            "8\n"
          ],
          "name": "stdout"
        }
      ]
    },
    {
      "cell_type": "code",
      "metadata": {
        "colab": {
          "base_uri": "https://localhost:8080/"
        },
        "id": "KYlxGqrX_b02",
        "outputId": "5a367ce6-36c1-428e-c1f9-09545d482f32"
      },
      "source": [
        "txt = \"Hello, welcome to my world.\"\n",
        "\n",
        "print(txt.find(\"q\"))\n",
        "# print(txt.index(\"q\"))  # gives ValueError: substring not found"
      ],
      "execution_count": null,
      "outputs": [
        {
          "output_type": "stream",
          "text": [
            "-1\n"
          ],
          "name": "stdout"
        }
      ]
    },
    {
      "cell_type": "markdown",
      "metadata": {
        "id": "oOj3txUTA7v1"
      },
      "source": [
        "# **format()**"
      ]
    },
    {
      "cell_type": "markdown",
      "metadata": {
        "id": "MGoMxh41A7F4"
      },
      "source": [
        "**Definition and Usage:**\n",
        "The format() method formats the specified value(s) and insert them inside the string's placeholder.\n",
        "\n",
        "The placeholder is defined using curly brackets: {}. \n",
        "\n",
        "The format() method returns the formatted string.\n",
        "\n",
        "**Syntax:** string.format(value1, value2...)\n",
        "\n",
        "**Parameter Values**\n",
        "\n",
        "***value1, value2...\tRequired.*** One or more values that should be formatted and inserted in the string. The values can be A number specifying the position of the element you want to remove.\n",
        "\n",
        "The values are either a list of values separated by commas, a key=value list, or a combination of both.\n",
        "\n",
        "The values can be of any data type."
      ]
    },
    {
      "cell_type": "code",
      "metadata": {
        "colab": {
          "base_uri": "https://localhost:8080/"
        },
        "id": "EmIH1z0xBN4q",
        "outputId": "c074d1cc-ac3c-47a1-bf2c-8d29e11eedf0"
      },
      "source": [
        "txt = \"For only {price:.2f} dollars!\"\n",
        "print(txt.format(price = 49))"
      ],
      "execution_count": null,
      "outputs": [
        {
          "output_type": "stream",
          "text": [
            "For only 49.00 dollars!\n"
          ],
          "name": "stdout"
        }
      ]
    },
    {
      "cell_type": "markdown",
      "metadata": {
        "id": "A5VJqZXPBuqQ"
      },
      "source": [
        "**The Placeholders:**\n",
        "\n",
        "The placeholders can be identified using named indexes {price}, numbered indexes {0}, or even empty placeholders {}.\n",
        "\n",
        "**String format() Parameters:**\n",
        "\n",
        "format() method takes any number of parameters. But, is divided into two types of parameters:\n",
        "\n",
        "***Positional parameters*** - list of parameters that can be accessed with index of parameter inside curly braces {index}\n",
        "\n",
        "***Keyword parameters*** - list of parameters of type key=value, that can be accessed with key of parameter inside curly braces {key}"
      ]
    },
    {
      "cell_type": "markdown",
      "metadata": {
        "id": "OXS2gKU2FA6z"
      },
      "source": [
        "![positional argument.PNG](data:image/png;base64,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)"
      ]
    },
    {
      "cell_type": "markdown",
      "metadata": {
        "id": "ppl1Q7EKFG_X"
      },
      "source": [
        "![keyword argument.PNG](data:image/png;base64,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)"
      ]
    },
    {
      "cell_type": "code",
      "metadata": {
        "colab": {
          "base_uri": "https://localhost:8080/"
        },
        "id": "ZQ97KlXYB4Kl",
        "outputId": "ab55c311-cb9c-45d6-c607-f60306f51132"
      },
      "source": [
        "txt1 = \"My name is {fname}, I'm {age}\".format(fname = \"John\", age = 36)\n",
        "txt2 = \"My name is {0}, I'm {1}\".format(\"John\",36)\n",
        "txt3 = \"My name is {}, I'm {}\".format(\"John\",36)\n",
        "\n",
        "print(txt1)\n",
        "print(txt2)\n",
        "print(txt3)"
      ],
      "execution_count": null,
      "outputs": [
        {
          "output_type": "stream",
          "text": [
            "My name is John, I'm 36\n",
            "My name is John, I'm 36\n",
            "My name is John, I'm 36\n"
          ],
          "name": "stdout"
        }
      ]
    },
    {
      "cell_type": "code",
      "metadata": {
        "colab": {
          "base_uri": "https://localhost:8080/"
        },
        "id": "duZMGf_pFlZ6",
        "outputId": "e6b7c35c-2b6e-44d3-b7ce-2b7a0658b791"
      },
      "source": [
        "# default arguments\n",
        "print(\"Hello {}, your balance is {}.\".format(\"Adam\", 230.2346))\n",
        "\n",
        "# positional arguments\n",
        "print(\"Hello {0}, your balance is {1}.\".format(\"Adam\", 230.2346))\n",
        "\n",
        "# keyword arguments\n",
        "print(\"Hello {name}, your balance is {blc}.\".format(name=\"Adam\", blc=230.2346))\n",
        "\n",
        "# mixed arguments\n",
        "print(\"Hello {0}, your balance is {blc}.\".format(\"Adam\", blc=230.2346))"
      ],
      "execution_count": null,
      "outputs": [
        {
          "output_type": "stream",
          "text": [
            "Hello Adam, your balance is 230.2346.\n",
            "Hello Adam, your balance is 230.2346.\n",
            "Hello Adam, your balance is 230.2346.\n",
            "Hello Adam, your balance is 230.2346.\n"
          ],
          "name": "stdout"
        }
      ]
    },
    {
      "cell_type": "markdown",
      "metadata": {
        "id": "JwW3umkmCqmN"
      },
      "source": [
        "**Formatting Types:**\n",
        "\n",
        "Inside the placeholders you can add a formatting type to format the result:"
      ]
    },
    {
      "cell_type": "code",
      "metadata": {
        "colab": {
          "base_uri": "https://localhost:8080/"
        },
        "id": "BoL9mLP7Cf0c",
        "outputId": "e49be201-2d31-452c-dfcb-9a8e376f18b7"
      },
      "source": [
        "# To demonstrate, we insert the number 8 to set the available space\n",
        "# for the value to 8 characters.\n",
        "# Use \"<\" to left-align the value:\n",
        "\n",
        "txt = \"We have {:<8} chickens.\"\n",
        "print(txt.format(49))\n",
        "print(len(txt))"
      ],
      "execution_count": null,
      "outputs": [
        {
          "output_type": "stream",
          "text": [
            "We have 49       chickens.\n",
            "23\n"
          ],
          "name": "stdout"
        }
      ]
    },
    {
      "cell_type": "markdown",
      "metadata": {
        "id": "WC7JY-oiF72H"
      },
      "source": [
        "**Example: Simple number formatting**"
      ]
    },
    {
      "cell_type": "code",
      "metadata": {
        "colab": {
          "base_uri": "https://localhost:8080/"
        },
        "id": "ZGTxfwCzDMOD",
        "outputId": "236747a4-0e40-400d-d8fe-7e7f98619b46"
      },
      "source": [
        "# integer arguments\n",
        "print(\"The number is: {:d}\".format(123))\n",
        "\n",
        "# float arguments\n",
        "print(\"The float number is: {:f}\".format(123.4567898))\n",
        "\n",
        "# octal, binary and hexadecimal format\n",
        "print(\"bin: {0:b}, oct: {0:o}, hex: {0:x}\".format(12))"
      ],
      "execution_count": null,
      "outputs": [
        {
          "output_type": "stream",
          "text": [
            "The number is: 123\n",
            "The float number is: 123.456790\n",
            "bin: 1100, oct: 14, hex: c\n"
          ],
          "name": "stdout"
        }
      ]
    },
    {
      "cell_type": "markdown",
      "metadata": {
        "id": "rVnEItSxGcxF"
      },
      "source": [
        "**Example: Number formatting with padding for int and floats**"
      ]
    },
    {
      "cell_type": "code",
      "metadata": {
        "colab": {
          "base_uri": "https://localhost:8080/"
        },
        "id": "tVD5gE73GZDx",
        "outputId": "90029662-9614-4929-8294-25751c878389"
      },
      "source": [
        "# integer numbers with minimum width\n",
        "print(\"{:5d}\".format(12))\n",
        "\n",
        "# width doesn't work for numbers longer than padding\n",
        "print(\"{:2d}\".format(1234))\n",
        "\n",
        "# padding for float numbers\n",
        "print(\"{:8.3f}\".format(12.2346))\n",
        "\n",
        "# integer numbers with minimum width filled with zeros\n",
        "print(\"{:05d}\".format(12))\n",
        "\n",
        "# padding for float numbers filled with zeros\n",
        "print(\"{:08.3f}\".format(12.2346))"
      ],
      "execution_count": null,
      "outputs": [
        {
          "output_type": "stream",
          "text": [
            "   12\n",
            "1234\n",
            "  12.235\n",
            "00012\n",
            "0012.235\n"
          ],
          "name": "stdout"
        }
      ]
    },
    {
      "cell_type": "markdown",
      "metadata": {
        "id": "5sIDDT5mHilm"
      },
      "source": [
        "**Example: Number formatting for signed numbers**"
      ]
    },
    {
      "cell_type": "code",
      "metadata": {
        "colab": {
          "base_uri": "https://localhost:8080/"
        },
        "id": "IOPcWsSYHgEe",
        "outputId": "47a12fab-d48e-4ba3-c46e-fe1759b08e3d"
      },
      "source": [
        "# show the + sign\n",
        "print(\"{:+f} {:+f}\".format(12.23, -12.23))\n",
        "\n",
        "# show the - sign only\n",
        "print(\"{:-f} {:-f}\".format(12.23, -12.23))\n",
        "\n",
        "# show space for + sign\n",
        "print(\"{: f} {: f}\".format(12.23, -12.23))"
      ],
      "execution_count": null,
      "outputs": [
        {
          "output_type": "stream",
          "text": [
            "+12.230000 -12.230000\n",
            "12.230000 -12.230000\n",
            " 12.230000 -12.230000\n"
          ],
          "name": "stdout"
        }
      ]
    },
    {
      "cell_type": "markdown",
      "metadata": {
        "id": "p9olU5ByKzYR"
      },
      "source": [
        "**Example: Number formatting with left, right and center alignment**"
      ]
    },
    {
      "cell_type": "code",
      "metadata": {
        "colab": {
          "base_uri": "https://localhost:8080/"
        },
        "id": "f8Fb3fzHKwOJ",
        "outputId": "560ec843-a6ea-409d-aaab-66ffc6e104e3"
      },
      "source": [
        "# integer numbers with right alignment\n",
        "print(\"{:5d}\".format(12))\n",
        "\n",
        "# float numbers with center alignment\n",
        "print(\"{:^10.3f}\".format(12.2346))\n",
        "\n",
        "# integer left alignment filled with zeros\n",
        "print(\"{:<05d}\".format(12))\n",
        "\n",
        "# float numbers with center alignment\n",
        "print(\"{:=8.3f}\".format(-12.2346))"
      ],
      "execution_count": null,
      "outputs": [
        {
          "output_type": "stream",
          "text": [
            "   12\n",
            "  12.235  \n",
            "12000\n",
            "- 12.235\n"
          ],
          "name": "stdout"
        }
      ]
    },
    {
      "cell_type": "markdown",
      "metadata": {
        "id": "eNlbrQ-oLm2z"
      },
      "source": [
        "**Note:** Left alignment filled with zeros for integer numbers can cause problems as the 3rd example which returns 12000, rather than 12."
      ]
    },
    {
      "cell_type": "markdown",
      "metadata": {
        "id": "siOBRMMQL_EG"
      },
      "source": [
        "**Example: String formatting with padding and alignment**"
      ]
    },
    {
      "cell_type": "code",
      "metadata": {
        "colab": {
          "base_uri": "https://localhost:8080/"
        },
        "id": "HgKrmSGyLp-t",
        "outputId": "aa9b44d6-c99f-4780-f3c3-6360c2f904b7"
      },
      "source": [
        "# string padding with left alignment\n",
        "print(\"{:5}\".format(\"cat\"))\n",
        "\n",
        "# string padding with right alignment\n",
        "print(\"{:>5}\".format(\"cat\"))\n",
        "\n",
        "# string padding with center alignment\n",
        "print(\"{:^5}\".format(\"cat\"))\n",
        "\n",
        "# string padding with center alignment\n",
        "# and '*' padding character\n",
        "print(\"{:*^5}\".format(\"cat\"))"
      ],
      "execution_count": null,
      "outputs": [
        {
          "output_type": "stream",
          "text": [
            "cat  \n",
            "  cat\n",
            " cat \n",
            "*cat*\n"
          ],
          "name": "stdout"
        }
      ]
    },
    {
      "cell_type": "markdown",
      "metadata": {
        "id": "fAGBXvDEMsm_"
      },
      "source": [
        "**Example: Truncating strings with format()**"
      ]
    },
    {
      "cell_type": "code",
      "metadata": {
        "colab": {
          "base_uri": "https://localhost:8080/"
        },
        "id": "UbP45gviMqWS",
        "outputId": "d2d0663b-c066-49c9-ff97-fddb3e363908"
      },
      "source": [
        "# truncating strings to 3 letters\n",
        "print(\"{:.3}\".format(\"caterpillar\"))\n",
        "\n",
        "# truncating strings to 3 letters\n",
        "# and padding\n",
        "print(\"{:5.3}\".format(\"caterpillar\"))\n",
        "\n",
        "# truncating strings to 3 letters,\n",
        "# padding and center alignment\n",
        "print(\"{:^5.3}\".format(\"caterpillar\"))"
      ],
      "execution_count": null,
      "outputs": [
        {
          "output_type": "stream",
          "text": [
            "cat\n",
            "cat  \n",
            " cat \n"
          ],
          "name": "stdout"
        }
      ]
    },
    {
      "cell_type": "markdown",
      "metadata": {
        "id": "uv94-TSZOs10"
      },
      "source": [
        "**Formatting class and dictionary members using format()**\n",
        "\n",
        "Python internally uses getattr() for class members in the form \".age\". And, it uses __getitem__() lookup for dictionary members in the form \"[index]\".\n"
      ]
    },
    {
      "cell_type": "markdown",
      "metadata": {
        "id": "eVJTmtsyOz_U"
      },
      "source": [
        "\n",
        "**Example: Formatting class members using format()**"
      ]
    },
    {
      "cell_type": "code",
      "metadata": {
        "colab": {
          "base_uri": "https://localhost:8080/"
        },
        "id": "XLky0EKtOplQ",
        "outputId": "735a4ebf-f510-4d96-9a39-3cd0babc948e"
      },
      "source": [
        "# define Person class\n",
        "class Person:\n",
        "    age = 23\n",
        "    name = \"Adam\"\n",
        "\n",
        "# format age\n",
        "print(\"{p.name}'s age is: {p.age}\".format(p=Person()))"
      ],
      "execution_count": null,
      "outputs": [
        {
          "output_type": "stream",
          "text": [
            "Adam's age is: 23\n"
          ],
          "name": "stdout"
        }
      ]
    },
    {
      "cell_type": "markdown",
      "metadata": {
        "id": "vW61gC-rQh3m"
      },
      "source": [
        "Here, Person object is passed as a keyword argument p.\n",
        "\n",
        "Inside the template string, Person's name and age are accessed using .name and .age respectively."
      ]
    },
    {
      "cell_type": "markdown",
      "metadata": {
        "id": "Ji1VPL-hQ3A_"
      },
      "source": [
        "**Example: Formatting dictionary members using format()**"
      ]
    },
    {
      "cell_type": "code",
      "metadata": {
        "colab": {
          "base_uri": "https://localhost:8080/"
        },
        "id": "rb4_gf_fQkC8",
        "outputId": "f197dd6d-c47a-4b30-ea2e-d378bf2a2507"
      },
      "source": [
        "# define Person dictionary\n",
        "person = {'age': 23, 'name': 'Adam'}\n",
        "\n",
        "# format age\n",
        "print(\"{p[name]}'s age is: {p[age]}\".format(p=person))"
      ],
      "execution_count": null,
      "outputs": [
        {
          "output_type": "stream",
          "text": [
            "Adam's age is: 23\n"
          ],
          "name": "stdout"
        }
      ]
    },
    {
      "cell_type": "markdown",
      "metadata": {
        "id": "g97iHWccRQnw"
      },
      "source": [
        "Similar to class, person dictionary is passed as a keyword argument p.\n",
        "\n",
        "Inside the template string, person's name and age are accessed using [name] and [age] respectively."
      ]
    },
    {
      "cell_type": "markdown",
      "metadata": {
        "id": "jv8ZVHZ_SBdz"
      },
      "source": [
        "There's an easier way to format dictionaries in Python using str.format(**mapping)."
      ]
    },
    {
      "cell_type": "code",
      "metadata": {
        "id": "2NWV0ceaR8Hc"
      },
      "source": [
        "# define Person dictionary\n",
        "person = {'age': 23, 'name': 'Adam'}\n",
        "\n",
        "# format age\n",
        "print(\"{name}'s age is: {age}\".format(**person))"
      ],
      "execution_count": null,
      "outputs": []
    },
    {
      "cell_type": "markdown",
      "metadata": {
        "id": "Umhz5NhASG4-"
      },
      "source": [
        "** is a format parameter (minimum field width)."
      ]
    },
    {
      "cell_type": "markdown",
      "metadata": {
        "id": "M1h6Wtf-Sb7p"
      },
      "source": [
        "**Arguments as format codes using format()**\n",
        "\n",
        "You can also pass format codes like precision, alignment, fill character as positional or keyword arguments dynamically.\n"
      ]
    },
    {
      "cell_type": "markdown",
      "metadata": {
        "id": "SRmx8PaySkA4"
      },
      "source": [
        "**Example: Dynamic formatting using format()**"
      ]
    },
    {
      "cell_type": "code",
      "metadata": {
        "colab": {
          "base_uri": "https://localhost:8080/"
        },
        "id": "wDO5lc5JSIE1",
        "outputId": "a7d58bd4-ec71-49a7-cbbe-6a4309615a80"
      },
      "source": [
        "# dynamic string format template\n",
        "string = \"{:{fill}{align}{width}}\"\n",
        "\n",
        "# passing format codes as arguments\n",
        "print(string.format('cat', fill='*', align='^', width=5))\n",
        "\n",
        "# dynamic float format template\n",
        "num = \"{:{align}{width}.{precision}f}\"\n",
        "\n",
        "# passing format codes as arguments\n",
        "print(num.format(123.236, align='<', width=8, precision=2))"
      ],
      "execution_count": null,
      "outputs": [
        {
          "output_type": "stream",
          "text": [
            "*cat*\n",
            "123.24  \n"
          ],
          "name": "stdout"
        }
      ]
    },
    {
      "cell_type": "markdown",
      "metadata": {
        "id": "idJj1_FqTkF0"
      },
      "source": [
        "**Example: Type-specific formatting with format() and overriding __format__() method**"
      ]
    },
    {
      "cell_type": "code",
      "metadata": {
        "colab": {
          "base_uri": "https://localhost:8080/"
        },
        "id": "y1Qk_Q1VTfSb",
        "outputId": "712d89da-92f0-405b-c477-f7d8e0297f66"
      },
      "source": [
        "import datetime\n",
        "# datetime formatting\n",
        "date = datetime.datetime.now()\n",
        "print(\"It's now: {:%Y/%m/%d %H:%M:%S}\".format(date))\n",
        "\n",
        "# complex number formatting\n",
        "complexNumber = 1+2j\n",
        "print(\"Real part: {0.real} and Imaginary part: {0.imag}\".format(complexNumber))\n",
        "\n",
        "# custom __format__() method\n",
        "class Person:\n",
        "    def __format__(self, format):\n",
        "        if(format == 'age'):\n",
        "            return '23'\n",
        "        return 'None'\n",
        "\n",
        "print(\"Adam's age is: {:age}\".format(Person()))"
      ],
      "execution_count": null,
      "outputs": [
        {
          "output_type": "stream",
          "text": [
            "It's now: 2021/04/24 14:35:52\n",
            "Real part: 1.0 and Imaginary part: 2.0\n",
            "Adam's age is: 23\n"
          ],
          "name": "stdout"
        }
      ]
    },
    {
      "cell_type": "markdown",
      "metadata": {
        "id": "wNOPgXaXUTRY"
      },
      "source": [
        "**Example: __str()__ and __repr()__ shorthand !r and !s using format()**"
      ]
    },
    {
      "cell_type": "code",
      "metadata": {
        "colab": {
          "base_uri": "https://localhost:8080/"
        },
        "id": "3ph3fXInUPql",
        "outputId": "147ac176-b06a-4671-d761-ad1e524a94f8"
      },
      "source": [
        "# __str__() and __repr__() shorthand !r and !s\n",
        "print(\"Quotes: {0!r}, Without Quotes: {0!s}\".format(\"cat\"))\n",
        "\n",
        "# __str__() and __repr__() implementation for class\n",
        "class Person:\n",
        "    def __str__(self):\n",
        "        return \"STR\"\n",
        "    def __repr__(self):\n",
        "        return \"REPR\"\n",
        "\n",
        "print(\"repr: {p!r}, str: {p!s}\".format(p=Person()))"
      ],
      "execution_count": null,
      "outputs": [
        {
          "output_type": "stream",
          "text": [
            "Quotes: 'cat', Without Quotes: cat\n",
            "repr: REPR, str: STR\n"
          ],
          "name": "stdout"
        }
      ]
    },
    {
      "cell_type": "markdown",
      "metadata": {
        "id": "xFasO_9gWemE"
      },
      "source": [
        "# **index()**"
      ]
    },
    {
      "cell_type": "markdown",
      "metadata": {
        "id": "7LZMqoqsWhx3"
      },
      "source": [
        "**Definition and Usage:**\n",
        "\n",
        "The index() method finds the first occurrence of the specified value.\n",
        "\n",
        "The index() method raises an exception if the value is not found.\n",
        "\n",
        "The index() method is almost the same as the find() method, the only difference is that the find() method returns -1 if the value is not found. (See example below)\n",
        "\n",
        "**Syntax:** string.index(value, start, end)\n",
        "\n",
        "Parameter Values\n",
        "\n",
        "**value\tRequired.** The value to search for\n",
        "\n",
        "**start\tOptional.** Where to start the search. Default is 0\n",
        "\n",
        "**end\tOptional.** Where to end the search. Default is to the end of the string"
      ]
    },
    {
      "cell_type": "code",
      "metadata": {
        "colab": {
          "base_uri": "https://localhost:8080/"
        },
        "id": "0xXBVSqUYGuD",
        "outputId": "dd21914d-2706-47b4-a496-d733bfe16e82"
      },
      "source": [
        "# Where in the text is the word \"welcome\"?:\n",
        "txt = \"Hello, welcome to my world.\"\n",
        "x = txt.index(\"welcome\")\n",
        "print(x)"
      ],
      "execution_count": null,
      "outputs": [
        {
          "output_type": "stream",
          "text": [
            "7\n"
          ],
          "name": "stdout"
        }
      ]
    },
    {
      "cell_type": "markdown",
      "metadata": {
        "id": "zPFe8vLYY72I"
      },
      "source": [
        "**Example: index() With Substring argument Only**"
      ]
    },
    {
      "cell_type": "code",
      "metadata": {
        "colab": {
          "base_uri": "https://localhost:8080/"
        },
        "id": "NcqREdatY5T4",
        "outputId": "77c7409b-3535-4378-9daf-ea5d9b167f38"
      },
      "source": [
        "sentence = 'Python programming is fun.'\n",
        "\n",
        "result = sentence.index('is fun')\n",
        "print(result)\n",
        "\n",
        "# result = sentence.index('Java')\n",
        "# print(result)  # ValueError: substring not found"
      ],
      "execution_count": null,
      "outputs": [
        {
          "output_type": "stream",
          "text": [
            "19\n"
          ],
          "name": "stdout"
        }
      ]
    },
    {
      "cell_type": "markdown",
      "metadata": {
        "id": "ft_fEcjQZXJK"
      },
      "source": [
        "**Example: index() With start and end Arguments**"
      ]
    },
    {
      "cell_type": "code",
      "metadata": {
        "colab": {
          "base_uri": "https://localhost:8080/"
        },
        "id": "tkoai5gaZU_A",
        "outputId": "b06e0da9-9a15-437d-e586-12544e2760f6"
      },
      "source": [
        "sentence = 'Python programming is fun.'\n",
        "\n",
        "# Substring is searched in 'gramming is fun.'\n",
        "print(sentence[10:])\n",
        "print(sentence.index('ing', 10))\n",
        "\n",
        "# Substring is searched in 'gramming is '\n",
        "print(sentence[10:-4])\n",
        "print(sentence.index('g is', 10, -4))\n",
        "\n",
        "# # Substring is searched in 'programming'\n",
        "# print(sentence.index('fun', 7, 18))  # ValueError: substring not found"
      ],
      "execution_count": null,
      "outputs": [
        {
          "output_type": "stream",
          "text": [
            "gramming is fun.\n",
            "15\n",
            "gramming is \n",
            "17\n"
          ],
          "name": "stdout"
        }
      ]
    },
    {
      "cell_type": "markdown",
      "metadata": {
        "id": "e2awpj9sbKGG"
      },
      "source": [
        "# **isalnum()**"
      ]
    },
    {
      "cell_type": "markdown",
      "metadata": {
        "id": "GN26-I9tbJ21"
      },
      "source": [
        "**Definition and Usage:**\n",
        "\n",
        "The isalnum() method returns True if all the characters are alphanumeric, meaning alphabet letter (a-z) and numbers (0-9).\n",
        "\n",
        "Example of characters that are not alphanumeric: (space)!#%&? etc.\n",
        "\n"
      ]
    },
    {
      "cell_type": "code",
      "metadata": {
        "colab": {
          "base_uri": "https://localhost:8080/"
        },
        "id": "bpwQ6Z1obVj0",
        "outputId": "8769d3bf-9f8b-4da8-d1e2-13006571d01e"
      },
      "source": [
        "txt = \"Company 12\"\n",
        "x = txt.isalnum()\n",
        "print(x)  # prints False because of space"
      ],
      "execution_count": null,
      "outputs": [
        {
          "output_type": "stream",
          "text": [
            "True\n"
          ],
          "name": "stdout"
        }
      ]
    },
    {
      "cell_type": "code",
      "metadata": {
        "colab": {
          "base_uri": "https://localhost:8080/"
        },
        "id": "B2Zh20hub6Lh",
        "outputId": "796df320-65e5-4ee5-ef75-a4fb2e4912c9"
      },
      "source": [
        "name = \"M234onica\"\n",
        "print(name.isalnum())\n",
        "\n",
        "# contains whitespace\n",
        "name = \"M3onica Gell22er \"\n",
        "print(name.isalnum())\n",
        "\n",
        "name = \"Mo3nicaGell22er\"\n",
        "print(name.isalnum())\n",
        "\n",
        "name = \"133\"\n",
        "print(name.isalnum())"
      ],
      "execution_count": null,
      "outputs": [
        {
          "output_type": "stream",
          "text": [
            "True\n",
            "False\n",
            "True\n",
            "True\n"
          ],
          "name": "stdout"
        }
      ]
    },
    {
      "cell_type": "code",
      "metadata": {
        "colab": {
          "base_uri": "https://localhost:8080/"
        },
        "id": "hqkKSSs-bsuq",
        "outputId": "b35df58f-5432-4317-f506-ee768f794b86"
      },
      "source": [
        "name = \"M0n1caG3ll3r\"\n",
        "if name.isalnum() == True:\n",
        "  print(\"All characters of string (name) are alphanumeric.\")\n",
        "else:\n",
        "  print(\"All characters are not alphanumeric.\")"
      ],
      "execution_count": null,
      "outputs": [
        {
          "output_type": "stream",
          "text": [
            "All characters of string (name) are alphanumeric.\n"
          ],
          "name": "stdout"
        }
      ]
    },
    {
      "cell_type": "markdown",
      "metadata": {
        "id": "xABs3eCEcQGZ"
      },
      "source": [
        "# **isalpha()**"
      ]
    },
    {
      "cell_type": "markdown",
      "metadata": {
        "id": "rRsErgT5cPuN"
      },
      "source": [
        "**Definition and Usage:**\n",
        "\n",
        "The isalpha() method returns True if all the characters are alphabet letters (a-z).\n",
        "\n",
        "Example of characters that are not alphabet letters: (space)!#%&? etc.\n",
        "\n",
        "**Syntax:** string.isalpha()"
      ]
    },
    {
      "cell_type": "code",
      "metadata": {
        "colab": {
          "base_uri": "https://localhost:8080/"
        },
        "id": "V8-B-fOech3X",
        "outputId": "660ec278-55f9-4d22-b8cd-9d19d8094292"
      },
      "source": [
        "txt = \"Company10\"\n",
        "x = txt.isalpha()\n",
        "print(x)"
      ],
      "execution_count": null,
      "outputs": [
        {
          "output_type": "stream",
          "text": [
            "False\n"
          ],
          "name": "stdout"
        }
      ]
    },
    {
      "cell_type": "code",
      "metadata": {
        "colab": {
          "base_uri": "https://localhost:8080/"
        },
        "id": "DS5JcXwncrjx",
        "outputId": "d3ef5455-10d0-4c88-a781-85f574c0a965"
      },
      "source": [
        "name = \"Monica\"\n",
        "print(name.isalpha())\n",
        "\n",
        "# contains whitespace\n",
        "name = \"Monica Geller\"\n",
        "print(name.isalpha())\n",
        "\n",
        "# contains number\n",
        "name = \"Mo3nicaGell22er\"\n",
        "print(name.isalpha())"
      ],
      "execution_count": null,
      "outputs": [
        {
          "output_type": "stream",
          "text": [
            "True\n",
            "False\n",
            "False\n"
          ],
          "name": "stdout"
        }
      ]
    },
    {
      "cell_type": "code",
      "metadata": {
        "colab": {
          "base_uri": "https://localhost:8080/"
        },
        "id": "2jak24mHc0J6",
        "outputId": "a821b167-ccaf-42d8-88cb-c1977ebcc795"
      },
      "source": [
        "name = \"MonicaGeller\"\n",
        "\n",
        "if name.isalpha() == True:\n",
        "  print(\"All characters are alphabets\")\n",
        "else:\n",
        "  print(\"All characters are not alphabets.\")"
      ],
      "execution_count": null,
      "outputs": [
        {
          "output_type": "stream",
          "text": [
            "All characters are alphabets\n"
          ],
          "name": "stdout"
        }
      ]
    },
    {
      "cell_type": "markdown",
      "metadata": {
        "id": "zLzHuPGkdDEW"
      },
      "source": [
        "# **isdecimal()**"
      ]
    },
    {
      "cell_type": "markdown",
      "metadata": {
        "id": "I3W6u3ZwdC2i"
      },
      "source": [
        "**Definition and Usage:**\n",
        "\n",
        "The isdecimal() method returns True if all the characters are decimals (0-9).\n",
        "\n",
        "This method is used on unicode objects.\n",
        "\n",
        "**Syntax:** string.isdecimal()"
      ]
    },
    {
      "cell_type": "code",
      "metadata": {
        "colab": {
          "base_uri": "https://localhost:8080/"
        },
        "id": "7fQ1_itrdMoW",
        "outputId": "ad936a8e-952a-43a0-d683-820719ab461b"
      },
      "source": [
        "a = \"\\u0030\" #unicode for 0\n",
        "b = \"\\u0047\" #unicode for G\n",
        "\n",
        "print(a.isdecimal())\n",
        "print(b.isdecimal())"
      ],
      "execution_count": null,
      "outputs": [
        {
          "output_type": "stream",
          "text": [
            "True\n",
            "False\n"
          ],
          "name": "stdout"
        }
      ]
    },
    {
      "cell_type": "code",
      "metadata": {
        "colab": {
          "base_uri": "https://localhost:8080/"
        },
        "id": "6qFIah6PeGhU",
        "outputId": "5e8e4a67-23f2-4399-ac26-f4b96941855e"
      },
      "source": [
        "s = \"28212\"\n",
        "print(s.isdecimal())\n",
        "\n",
        "# contains alphabets\n",
        "s = \"32ladk3\"\n",
        "print(s.isdecimal())\n",
        "\n",
        "# contains alphabets and spaces\n",
        "s = \"Mo3 nicaG el l22er\"\n",
        "print(s.isdecimal())"
      ],
      "execution_count": null,
      "outputs": [
        {
          "output_type": "stream",
          "text": [
            "True\n",
            "False\n",
            "False\n"
          ],
          "name": "stdout"
        }
      ]
    },
    {
      "cell_type": "markdown",
      "metadata": {
        "id": "ybUXXWy5ey5Z"
      },
      "source": [
        "**Example: String Containing digits and Numeric Characters**"
      ]
    },
    {
      "cell_type": "code",
      "metadata": {
        "colab": {
          "base_uri": "https://localhost:8080/"
        },
        "id": "YWbEi7ivewgW",
        "outputId": "b16adee2-e06c-4c00-81ad-ca05185471ee"
      },
      "source": [
        "s = '23455'\n",
        "print(s.isdecimal())\n",
        "\n",
        "#s = '²3455'\n",
        "s = '\\u00B23455'\n",
        "print(s.isdecimal())\n",
        "\n",
        "# s = '½'\n",
        "s = '\\u00BD'\n",
        "print(s.isdecimal())"
      ],
      "execution_count": null,
      "outputs": [
        {
          "output_type": "stream",
          "text": [
            "True\n",
            "False\n",
            "False\n"
          ],
          "name": "stdout"
        }
      ]
    },
    {
      "cell_type": "markdown",
      "metadata": {
        "id": "JOhNz71NgNaN"
      },
      "source": [
        "# **isdigit()**"
      ]
    },
    {
      "cell_type": "markdown",
      "metadata": {
        "id": "pFKq2A4OgNI7"
      },
      "source": [
        "**Definition and Usage:**\n",
        "\n",
        "The isdigit() method returns True if all the characters are digits, otherwise False.\n",
        "\n",
        "Exponents, like ², are also considered to be a digit.\n",
        "\n",
        "**Syntax:** string.isdigit()"
      ]
    },
    {
      "cell_type": "code",
      "metadata": {
        "colab": {
          "base_uri": "https://localhost:8080/"
        },
        "id": "Cx3ZGQCXgKVS",
        "outputId": "05137ec8-82ff-4ba5-c414-7dd3b624409e"
      },
      "source": [
        "txt = \"50800\"\n",
        "x = txt.isdigit()\n",
        "print(x)"
      ],
      "execution_count": null,
      "outputs": [
        {
          "output_type": "stream",
          "text": [
            "True\n"
          ],
          "name": "stdout"
        }
      ]
    },
    {
      "cell_type": "code",
      "metadata": {
        "colab": {
          "base_uri": "https://localhost:8080/"
        },
        "id": "0OnsiRG3gixL",
        "outputId": "532c655a-e287-485f-918c-75a65707972c"
      },
      "source": [
        "a = \"\\u0030\" #unicode for 0\n",
        "b = \"\\u00B2\" #unicode for ²\n",
        "\n",
        "print(a.isdigit())\n",
        "print(b.isdigit())"
      ],
      "execution_count": null,
      "outputs": [
        {
          "output_type": "stream",
          "text": [
            "True\n",
            "True\n"
          ],
          "name": "stdout"
        }
      ]
    },
    {
      "cell_type": "code",
      "metadata": {
        "colab": {
          "base_uri": "https://localhost:8080/"
        },
        "id": "NVm_hIupgx_k",
        "outputId": "942735da-f32d-4666-bd17-3ee3a107815f"
      },
      "source": [
        "s = \"28212\"\n",
        "print(s.isdigit())\n",
        "\n",
        "# contains alphabets and spaces\n",
        "s = \"Mo3 nicaG el l22er\"\n",
        "print(s.isdigit())"
      ],
      "execution_count": null,
      "outputs": [
        {
          "output_type": "stream",
          "text": [
            "True\n",
            "False\n"
          ],
          "name": "stdout"
        }
      ]
    },
    {
      "cell_type": "code",
      "metadata": {
        "colab": {
          "base_uri": "https://localhost:8080/"
        },
        "id": "euaP_c80iTmV",
        "outputId": "f4cdcf2d-3f7a-4d31-e7bf-d90b0a553c1c"
      },
      "source": [
        "s = '23455'\n",
        "print(s.isdigit())\n",
        "\n",
        "#s = '²3455'\n",
        "# subscript is a digit\n",
        "s = '\\u00B23455'\n",
        "print(s.isdigit())\n",
        "\n",
        "# s = '½'\n",
        "# fraction is not a digit\n",
        "s = '\\u00BD'\n",
        "print(s.isdigit())"
      ],
      "execution_count": null,
      "outputs": [
        {
          "output_type": "stream",
          "text": [
            "True\n",
            "True\n",
            "False\n"
          ],
          "name": "stdout"
        }
      ]
    },
    {
      "cell_type": "markdown",
      "metadata": {
        "id": "oEnL_BX8i5o1"
      },
      "source": [
        "# **isidentifier()**"
      ]
    },
    {
      "cell_type": "markdown",
      "metadata": {
        "id": "UK56zqlrjAem"
      },
      "source": [
        "**Definition and Usage:**\n",
        "\n",
        "The isidentifier() method returns True if the string is a valid identifier, otherwise False.\n",
        "\n",
        "A string is considered a valid identifier if it only contains alphanumeric letters (a-z) and (0-9), or underscores (_). A valid identifier cannot start with a number, or contain any spaces.\n",
        "\n",
        "**Syntax:** string.isidentifier()"
      ]
    },
    {
      "cell_type": "code",
      "metadata": {
        "colab": {
          "base_uri": "https://localhost:8080/"
        },
        "id": "kKTUkunSi0oC",
        "outputId": "1b764466-34f9-4181-c574-0beece902a76"
      },
      "source": [
        "a = \"MyFolder\"\n",
        "b = \"Demo002\"\n",
        "c = \"2bring\"\n",
        "d = \"my demo\"\n",
        "\n",
        "print(a.isidentifier())\n",
        "print(b.isidentifier())\n",
        "print(c.isidentifier())\n",
        "print(d.isidentifier())"
      ],
      "execution_count": null,
      "outputs": [
        {
          "output_type": "stream",
          "text": [
            "True\n",
            "True\n",
            "False\n",
            "False\n"
          ],
          "name": "stdout"
        }
      ]
    },
    {
      "cell_type": "code",
      "metadata": {
        "colab": {
          "base_uri": "https://localhost:8080/"
        },
        "id": "4nitiRTxjl33",
        "outputId": "a49eb37e-25f4-4c66-d760-ef22eec96721"
      },
      "source": [
        "str = 'Python'\n",
        "print(str.isidentifier())\n",
        "\n",
        "str = 'Py thon'\n",
        "print(str.isidentifier())\n",
        "\n",
        "str = '22Python'\n",
        "print(str.isidentifier())\n",
        "\n",
        "str = ''\n",
        "print(str.isidentifier())"
      ],
      "execution_count": null,
      "outputs": [
        {
          "output_type": "stream",
          "text": [
            "True\n",
            "False\n",
            "False\n",
            "False\n"
          ],
          "name": "stdout"
        }
      ]
    },
    {
      "cell_type": "code",
      "metadata": {
        "colab": {
          "base_uri": "https://localhost:8080/"
        },
        "id": "z9GSTqhWjwgq",
        "outputId": "2f916c2d-d4a6-45d1-e1de-eb8ca8e67129"
      },
      "source": [
        "str = 'root33'\n",
        "if str.isidentifier() == True:\n",
        "  print(str, 'is a valid identifier.')\n",
        "else:\n",
        "  print(str, 'is not a valid identifier.')\n",
        "  \n",
        "str = '33root'\n",
        "if str.isidentifier() == True:\n",
        "  print(str, 'is a valid identifier.')\n",
        "else:\n",
        "  print(str, 'is not a valid identifier.')\n",
        "  \n",
        "str = 'root 33'\n",
        "if str.isidentifier() == True:\n",
        "  print(str, 'is a valid identifier.')\n",
        "else:\n",
        "  print(str, 'is not a valid identifier.')"
      ],
      "execution_count": null,
      "outputs": [
        {
          "output_type": "stream",
          "text": [
            "root33 is a valid identifier.\n",
            "33root is not a valid identifier.\n",
            "root 33 is not a valid identifier.\n"
          ],
          "name": "stdout"
        }
      ]
    },
    {
      "cell_type": "markdown",
      "metadata": {
        "id": "eaYy7XqfkdN1"
      },
      "source": [
        "# **islower()**"
      ]
    },
    {
      "cell_type": "markdown",
      "metadata": {
        "id": "S1RJvpEJkcSi"
      },
      "source": [
        "**Definition and Usage:**\n",
        "\n",
        "The islower() method returns True if all the characters are in lower case, otherwise False.\n",
        "\n",
        "Numbers, symbols and spaces are not checked, only alphabet characters.\n",
        "\n",
        "**Syntax:** string.islower()"
      ]
    },
    {
      "cell_type": "code",
      "metadata": {
        "colab": {
          "base_uri": "https://localhost:8080/"
        },
        "id": "i2aB2QL7kbhK",
        "outputId": "03fbdd53-f1c0-4435-ad46-93074525a294"
      },
      "source": [
        "a = \"Hello world!\"\n",
        "b = \"hello 123\"\n",
        "c = \"mynameisPeter\"\n",
        "\n",
        "print(a.islower())\n",
        "print(b.islower())\n",
        "print(c.islower())"
      ],
      "execution_count": null,
      "outputs": [
        {
          "output_type": "stream",
          "text": [
            "False\n",
            "True\n",
            "False\n"
          ],
          "name": "stdout"
        }
      ]
    },
    {
      "cell_type": "code",
      "metadata": {
        "colab": {
          "base_uri": "https://localhost:8080/"
        },
        "id": "aX538_lJlLCb",
        "outputId": "6510e1e1-9488-41b7-a38b-c195beb7bec9"
      },
      "source": [
        "s = 'this is good'\n",
        "print(s.islower())\n",
        "\n",
        "s = 'th!s is a1so g00d'\n",
        "print(s.islower())\n",
        "\n",
        "s = 'this is Not good'\n",
        "print(s.islower())"
      ],
      "execution_count": null,
      "outputs": [
        {
          "output_type": "stream",
          "text": [
            "True\n",
            "True\n",
            "False\n"
          ],
          "name": "stdout"
        }
      ]
    },
    {
      "cell_type": "code",
      "metadata": {
        "colab": {
          "base_uri": "https://localhost:8080/"
        },
        "id": "SqMjNXtwlUrN",
        "outputId": "cf5c2014-451c-437f-c8dd-9b9a94b60da6"
      },
      "source": [
        "s = 'this is good'\n",
        "if s.islower() == True:\n",
        "  print('Does not contain uppercase letter.')\n",
        "else:\n",
        "  print('Contains uppercase letter.')\n",
        "  \n",
        "s = 'this is Good'\n",
        "if s.islower() == True:\n",
        "  print('Does not contain uppercase letter.')\n",
        "else:\n",
        "  print('Contains uppercase letter.')"
      ],
      "execution_count": null,
      "outputs": [
        {
          "output_type": "stream",
          "text": [
            "Does not contain uppercase letter.\n",
            "Contains uppercase letter.\n"
          ],
          "name": "stdout"
        }
      ]
    },
    {
      "cell_type": "markdown",
      "metadata": {
        "id": "pHhhGszklwqe"
      },
      "source": [
        "# **isnumeric()**"
      ]
    },
    {
      "cell_type": "markdown",
      "metadata": {
        "id": "jky5jUFclwd3"
      },
      "source": [
        "**Definition and Usage:**\n",
        "\n",
        "The isnumeric() method returns True if all the characters are numeric (0-9), otherwise False.\n",
        "\n",
        "Exponents, like ² and ¾ are also considered to be numeric values.\n",
        "\n",
        "\"-1\" and \"1.5\" are NOT considered numeric values, because all the characters in the string must be numeric, and the - and the . are not.\n",
        "\n",
        "**Syntax:** string.isnumeric()"
      ]
    },
    {
      "cell_type": "code",
      "metadata": {
        "colab": {
          "base_uri": "https://localhost:8080/"
        },
        "id": "8QTU02jwl2Dx",
        "outputId": "cdd28233-fd5b-4995-c1fc-201f784dbff9"
      },
      "source": [
        "txt = \"565543\"\n",
        "x = txt.isnumeric()\n",
        "print(x)"
      ],
      "execution_count": null,
      "outputs": [
        {
          "output_type": "stream",
          "text": [
            "True\n"
          ],
          "name": "stdout"
        }
      ]
    },
    {
      "cell_type": "code",
      "metadata": {
        "colab": {
          "base_uri": "https://localhost:8080/"
        },
        "id": "TRaXaY5GmPJU",
        "outputId": "899f9538-9b5a-4039-a1f2-7aa395170128"
      },
      "source": [
        "a = \"\\u0030\" #unicode for 0\n",
        "b = \"\\u00B2\" #unicode for &sup2;\n",
        "c = \"10km2\"\n",
        "d = \"-1\"\n",
        "e = \"1.5\"\n",
        "\n",
        "print(a.isnumeric())\n",
        "print(b.isnumeric())\n",
        "print(c.isnumeric())\n",
        "print(d.isnumeric())\n",
        "print(e.isnumeric())"
      ],
      "execution_count": null,
      "outputs": [
        {
          "output_type": "stream",
          "text": [
            "True\n",
            "True\n",
            "False\n",
            "False\n",
            "False\n"
          ],
          "name": "stdout"
        }
      ]
    },
    {
      "cell_type": "code",
      "metadata": {
        "colab": {
          "base_uri": "https://localhost:8080/"
        },
        "id": "FaLpLwD6mldm",
        "outputId": "d43e2f4d-c1b3-4e0d-e54a-ed4013eb513f"
      },
      "source": [
        "s = '1242323'\n",
        "print(s.isnumeric())\n",
        "\n",
        "#s = '²3455'\n",
        "s = '\\u00B23455'\n",
        "print(s.isnumeric())\n",
        "\n",
        "# s = '½'\n",
        "s = '\\u00BD'\n",
        "print(s.isnumeric())\n",
        "\n",
        "s = '1242323'\n",
        "s='python12'\n",
        "print(s.isnumeric())"
      ],
      "execution_count": null,
      "outputs": [
        {
          "output_type": "stream",
          "text": [
            "True\n",
            "True\n",
            "True\n",
            "False\n"
          ],
          "name": "stdout"
        }
      ]
    },
    {
      "cell_type": "code",
      "metadata": {
        "colab": {
          "base_uri": "https://localhost:8080/"
        },
        "id": "0p8CTiFFmx2a",
        "outputId": "6a7baad5-c9d2-4f73-b595-6c78f245c9e8"
      },
      "source": [
        "#s = '²3455'\n",
        "s = '\\u00B23455'\n",
        "\n",
        "if s.isnumeric() == True:\n",
        "  print('All characters are numeric.')\n",
        "else:\n",
        "  print('All characters are not numeric.')"
      ],
      "execution_count": null,
      "outputs": [
        {
          "output_type": "stream",
          "text": [
            "All characters are numeric.\n"
          ],
          "name": "stdout"
        }
      ]
    },
    {
      "cell_type": "code",
      "metadata": {
        "colab": {
          "base_uri": "https://localhost:8080/"
        },
        "id": "IKoPRCMDnpHi",
        "outputId": "a5aac4c5-45cb-48f0-81a1-551d7bcb9ac4"
      },
      "source": [
        "print('12345'.isdigit())\n",
        "\n",
        "print('12345'.isnumeric())\n",
        "\n",
        "print('一二三四五'.isdigit())\n",
        "\n",
        "print('一二三四五'.isnumeric())"
      ],
      "execution_count": null,
      "outputs": [
        {
          "output_type": "stream",
          "text": [
            "True\n",
            "True\n",
            "False\n",
            "True\n"
          ],
          "name": "stdout"
        }
      ]
    },
    {
      "cell_type": "markdown",
      "metadata": {
        "id": "oOACUriPoMwO"
      },
      "source": [
        "# **isprintable()**"
      ]
    },
    {
      "cell_type": "markdown",
      "metadata": {
        "id": "sASlkk-voLx4"
      },
      "source": [
        "**Definition and Usage:**\n",
        "\n",
        "The isprintable() method returns True if all the characters are printable, otherwise False.\n",
        "\n",
        "Example of none printable character can be carriage return and line feed.\n",
        "\n",
        "**Syntax:** string.isprintable()\n",
        "\n",
        "Characters that occupy printing space on the screen are known as printable characters. For example:\n",
        "\n",
        "letters and symbols\n",
        "\n",
        "digits\n",
        "\n",
        "punctuation\n",
        "\n",
        "whitespace"
      ]
    },
    {
      "cell_type": "code",
      "metadata": {
        "colab": {
          "base_uri": "https://localhost:8080/"
        },
        "id": "t3pGsmnboXG_",
        "outputId": "7db90d68-e241-480a-8871-d09d6b57904f"
      },
      "source": [
        "s = 'Space is a printable'\n",
        "print(s)\n",
        "print(s.isprintable())\n",
        "\n",
        "s = '\\nNew Line is printable'\n",
        "print(s)\n",
        "print(s.isprintable())\n",
        "\n",
        "s = ''\n",
        "print('\\nEmpty string printable?', s.isprintable())"
      ],
      "execution_count": null,
      "outputs": [
        {
          "output_type": "stream",
          "text": [
            "Space is a printable\n",
            "True\n",
            "\n",
            "New Line is printable\n",
            "False\n",
            "\n",
            "Empty string printable? True\n"
          ],
          "name": "stdout"
        }
      ]
    },
    {
      "cell_type": "code",
      "metadata": {
        "colab": {
          "base_uri": "https://localhost:8080/"
        },
        "id": "iYkdfLrTpRnu",
        "outputId": "f639e4c7-116a-4252-8a09-8021a3ed3251"
      },
      "source": [
        "# written using ASCII\n",
        "# chr(27) is escape character\n",
        "# char(97) is letter 'a'\n",
        "s = chr(27) + chr(97)\n",
        "print(s)\n",
        "\n",
        "if s.isprintable() == True:\n",
        "  print('Printable')\n",
        "else:\n",
        "  print('Not Printable')\n",
        "  \n",
        "s = '2+2 = 4'\n",
        "\n",
        "if s.isprintable() == True:\n",
        "  print('Printable')\n",
        "else:\n",
        "  print('Not Printable')"
      ],
      "execution_count": null,
      "outputs": [
        {
          "output_type": "stream",
          "text": [
            "\u001ba\n",
            "Not Printable\n",
            "Printable\n"
          ],
          "name": "stdout"
        }
      ]
    },
    {
      "cell_type": "markdown",
      "metadata": {
        "id": "79-jCjKpoQDI"
      },
      "source": [
        "# **isspace()**"
      ]
    },
    {
      "cell_type": "markdown",
      "metadata": {
        "id": "gF-DNKGYoawV"
      },
      "source": [
        "**Definition and Usage:**\n",
        "\n",
        "The isspace() method returns **True if all the characters in a string are whitespaces**, otherwise False.\n",
        "\n",
        "**Syntax:** string.isspace()"
      ]
    },
    {
      "cell_type": "code",
      "metadata": {
        "colab": {
          "base_uri": "https://localhost:8080/"
        },
        "id": "TOqdo6ayolg7",
        "outputId": "918ddbaf-b1fc-4bf9-f525-dc3e360edc1d"
      },
      "source": [
        "txt = \"   s   \"\n",
        "x = txt.isspace()\n",
        "print(x)"
      ],
      "execution_count": null,
      "outputs": [
        {
          "output_type": "stream",
          "text": [
            "False\n"
          ],
          "name": "stdout"
        }
      ]
    },
    {
      "cell_type": "code",
      "metadata": {
        "colab": {
          "base_uri": "https://localhost:8080/"
        },
        "id": "xQtr853FpGyQ",
        "outputId": "61300f81-7390-4914-ef16-b4382b2a669b"
      },
      "source": [
        "s = '   \\t'\n",
        "print(s.isspace())\n",
        "\n",
        "s = ' a '\n",
        "print(s.isspace())\n",
        "\n",
        "s = ''\n",
        "print(s.isspace())"
      ],
      "execution_count": null,
      "outputs": [
        {
          "output_type": "stream",
          "text": [
            "True\n",
            "False\n",
            "False\n"
          ],
          "name": "stdout"
        }
      ]
    },
    {
      "cell_type": "code",
      "metadata": {
        "colab": {
          "base_uri": "https://localhost:8080/"
        },
        "id": "leOJ-s_IpXDQ",
        "outputId": "32330357-c0ae-4832-d9e4-2fd2d6b0e14b"
      },
      "source": [
        "s = '\\t  \\n'\n",
        "if s.isspace() == True:\n",
        "  print('All whitespace characters')\n",
        "else:\n",
        "  print('Contains non-whitespace characters')\n",
        "  \n",
        "s = '2+2 = 4'\n",
        "\n",
        "if s.isspace() == True:\n",
        "  print('All whitespace characters')\n",
        "else:\n",
        "  print('Contains non-whitespace characters.')"
      ],
      "execution_count": null,
      "outputs": [
        {
          "output_type": "stream",
          "text": [
            "All whitespace characters\n",
            "Contains non-whitespace characters.\n"
          ],
          "name": "stdout"
        }
      ]
    },
    {
      "cell_type": "markdown",
      "metadata": {
        "id": "78ome7LJpowb"
      },
      "source": [
        "# **istitle()** "
      ]
    },
    {
      "cell_type": "markdown",
      "metadata": {
        "id": "-70CHMy0pogh"
      },
      "source": [
        "**Definition and Usage:**\n",
        "\n",
        "The istitle() method returns **True if all words in a text start with a upper case letter**, AND the rest of the word are lower case letters, otherwise False.\n",
        "\n",
        "Symbols and numbers are ignored.\n",
        "\n",
        "**Syntax:** string.istitle()"
      ]
    },
    {
      "cell_type": "code",
      "metadata": {
        "colab": {
          "base_uri": "https://localhost:8080/"
        },
        "id": "5aHGeqDhqDTg",
        "outputId": "3fa39939-a8fc-4d9b-8b05-175e98d7f302"
      },
      "source": [
        "a = \"HELLO, AND WELCOME TO MY WORLD\"\n",
        "b = \"Hello\"\n",
        "c = \"22 Names\"\n",
        "d = \"This Is %'!?\"\n",
        "\n",
        "print(a.istitle())\n",
        "print(b.istitle())\n",
        "print(c.istitle())\n",
        "print(d.istitle())"
      ],
      "execution_count": null,
      "outputs": [
        {
          "output_type": "stream",
          "text": [
            "False\n",
            "True\n",
            "True\n",
            "True\n"
          ],
          "name": "stdout"
        }
      ]
    },
    {
      "cell_type": "code",
      "metadata": {
        "colab": {
          "base_uri": "https://localhost:8080/"
        },
        "id": "hyc0nX3drVLt",
        "outputId": "ae713847-b154-4ab8-b5d7-1cd77672764a"
      },
      "source": [
        "s = 'Python Is Good.'\n",
        "print(s.istitle())\n",
        "\n",
        "s = 'Python is good'\n",
        "print(s.istitle())\n",
        "\n",
        "s = 'This Is @ Symbol.'\n",
        "print(s.istitle())\n",
        "\n",
        "s = '99 Is A Number'\n",
        "print(s.istitle())\n",
        "\n",
        "s = 'PYTHON'\n",
        "print(s.istitle())"
      ],
      "execution_count": null,
      "outputs": [
        {
          "output_type": "stream",
          "text": [
            "True\n",
            "False\n",
            "True\n",
            "True\n",
            "False\n"
          ],
          "name": "stdout"
        }
      ]
    },
    {
      "cell_type": "code",
      "metadata": {
        "colab": {
          "base_uri": "https://localhost:8080/"
        },
        "id": "b3vKpxhhrEbN",
        "outputId": "72693419-7161-499b-9e74-0088ba03579d"
      },
      "source": [
        "s = 'I Love Python.'\n",
        "if s.istitle() == True:\n",
        "  print('Titlecased String')\n",
        "else:\n",
        "  print('Not a Titlecased String')\n",
        "  \n",
        "s = 'PYthon'\n",
        "if s.istitle() == True:\n",
        "  print('Titlecased String')\n",
        "else:\n",
        "  print('Not a Titlecased String')"
      ],
      "execution_count": null,
      "outputs": [
        {
          "output_type": "stream",
          "text": [
            "Titlecased String\n",
            "Not a Titlecased String\n"
          ],
          "name": "stdout"
        }
      ]
    },
    {
      "cell_type": "markdown",
      "metadata": {
        "id": "kKYOCSCtrcTl"
      },
      "source": [
        "# **isupper()**"
      ]
    },
    {
      "cell_type": "markdown",
      "metadata": {
        "id": "6EsFJM-9rcEc"
      },
      "source": [
        "**Definition and Usage:**\n",
        "\n",
        "The isupper() method returns **True if all the characters are in upper case**, otherwise False.\n",
        "\n",
        "Numbers, symbols and spaces are not checked, only alphabet characters.\n",
        "\n",
        "**Syntax:** string.isupper()"
      ]
    },
    {
      "cell_type": "code",
      "metadata": {
        "colab": {
          "base_uri": "https://localhost:8080/"
        },
        "id": "Br0hF2-4rvWV",
        "outputId": "6a011289-686f-40c0-af41-ad69e41c04f7"
      },
      "source": [
        "a = \"Hello World!\"\n",
        "b = \"hello 123\"\n",
        "c = \"MY NAME IS PETER\"\n",
        "\n",
        "print(a.isupper())\n",
        "print(b.isupper())\n",
        "print(c.isupper())"
      ],
      "execution_count": null,
      "outputs": [
        {
          "output_type": "stream",
          "text": [
            "False\n",
            "False\n",
            "True\n"
          ],
          "name": "stdout"
        }
      ]
    },
    {
      "cell_type": "code",
      "metadata": {
        "colab": {
          "base_uri": "https://localhost:8080/"
        },
        "id": "dJvbhRDasCVU",
        "outputId": "7148c49b-c692-45c8-c39a-bf6a7edf564c"
      },
      "source": [
        "string = \"THIS IS GOOD!\"\n",
        "print(string.isupper());\n",
        "\n",
        "# numbers (O ==> 0) in place of alphabets\n",
        "string = \"THIS IS ALS0 G00D!\"\n",
        "print(string.isupper());\n",
        "\n",
        "# lowercase string\n",
        "string = \"THIS IS not GOOD!\"\n",
        "print(string.isupper());"
      ],
      "execution_count": null,
      "outputs": [
        {
          "output_type": "stream",
          "text": [
            "True\n",
            "True\n",
            "False\n"
          ],
          "name": "stdout"
        }
      ]
    },
    {
      "cell_type": "code",
      "metadata": {
        "colab": {
          "base_uri": "https://localhost:8080/"
        },
        "id": "Wh-rQLbosX_B",
        "outputId": "51d157d6-0ddd-40bb-e2ae-36c681cd0810"
      },
      "source": [
        "string = 'THIS IS GOOD'\n",
        "if string.isupper() == True:\n",
        "  print('Does not contain lowercase letter.')\n",
        "else:\n",
        "  print('Contains lowercase letter.')\n",
        "  \n",
        "string = 'THIS IS gOOD'\n",
        "if string.isupper() == True:\n",
        "  print('Does not contain lowercase letter.')\n",
        "else:\n",
        "  print('Contains lowercase letter.')"
      ],
      "execution_count": null,
      "outputs": [
        {
          "output_type": "stream",
          "text": [
            "Does not contain lowercase letter.\n",
            "Contains lowercase letter.\n"
          ],
          "name": "stdout"
        }
      ]
    },
    {
      "cell_type": "markdown",
      "metadata": {
        "id": "zQY60piLsyFn"
      },
      "source": [
        "# join() *** **bold text**"
      ]
    },
    {
      "cell_type": "markdown",
      "metadata": {
        "id": "AG38iH0jsx8h"
      },
      "source": [
        "**Definition and Usage:**\n",
        "\n",
        "The join() method takes all items in an iterable and joins them into one string.\n",
        "\n",
        "A string must be specified as the separator.\n",
        "\n",
        "The join() method provides a flexible way to create strings from iterable objects. It joins each element of an iterable (such as list, string, and tuple) by a string separator (the string on which the join() method is called) and returns the concatenated string.\n",
        "\n",
        "**Syntax:** string.join(iterable)\n",
        "\n",
        "**Parameter Values:**\n",
        "\n",
        "***iterable\tRequired.*** Any iterable object where all the returned values are strings"
      ]
    },
    {
      "cell_type": "code",
      "metadata": {
        "colab": {
          "base_uri": "https://localhost:8080/"
        },
        "id": "6EAiZr4astfd",
        "outputId": "558c3d83-5202-428b-9ffa-5a563ef2a0bb"
      },
      "source": [
        "myDict = {\"name\": \"John\", \"country\": \"Norway\"}\n",
        "mySeparator = \"TEST\"\n",
        "\n",
        "x = mySeparator.join(myDict)\n",
        "\n",
        "print(x)"
      ],
      "execution_count": null,
      "outputs": [
        {
          "output_type": "stream",
          "text": [
            "nameTESTcountry\n"
          ],
          "name": "stdout"
        }
      ]
    },
    {
      "cell_type": "code",
      "metadata": {
        "colab": {
          "base_uri": "https://localhost:8080/"
        },
        "id": "wDGJWQbtt44N",
        "outputId": "56261b39-c9c8-44f0-a76a-2ba4b501c0d1"
      },
      "source": [
        "# .join() with lists\n",
        "numList = ['1', '2', '3', '4']\n",
        "separator = ', '\n",
        "print(separator.join(numList))\n",
        "\n",
        "# .join() with tuples\n",
        "numTuple = ('1', '2', '3', '4')\n",
        "print(separator.join(numTuple))\n",
        "\n",
        "s1 = 'abc'\n",
        "s2 = '123'\n",
        "s3 = 'A'\n",
        "# each element of s2 is separated by s1\n",
        "# '1'+ 'abc'+ '2'+ 'abc'+ '3'\n",
        "print('s1.join(s2):', s1.join(s2))\n",
        "\n",
        "# each element of s1 is separated by s2\n",
        "# 'a'+ '123'+ 'b'+ '123'+ 'b'\n",
        "print('s2.join(s1):', s2.join(s1))\n",
        "\n",
        "print(s3.join(s1))"
      ],
      "execution_count": null,
      "outputs": [
        {
          "output_type": "stream",
          "text": [
            "1, 2, 3, 4\n",
            "1, 2, 3, 4\n",
            "s1.join(s2): 1abc2abc3\n",
            "s2.join(s1): a123b123c\n",
            "aAbAc\n"
          ],
          "name": "stdout"
        }
      ]
    },
    {
      "cell_type": "markdown",
      "metadata": {
        "id": "4rRn58VNvwy_"
      },
      "source": [
        "**Example: The join() method with sets**"
      ]
    },
    {
      "cell_type": "code",
      "metadata": {
        "colab": {
          "base_uri": "https://localhost:8080/"
        },
        "id": "t2Pimv8uujeU",
        "outputId": "accf1073-5bd7-49a0-8f52-13164564ff4b"
      },
      "source": [
        "test = {'2', '1', '3'}\n",
        "s = ', '\n",
        "print(s.join(test))\n",
        "\n",
        "test = {'Python', 'Java', 'Ruby'}\n",
        "s = '->->'\n",
        "print(s.join(test))"
      ],
      "execution_count": null,
      "outputs": [
        {
          "output_type": "stream",
          "text": [
            "3, 2, 1\n",
            "Ruby->->Python->->Java\n"
          ],
          "name": "stdout"
        }
      ]
    },
    {
      "cell_type": "markdown",
      "metadata": {
        "id": "uoOb4EilwVAe"
      },
      "source": [
        "**Example: The join() method with dictionaries**"
      ]
    },
    {
      "cell_type": "code",
      "metadata": {
        "colab": {
          "base_uri": "https://localhost:8080/"
        },
        "id": "sEAbMg6YwSic",
        "outputId": "255d054e-4790-44dc-9f80-9ad2b509bb7e"
      },
      "source": [
        "test = {'mat': 1, 'that': 2}\n",
        "s = '->'\n",
        "\n",
        "# joins the keys only\n",
        "print(s.join(test))\n",
        "\n",
        "test = {1: 'mat', 2: 'that'}\n",
        "s = ', '\n",
        "\n",
        "# this gives error since key isn't string\n",
        "# print(s.join(test))"
      ],
      "execution_count": null,
      "outputs": [
        {
          "output_type": "stream",
          "text": [
            "mat->that\n"
          ],
          "name": "stdout"
        }
      ]
    },
    {
      "cell_type": "markdown",
      "metadata": {
        "id": "tt3fIQNQwtkO"
      },
      "source": [
        "The join() method tries to join the keys (not values) of the dictionary with the string separator.\n",
        "\n",
        "Note: If the key of the string is not a string, it raises a TypeError exception SINCE join() method is a STRING METHOD."
      ]
    },
    {
      "cell_type": "markdown",
      "metadata": {
        "id": "xImqo5ucw8W1"
      },
      "source": [
        "# **ljust()**"
      ]
    },
    {
      "cell_type": "markdown",
      "metadata": {
        "id": "VCXvQKPuw916"
      },
      "source": [
        "**Definition and Usage:**\n",
        "\n",
        "The ljust() method will **left align the string**, using a specified character (space is default) as the fill character.\n",
        "\n",
        "**Syntax:** string.ljust(length, character)\n",
        "\n",
        "**Parameter Values**\n",
        "\n",
        "***length\tRequired.*** The length of the returned string\n",
        "\n",
        "***character\tOptional.*** A character to fill the missing space (to the right of the string). Default is \" \" (space)."
      ]
    },
    {
      "cell_type": "code",
      "metadata": {
        "colab": {
          "base_uri": "https://localhost:8080/"
        },
        "id": "pGKoJOdLw-z4",
        "outputId": "5a7d0067-4afb-4a0e-b494-d3e360bdb3e3"
      },
      "source": [
        "txt = \"banana\"\n",
        "x = txt.ljust(20)\n",
        "print(x, \"is my favorite fruit.\")"
      ],
      "execution_count": null,
      "outputs": [
        {
          "output_type": "stream",
          "text": [
            "banana               is my favorite fruit.\n"
          ],
          "name": "stdout"
        }
      ]
    },
    {
      "cell_type": "markdown",
      "metadata": {
        "id": "AlU8fxSExzZr"
      },
      "source": [
        "**Note:** In the result, there are actually 14 + 1 whitespaces to the right of the word banana."
      ]
    },
    {
      "cell_type": "code",
      "metadata": {
        "colab": {
          "base_uri": "https://localhost:8080/"
        },
        "id": "3YhWRZu6x1uc",
        "outputId": "2e51dbaf-fb6e-4c26-9121-eae1bf54850c"
      },
      "source": [
        "string = 'cat'\n",
        "width = 5\n",
        "\n",
        "# print left justified string\n",
        "print(string.ljust(width))"
      ],
      "execution_count": null,
      "outputs": [
        {
          "output_type": "stream",
          "text": [
            "cat  \n"
          ],
          "name": "stdout"
        }
      ]
    },
    {
      "cell_type": "code",
      "metadata": {
        "colab": {
          "base_uri": "https://localhost:8080/"
        },
        "id": "HXHaKHwMyb2s",
        "outputId": "2259817d-b46b-47a7-a267-85b295809b49"
      },
      "source": [
        "string = 'cat'\n",
        "width = 5\n",
        "fillchar = '*'\n",
        "\n",
        "# print left justified string\n",
        "print(string.ljust(width, fillchar))\n",
        "print(string.ljust(5, '*'))"
      ],
      "execution_count": null,
      "outputs": [
        {
          "output_type": "stream",
          "text": [
            "cat**\n",
            "cat**\n"
          ],
          "name": "stdout"
        }
      ]
    },
    {
      "cell_type": "markdown",
      "metadata": {
        "id": "Mqa9L0xay11N"
      },
      "source": [
        "Here, the string cat is aligned to the left, and the remaining two spaces on the right is filled with the character *.\n",
        "\n",
        "**Note:** If you want to right justify the string, use rjust(). You can also use format() method for the formatting of strings."
      ]
    },
    {
      "cell_type": "markdown",
      "metadata": {
        "id": "Ut8wZNR4zBaO"
      },
      "source": [
        "# **rjust()**"
      ]
    },
    {
      "cell_type": "markdown",
      "metadata": {
        "id": "3HhCBJXnzBNv"
      },
      "source": [
        ""
      ]
    },
    {
      "cell_type": "code",
      "metadata": {
        "colab": {
          "base_uri": "https://localhost:8080/"
        },
        "id": "lR6lsnSwy4a4",
        "outputId": "b13c5faa-635a-4683-9eba-cb01b0207042"
      },
      "source": [
        "x=1234\n",
        "# print(len(x))  TypeError: object of type 'int' has no len()\n",
        "print(len(str(x)))"
      ],
      "execution_count": null,
      "outputs": [
        {
          "output_type": "stream",
          "text": [
            "4\n"
          ],
          "name": "stdout"
        }
      ]
    },
    {
      "cell_type": "markdown",
      "metadata": {
        "id": "QF1sOzIpah8t"
      },
      "source": [
        "# **lower()**"
      ]
    },
    {
      "cell_type": "markdown",
      "metadata": {
        "id": "zPsEweAyauTc"
      },
      "source": [
        "**Definition and Usage**\n",
        "\n",
        "The lower() method returns a string where all characters are lower case.\n",
        "\n",
        "lower() method doesn't take any parameters.\n",
        "\n",
        "Symbols and Numbers are ignored.\n",
        "\n",
        "**Syntax:** string.lower()"
      ]
    },
    {
      "cell_type": "markdown",
      "metadata": {
        "id": "BWPXZY68btjH"
      },
      "source": [
        "**Example: Convert a string to lowercase**"
      ]
    },
    {
      "cell_type": "code",
      "metadata": {
        "colab": {
          "base_uri": "https://localhost:8080/"
        },
        "id": "qLhDdFHTaluK",
        "outputId": "9f5091fc-24e6-46ba-da0f-0df1f11c465f"
      },
      "source": [
        "txt = \"Hello my FRIENDS\"\n",
        "\n",
        "x = txt.lower()\n",
        "\n",
        "print(x)"
      ],
      "execution_count": null,
      "outputs": [
        {
          "output_type": "stream",
          "text": [
            "hello my friends\n"
          ],
          "name": "stdout"
        }
      ]
    },
    {
      "cell_type": "code",
      "metadata": {
        "colab": {
          "base_uri": "https://localhost:8080/"
        },
        "id": "ADwJ76xobV6-",
        "outputId": "6283bc42-9e3a-49d5-e4b7-e197db85fcfa"
      },
      "source": [
        "# example string\n",
        "string = \"THIS SHOULD BE LOWERCASE!\"\n",
        "print(string.lower())\n",
        "\n",
        "# string with numbers\n",
        "# all alphabets whould be lowercase\n",
        "string = \"Th!s Sh0uLd B3 L0w3rCas3!\"\n",
        "print(string.lower())"
      ],
      "execution_count": null,
      "outputs": [
        {
          "output_type": "stream",
          "text": [
            "this should be lowercase!\n",
            "th!s sh0uld b3 l0w3rcas3!\n"
          ],
          "name": "stdout"
        }
      ]
    },
    {
      "cell_type": "markdown",
      "metadata": {
        "id": "3_WAvJz8bk5u"
      },
      "source": [
        "**Example: How lower() is used in a program?**"
      ]
    },
    {
      "cell_type": "code",
      "metadata": {
        "colab": {
          "base_uri": "https://localhost:8080/"
        },
        "id": "mtBYziwubhZo",
        "outputId": "dddf3f02-4ac2-468e-c3a9-ce8d16f9f74a"
      },
      "source": [
        "# first string\n",
        "firstString = \"PYTHON IS AWESOME!\"\n",
        "\n",
        "# second string\n",
        "secondString = \"PyThOn Is AwEsOmE!\"\n",
        "\n",
        "if(firstString.lower() == secondString.lower()):\n",
        "    print(\"The strings are same.\")\n",
        "else:\n",
        "    print(\"The strings are not same.\")"
      ],
      "execution_count": null,
      "outputs": [
        {
          "output_type": "stream",
          "text": [
            "The strings are same.\n"
          ],
          "name": "stdout"
        }
      ]
    },
    {
      "cell_type": "markdown",
      "metadata": {
        "id": "tMrFU-OscPEY"
      },
      "source": [
        "**Note:** If you want to convert to uppercase string, use upper(). You can also use swapcase() to swap between lowercase to uppercase."
      ]
    },
    {
      "cell_type": "markdown",
      "metadata": {
        "id": "v3qv2wbbc7gZ"
      },
      "source": [
        "# **strip()**"
      ]
    },
    {
      "cell_type": "markdown",
      "metadata": {
        "id": "4mgp_e0NdgnV"
      },
      "source": [
        "**Definition and Usage**\n",
        "\n",
        "The strip() method removes any leading (spaces at the beginning) and trailing (spaces at the end) characters (space is the default leading character to remove)\n",
        "\n",
        "**Syntax:** string.strip(characters)\n",
        "\n",
        "**Parameter Values**\n",
        "\n",
        "characters\tOptional. A set of characters to remove as leading/trailing characters\n",
        "\n",
        "**Working of the strip() method**\n",
        "\n",
        "When the character of the string in the left mismatches with all the characters in the chars argument, it stops removing the leading characters.\n",
        "\n",
        "Similarly, when the character of the string in the right mismatches with all the characters in the chars argument, it stops removing the trailing characters."
      ]
    },
    {
      "cell_type": "code",
      "metadata": {
        "colab": {
          "base_uri": "https://localhost:8080/"
        },
        "id": "UzELQ1mDdQV4",
        "outputId": "3b56f32d-4997-4f54-e574-fa3ded7815d1"
      },
      "source": [
        "# Remove the leading and trailing characters:\n",
        "\n",
        "txt = \",,,,,rrttgg.....banana....rrr\"\n",
        "\n",
        "x = txt.strip(\",.grt\")\n",
        "\n",
        "print(x)"
      ],
      "execution_count": null,
      "outputs": [
        {
          "output_type": "stream",
          "text": [
            "banana\n"
          ],
          "name": "stdout"
        }
      ]
    },
    {
      "cell_type": "code",
      "metadata": {
        "colab": {
          "base_uri": "https://localhost:8080/"
        },
        "id": "LJbuXcf2eVsG",
        "outputId": "381e38f3-38b2-42b4-91d8-d4a445fe45cf"
      },
      "source": [
        "string = '  xoxo love xoxo   '\n",
        "\n",
        "# Leading and trailing whitespaces are removed\n",
        "print(string.strip())\n",
        "\n",
        "# All <whitespace>,x,o,e characters in the left\n",
        "# and right of string are removed\n",
        "print(string.strip(' xoe'))\n",
        "\n",
        "# If argument doesn't contain space, No characters are removed.\n",
        "print(string.strip('stx'))\n",
        "\n",
        "string = 'android is awesome'\n",
        "print(string.strip('an'))"
      ],
      "execution_count": null,
      "outputs": [
        {
          "output_type": "stream",
          "text": [
            "xoxo love xoxo\n",
            "lov\n",
            "  xoxo love xoxo   \n",
            "droid is awesome\n"
          ],
          "name": "stdout"
        }
      ]
    },
    {
      "cell_type": "markdown",
      "metadata": {
        "id": "_u6IChjsfI7Z"
      },
      "source": [
        "Here, we can see that the first expression string.strip() without any arguments removed the whitespaces from the left and right of string.\n",
        "\n",
        "string.strip(' xoe') removed all whitespace, x, o, and e that lead or trailed the string.\n",
        "\n",
        "Since string has whitespace at the beginning and end, the expression string.strip('stx') does not change the string. x is not removed since it is at the middle of the string (whitespaces lead and trail the string)\n",
        "\n",
        "string.strip('an') removed an leading the string."
      ]
    },
    {
      "cell_type": "markdown",
      "metadata": {
        "id": "s_sYRbuEc_3t"
      },
      "source": [
        "# **lstrip()**"
      ]
    },
    {
      "cell_type": "markdown",
      "metadata": {
        "id": "T1o1fKcPfx5g"
      },
      "source": [
        "**Definition and Usage**\n",
        "\n",
        "The lstrip() method removes any leading characters (space is the default leading character to remove)\n",
        "\n",
        "**Syntax:** string.lstrip(characters)\n",
        "\n",
        "**Parameter Values**\n",
        "\n",
        "characters\tOptional. A set of characters to remove as leading characters"
      ]
    },
    {
      "cell_type": "code",
      "metadata": {
        "colab": {
          "base_uri": "https://localhost:8080/"
        },
        "id": "OzOGBKN7dQ8g",
        "outputId": "f600d8a5-f99a-40e7-c963-48c5e844ee0d"
      },
      "source": [
        "txt = \",,,,,ssaaww.....banana\"\n",
        "\n",
        "x = txt.lstrip(\",.asw\")\n",
        "\n",
        "print(x)"
      ],
      "execution_count": null,
      "outputs": [
        {
          "output_type": "stream",
          "text": [
            "banana\n"
          ],
          "name": "stdout"
        }
      ]
    },
    {
      "cell_type": "code",
      "metadata": {
        "colab": {
          "base_uri": "https://localhost:8080/"
        },
        "id": "tYntUq13gJXk",
        "outputId": "9172b35f-fd89-46b0-95c4-74053b0f0f8f"
      },
      "source": [
        "random_string = '   this is good '  # whatch out, there is also a trailing space \n",
        "\n",
        "# Leading whitepsace are removed\n",
        "print(random_string.lstrip())\n",
        "\n",
        "# If argument doesn't contain space, No characters are removed.\n",
        "print(random_string.lstrip('sti'))\n",
        "\n",
        "print(random_string.lstrip('s ti'))\n",
        "\n",
        "website = 'https://www.programiz.com/'\n",
        "print(website.lstrip('htps:/.'))"
      ],
      "execution_count": null,
      "outputs": [
        {
          "output_type": "stream",
          "text": [
            "this is good \n",
            "   this is good \n",
            "his is good \n",
            "www.programiz.com/\n"
          ],
          "name": "stdout"
        }
      ]
    },
    {
      "cell_type": "markdown",
      "metadata": {
        "id": "H3NUeLZNdGjI"
      },
      "source": [
        "# **rstrip()**"
      ]
    },
    {
      "cell_type": "markdown",
      "metadata": {
        "id": "x3m5yfrQE7pz"
      },
      "source": [
        "**Definition and Usage**\n",
        "\n",
        "The rstrip() method removes any trailing characters (characters at the end a string), space is the default trailing character to remove.\n",
        "\n",
        "**Syntax:** string.rstrip(characters)\n",
        "\n",
        "**Parameter Values**\n",
        "\n",
        "**characters\tOptional.** A set of characters to remove as trailing characters"
      ]
    },
    {
      "cell_type": "markdown",
      "metadata": {
        "id": "fzMEviPeFqw6"
      },
      "source": [
        "**Examples: Working of rstrip()**"
      ]
    },
    {
      "cell_type": "code",
      "metadata": {
        "colab": {
          "base_uri": "https://localhost:8080/"
        },
        "id": "3m7sArZ8cRcx",
        "outputId": "d6accf61-2b99-4b98-a9d0-f8f4cf8295ef"
      },
      "source": [
        "txt = \"     banana     \"\n",
        "\n",
        "x = txt.rstrip()\n",
        "\n",
        "print(\"of all fruits\", x, \"is my favorite\")"
      ],
      "execution_count": null,
      "outputs": [
        {
          "output_type": "stream",
          "text": [
            "of all fruits      banana is my favorite\n"
          ],
          "name": "stdout"
        }
      ]
    },
    {
      "cell_type": "code",
      "metadata": {
        "colab": {
          "base_uri": "https://localhost:8080/"
        },
        "id": "U7h-vMWKFTAe",
        "outputId": "c3739e4d-bad1-4a14-d153-1b47a741f33a"
      },
      "source": [
        "txt = \"banana,,,,,ssqqqww.....\"\n",
        "\n",
        "x = txt.rstrip(\",.qsw\")\n",
        "\n",
        "print(x)"
      ],
      "execution_count": null,
      "outputs": [
        {
          "output_type": "stream",
          "text": [
            "banana\n"
          ],
          "name": "stdout"
        }
      ]
    },
    {
      "cell_type": "code",
      "metadata": {
        "colab": {
          "base_uri": "https://localhost:8080/"
        },
        "id": "kFOHrZK2Fnjq",
        "outputId": "530361fd-1102-4e90-e372-bbddf17082f5"
      },
      "source": [
        "random_string = 'this is good    '\n",
        "\n",
        "# Trailing whitepsace are removed\n",
        "print(random_string.rstrip())\n",
        "\n",
        "# Argument doesn't contain 'd'\n",
        "# No characters are removed.\n",
        "print(random_string.rstrip('si oo'))\n",
        "\n",
        "print(random_string.rstrip('sid oo'))  # we added 'd' to previous example\n",
        "\n",
        "website = 'www.programiz.com/'\n",
        "print(website.rstrip('m/.'))"
      ],
      "execution_count": null,
      "outputs": [
        {
          "output_type": "stream",
          "text": [
            "this is good\n",
            "this is good\n",
            "this is g\n",
            "www.programiz.co\n"
          ],
          "name": "stdout"
        }
      ]
    },
    {
      "cell_type": "markdown",
      "metadata": {
        "id": "6LMtn4nNBPAt"
      },
      "source": [
        "# **split()**"
      ]
    },
    {
      "cell_type": "markdown",
      "metadata": {
        "id": "HNalPyp6BhjT"
      },
      "source": [
        "**Definition and Usage**\n",
        "\n",
        "The split() method splits a string into a list.\n",
        "\n",
        "You can specify the separator, default separator is any whitespace.\n",
        "\n",
        "**Note:** When maxsplit is specified, the list will contain the specified number of elements plus one.\n",
        "\n",
        "**Syntax:** string.split(separator, maxsplit)\n",
        "\n",
        "**Parameter Values**\n",
        "\n",
        "**separator\tOptional.** Specifies the separator to use when splitting the string. By default any whitespace is a separator\n",
        "\n",
        "**maxsplit\tOptional.** Specifies how many splits to do. Default value is -1, which is \"all occurrences\""
      ]
    },
    {
      "cell_type": "markdown",
      "metadata": {
        "id": "POEadqTLEbyK"
      },
      "source": [
        "**Example: How split() works in Python?**"
      ]
    },
    {
      "cell_type": "code",
      "metadata": {
        "colab": {
          "base_uri": "https://localhost:8080/"
        },
        "id": "PSh6HhNdBSRB",
        "outputId": "8a10c6d1-b3bb-48a2-b755-2c8bd5d24046"
      },
      "source": [
        "# Split a string into a list where each word is a list item:\n",
        "\n",
        "txt = \"welcome to the jungle\"\n",
        "\n",
        "x = txt.split()\n",
        "\n",
        "print(x)"
      ],
      "execution_count": null,
      "outputs": [
        {
          "output_type": "stream",
          "text": [
            "['welcome', 'to', 'the', 'jungle']\n"
          ],
          "name": "stdout"
        }
      ]
    },
    {
      "cell_type": "code",
      "metadata": {
        "colab": {
          "base_uri": "https://localhost:8080/"
        },
        "id": "LdeJZxSvEP9a",
        "outputId": "71ec2543-d947-4618-dba1-54537522c997"
      },
      "source": [
        "txt = \"apple#banana#cherry#orange\"\n",
        "\n",
        "x = txt.split(\"#\")\n",
        "\n",
        "print(x)"
      ],
      "execution_count": null,
      "outputs": [
        {
          "output_type": "stream",
          "text": [
            "['apple', 'banana', 'cherry', 'orange']\n"
          ],
          "name": "stdout"
        }
      ]
    },
    {
      "cell_type": "code",
      "metadata": {
        "colab": {
          "base_uri": "https://localhost:8080/"
        },
        "id": "JWF3WPX-CMCg",
        "outputId": "f59c5e2d-1bcc-4335-851b-f5323562beb5"
      },
      "source": [
        "text= 'Love thy neighboor'\n",
        "\n",
        "# splits at space\n",
        "print(text.split())\n",
        "\n",
        "grocery = 'Milk, Chicken, Bread'\n",
        "\n",
        "# splits at ','\n",
        "print(grocery.split(', '))  # whatch out the space after comma\n",
        "\n",
        "# Splitting at ':'\n",
        "print(grocery.split(':'))"
      ],
      "execution_count": null,
      "outputs": [
        {
          "output_type": "stream",
          "text": [
            "['Love', 'thy', 'neighboor']\n",
            "['Milk', 'Chicken', 'Bread']\n",
            "['Milk, Chicken, Bread']\n"
          ],
          "name": "stdout"
        }
      ]
    },
    {
      "cell_type": "markdown",
      "metadata": {
        "id": "Sbz8s8U7DMhG"
      },
      "source": [
        "**Example: How split() works when maxsplit is specified?**"
      ]
    },
    {
      "cell_type": "code",
      "metadata": {
        "colab": {
          "base_uri": "https://localhost:8080/"
        },
        "id": "UgxSuqHzB88X",
        "outputId": "5a065474-bd2f-40ba-910c-9e5c557d872a"
      },
      "source": [
        "grocery = 'Milk, Chicken, Bread, Butter'\n",
        "\n",
        "# maxsplit: 2\n",
        "print(grocery.split(', ', 2))\n",
        "\n",
        "# maxsplit: 1\n",
        "print(grocery.split(', ', 1))\n",
        "\n",
        "# maxsplit: 5\n",
        "print(grocery.split(', ', 5))\n",
        "\n",
        "# maxsplit: 0\n",
        "print(grocery.split(', ', 0))"
      ],
      "execution_count": null,
      "outputs": [
        {
          "output_type": "stream",
          "text": [
            "['Milk', 'Chicken', 'Bread, Butter']\n",
            "['Milk', 'Chicken, Bread, Butter']\n",
            "['Milk', 'Chicken', 'Bread', 'Butter']\n",
            "['Milk, Chicken, Bread, Butter']\n"
          ],
          "name": "stdout"
        }
      ]
    },
    {
      "cell_type": "code",
      "metadata": {
        "colab": {
          "base_uri": "https://localhost:8080/"
        },
        "id": "8TrvPl8OEvvS",
        "outputId": "c242d105-0fb2-4ea2-eb7d-1dbd9dcaf8c1"
      },
      "source": [
        "txt = \"apple#banana#cherry#orange\"\n",
        "\n",
        "# setting the maxsplit parameter to 1, will return a list with 2 elements!\n",
        "x = txt.split(\"#\", 1)\n",
        "\n",
        "print(x)"
      ],
      "execution_count": null,
      "outputs": [
        {
          "output_type": "stream",
          "text": [
            "['apple', 'banana#cherry#orange']\n"
          ],
          "name": "stdout"
        }
      ]
    },
    {
      "cell_type": "markdown",
      "metadata": {
        "id": "QK8kqKC0ECBB"
      },
      "source": [
        "If maxsplit is specified, the list will have the maximum of maxsplit+1 items."
      ]
    },
    {
      "cell_type": "markdown",
      "metadata": {
        "id": "FwdIdepuGTwO"
      },
      "source": [
        "# **splitlines()**"
      ]
    },
    {
      "cell_type": "markdown",
      "metadata": {
        "id": "x5O3r8YNGYNg"
      },
      "source": [
        "**Definition and Usage**\n",
        "\n",
        "The splitlines() method splits a string into a list. The splitting is done at line breaks.\n",
        "\n",
        "**Syntax:** string.splitlines(keeplinebreaks)\n",
        "\n",
        "**Parameter Values**\n",
        "\n",
        "**keeplinebreaks\tOptional.** Specifies if the line breaks should be included (True), or not (False). Default value is False\n",
        "\n",
        "splitlines() takes maximum of 1 parameter.\n",
        "\n",
        "keepends (optional) - If keepends is provided and True, line breaks are also included in items of the list.\n",
        "\n",
        "By default, the line breaks are not included."
      ]
    },
    {
      "cell_type": "markdown",
      "metadata": {
        "id": "hJbULrFyJBCL"
      },
      "source": [
        "![splitlines().PNG](data:image/png;base64,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)"
      ]
    },
    {
      "cell_type": "markdown",
      "metadata": {
        "id": "9MGKDPjJIwku"
      },
      "source": [
        "**Examples: How splitlines() works?**"
      ]
    },
    {
      "cell_type": "code",
      "metadata": {
        "colab": {
          "base_uri": "https://localhost:8080/"
        },
        "id": "yuF3qutmGl5H",
        "outputId": "5d13b014-4d5d-4afd-8a99-68e2b5b069a6"
      },
      "source": [
        "txt = \"Thank you for the music\\nWelcome to the jungle\"\n",
        "\n",
        "x1 = txt.splitlines()\n",
        "# x2 = x1.split() # AttributeError: 'list' object has no attribute 'split'\n",
        "\n",
        "print(x1)\n",
        "# print(x2)"
      ],
      "execution_count": null,
      "outputs": [
        {
          "output_type": "stream",
          "text": [
            "['Thank you for the music', 'Welcome to the jungle']\n"
          ],
          "name": "stdout"
        }
      ]
    },
    {
      "cell_type": "code",
      "metadata": {
        "colab": {
          "base_uri": "https://localhost:8080/"
        },
        "id": "K4QWSEjyHbL3",
        "outputId": "7816331b-b9db-40a5-e144-482045e7cfdf"
      },
      "source": [
        "# If keepends is provided and True, line breaks are also included in items of the list.\n",
        "\n",
        "txt = \"Thank you for the music\\nWelcome to the jungle\"\n",
        "\n",
        "x = txt.splitlines(True)\n",
        "\n",
        "print(x)"
      ],
      "execution_count": null,
      "outputs": [
        {
          "output_type": "stream",
          "text": [
            "['Thank you for the music\\n', 'Welcome to the jungle']\n"
          ],
          "name": "stdout"
        }
      ]
    },
    {
      "cell_type": "code",
      "metadata": {
        "colab": {
          "base_uri": "https://localhost:8080/"
        },
        "id": "qM4LfknqItg1",
        "outputId": "c1cf6291-2ab2-4fcb-ddbf-c18e3c0c07e3"
      },
      "source": [
        "grocery = 'Milk\\nChicken\\r\\nBread\\rButter'\n",
        "\n",
        "print(grocery.splitlines())\n",
        "print(grocery.splitlines(True))\n",
        "\n",
        "grocery = 'Milk Chicken Bread Butter'\n",
        "print(grocery.splitlines())"
      ],
      "execution_count": null,
      "outputs": [
        {
          "output_type": "stream",
          "text": [
            "['Milk', 'Chicken', 'Bread', 'Butter']\n",
            "['Milk\\n', 'Chicken\\r\\n', 'Bread\\r', 'Butter']\n",
            "['Milk Chicken Bread Butter']\n"
          ],
          "name": "stdout"
        }
      ]
    },
    {
      "cell_type": "markdown",
      "metadata": {
        "id": "nZiNmoDYJK_g"
      },
      "source": [
        "# **startswith()**"
      ]
    },
    {
      "cell_type": "markdown",
      "metadata": {
        "id": "1Nd7u-sSJK1j"
      },
      "source": [
        "**Definition and Usage**\n",
        "\n",
        "The startswith() method returns True if the string starts with the specified value, otherwise False.\n",
        "\n",
        "**Syntax:** string.startswith(value, start, end)\n",
        "\n",
        "**Parameter Values**\n",
        "\n",
        "**value\tRequired.** The value to check if the string starts with\n",
        "**start\tOptional.** An Integer specifying at which position to start the search\n",
        "**end\tOptional.** An Integer specifying at which position to end the search"
      ]
    },
    {
      "cell_type": "markdown",
      "metadata": {
        "id": "AGGr3dQfK5v4"
      },
      "source": [
        "**Examples: startswith() Without start and end Parameters**\n"
      ]
    },
    {
      "cell_type": "code",
      "metadata": {
        "colab": {
          "base_uri": "https://localhost:8080/"
        },
        "id": "TN3lqBIeJJ11",
        "outputId": "5f0950da-8f11-4b6c-90e6-29df9f6ccc47"
      },
      "source": [
        "txt = \"Hello, welcome to my world.\"\n",
        "\n",
        "x = txt.startswith(\"Hello\")\n",
        "\n",
        "print(x)"
      ],
      "execution_count": null,
      "outputs": [
        {
          "output_type": "stream",
          "text": [
            "True\n"
          ],
          "name": "stdout"
        }
      ]
    },
    {
      "cell_type": "code",
      "metadata": {
        "colab": {
          "base_uri": "https://localhost:8080/"
        },
        "id": "uwpnVnZfK0hY",
        "outputId": "48772236-d718-4cbb-d45a-b64ed65f7dab"
      },
      "source": [
        "text = \"Python is easy to learn.\"\n",
        "\n",
        "result = text.startswith('is easy')\n",
        "# returns False\n",
        "print(result)\n",
        "\n",
        "result = text.startswith('Python is ')\n",
        "# returns True\n",
        "print(result)\n",
        "\n",
        "result = text.startswith('Python is easy to learn.')\n",
        "# returns True\n",
        "print(result)"
      ],
      "execution_count": null,
      "outputs": [
        {
          "output_type": "stream",
          "text": [
            "False\n",
            "True\n",
            "True\n"
          ],
          "name": "stdout"
        }
      ]
    },
    {
      "cell_type": "markdown",
      "metadata": {
        "id": "8o0qVwU6LQ03"
      },
      "source": [
        "**Examples: startswith() With start and end Parameters**\n"
      ]
    },
    {
      "cell_type": "code",
      "metadata": {
        "colab": {
          "base_uri": "https://localhost:8080/"
        },
        "id": "_HFcU2XBJ1GG",
        "outputId": "9a763e51-588c-48d5-eecc-29ba8a9760b4"
      },
      "source": [
        "txt = \"Hello, welcome to my world.\"\n",
        "\n",
        "x = txt.startswith(\"wel\", 7, 20)\n",
        "\n",
        "print(x)\n",
        "print(txt[7:])"
      ],
      "execution_count": null,
      "outputs": [
        {
          "output_type": "stream",
          "text": [
            "True\n",
            "welcome to my world.\n"
          ],
          "name": "stdout"
        }
      ]
    },
    {
      "cell_type": "code",
      "metadata": {
        "colab": {
          "base_uri": "https://localhost:8080/"
        },
        "id": "KDS9eVBoLOli",
        "outputId": "9c967f22-d60f-4ed7-b72f-de62c080f89a"
      },
      "source": [
        "text = \"Python programming is easy.\"\n",
        "\n",
        "# start parameter: 7\n",
        "# 'programming is easy.' string is searched\n",
        "result = text.startswith('programming is', 7)\n",
        "print(text[7:])\n",
        "print(result)\n",
        "\n",
        "# start: 7, end: 18\n",
        "# 'programming' string is searched\n",
        "result = text.startswith('programming is', 7, 18)\n",
        "print(text[7:18])\n",
        "print(result)\n",
        "\n",
        "result = text.startswith('program', 7, 18)\n",
        "print(result)"
      ],
      "execution_count": null,
      "outputs": [
        {
          "output_type": "stream",
          "text": [
            "programming is easy.\n",
            "True\n",
            "programming\n",
            "False\n",
            "True\n"
          ],
          "name": "stdout"
        }
      ]
    },
    {
      "cell_type": "markdown",
      "metadata": {
        "id": "2d-h4Kg0MfsD"
      },
      "source": [
        "**Passing Tuple to startswith()**\n",
        "\n",
        "It's possible to pass a tuple of prefixes to startswith() method in Python.\n",
        "\n",
        "If the string starts with **any item of the tuple**, startswith() returns True. If not, it returns False"
      ]
    },
    {
      "cell_type": "markdown",
      "metadata": {
        "id": "93f5-qhsMTL4"
      },
      "source": [
        "**Examples: startswith() With Tuple Prefix**\n"
      ]
    },
    {
      "cell_type": "code",
      "metadata": {
        "colab": {
          "base_uri": "https://localhost:8080/"
        },
        "id": "KDw9axO3MRLm",
        "outputId": "2574a6c7-f7cc-4a86-9cd7-4af1a554d7a6"
      },
      "source": [
        "text = \"programming is easy\"\n",
        "result = text.startswith(('python', 'programming'))\n",
        "\n",
        "# prints True\n",
        "print(result)\n",
        "\n",
        "result = text.startswith(('is', 'easy', 'java'))\n",
        "\n",
        "# prints False\n",
        "print(result)\n",
        "\n",
        "# With start and end parameter\n",
        "# 'is easy' string is checked\n",
        "result = text.startswith(('programming', 'easy'), 12, 19)\n",
        "\n",
        "# prints False\n",
        "print(text[12:19])\n",
        "print(result)"
      ],
      "execution_count": null,
      "outputs": [
        {
          "output_type": "stream",
          "text": [
            "True\n",
            "False\n",
            "is easy\n",
            "False\n"
          ],
          "name": "stdout"
        }
      ]
    },
    {
      "cell_type": "markdown",
      "metadata": {
        "id": "YASxuOwrNbvH"
      },
      "source": [
        "# **endswith()**"
      ]
    },
    {
      "cell_type": "markdown",
      "metadata": {
        "id": "kOpGujmqNgu7"
      },
      "source": [
        "**Definition and Usage**\n",
        "\n",
        "The swapcase() method returns a string where all the upper case letters are lower case and vice versa.\n",
        "\n",
        "**Syntax:** string.swapcase()\n",
        "\n",
        "**Note:**  Not necessarily, string.swapcase().swapcase() == string"
      ]
    },
    {
      "cell_type": "markdown",
      "metadata": {
        "id": "yrC3lyVLOfp8"
      },
      "source": [
        "**Examples: Swap lowercase to uppercase and vice versa using swapcase()**\n"
      ]
    },
    {
      "cell_type": "code",
      "metadata": {
        "colab": {
          "base_uri": "https://localhost:8080/"
        },
        "id": "VNrR9LypOBB3",
        "outputId": "8c350295-fc67-4419-ef28-4d60f7b4fbd7"
      },
      "source": [
        "txt = \"Hello My Name Is PETER\"\n",
        "\n",
        "x1 = txt.swapcase()\n",
        "x2 = txt.swapcase().swapcase()\n",
        "\n",
        "print(x1)\n",
        "print(x2)"
      ],
      "execution_count": null,
      "outputs": [
        {
          "output_type": "stream",
          "text": [
            "hELLO mY nAME iS peter\n",
            "Hello My Name Is PETER\n"
          ],
          "name": "stdout"
        }
      ]
    },
    {
      "cell_type": "code",
      "metadata": {
        "colab": {
          "base_uri": "https://localhost:8080/"
        },
        "id": "l656ByCqOdLA",
        "outputId": "c5e30b59-ce94-426c-b07d-2e0a1511d474"
      },
      "source": [
        "# example string\n",
        "string = \"THIS SHOULD ALL BE LOWERCASE.\"\n",
        "print(string.swapcase())\n",
        "\n",
        "string = \"this should all be uppercase.\"\n",
        "print(string.swapcase())\n",
        "\n",
        "string = \"ThIs ShOuLd Be MiXeD cAsEd.\"\n",
        "print(string.swapcase())"
      ],
      "execution_count": null,
      "outputs": [
        {
          "output_type": "stream",
          "text": [
            "this should all be lowercase.\n",
            "THIS SHOULD ALL BE UPPERCASE.\n",
            "tHiS sHoUlD bE mIxEd CaSeD.\n"
          ],
          "name": "stdout"
        }
      ]
    },
    {
      "cell_type": "markdown",
      "metadata": {
        "id": "mkX5r6pdO0h8"
      },
      "source": [
        "**Note:** If you want to convert string to lowercase only, use lower(). Likewise, if you want to convert string to uppercase only, use upper()."
      ]
    },
    {
      "cell_type": "markdown",
      "metadata": {
        "id": "91FENLHnO2wV"
      },
      "source": [
        "**Definition and Usage**\n",
        "\n",
        "The title() method returns a string where the first character in every word is upper case. Like a header, or a title.\n",
        "\n",
        "If the word contains a number or a symbol, the first letter after that will be converted to upper case.\n",
        "\n",
        "**Syntax:** string.title()"
      ]
    },
    {
      "cell_type": "code",
      "metadata": {
        "colab": {
          "base_uri": "https://localhost:8080/"
        },
        "id": "W7aMJ3iCPEbw",
        "outputId": "eed0eac8-cae8-4594-c412-744a39b18acf"
      },
      "source": [
        "txt1 = \"Welcome to my world\"\n",
        "txt2 = \"1Welcome #to %my *world\"\n",
        "\n",
        "x1 = txt1.title()\n",
        "x2 = txt2.title()\n",
        "\n",
        "print(x1)\n",
        "print(x2)"
      ],
      "execution_count": null,
      "outputs": [
        {
          "output_type": "stream",
          "text": [
            "Welcome To My World\n",
            "1Welcome #To %My *World\n"
          ],
          "name": "stdout"
        }
      ]
    },
    {
      "cell_type": "code",
      "metadata": {
        "colab": {
          "base_uri": "https://localhost:8080/"
        },
        "id": "7QNBnwEVPzGv",
        "outputId": "12657cf9-7b61-4b72-87b2-c56f27f1b0fc"
      },
      "source": [
        "txt = \"Welcome to my 2nd world\"\n",
        "\n",
        "x = txt.title()\n",
        "\n",
        "print(x)"
      ],
      "execution_count": null,
      "outputs": [
        {
          "output_type": "stream",
          "text": [
            "Welcome To My 2Nd World\n"
          ],
          "name": "stdout"
        }
      ]
    },
    {
      "cell_type": "code",
      "metadata": {
        "colab": {
          "base_uri": "https://localhost:8080/"
        },
        "id": "gMxlHx2ZP5mf",
        "outputId": "9d19f5ee-a0e7-442a-82ba-7285ebd1fe73"
      },
      "source": [
        "txt = \"hello b2b2b2 and 3g3g3g\"\n",
        "\n",
        "x = txt.title()\n",
        "\n",
        "print(x)"
      ],
      "execution_count": null,
      "outputs": [
        {
          "output_type": "stream",
          "text": [
            "Hello B2B2B2 And 3G3G3G\n"
          ],
          "name": "stdout"
        }
      ]
    },
    {
      "cell_type": "code",
      "metadata": {
        "colab": {
          "base_uri": "https://localhost:8080/"
        },
        "id": "upY7_bD3QKtH",
        "outputId": "9b7ea38e-555d-48b0-cff1-b43cc95752bd"
      },
      "source": [
        "text = \"He's an engineer, isn't he?\"\n",
        "print(text.title())"
      ],
      "execution_count": null,
      "outputs": [
        {
          "output_type": "stream",
          "text": [
            "He'S An Engineer, Isn'T He?\n"
          ],
          "name": "stdout"
        }
      ]
    },
    {
      "cell_type": "markdown",
      "metadata": {
        "id": "5YdB2CMeQLmA"
      },
      "source": [
        "**Example: Using Regex to Title Case String**\n"
      ]
    },
    {
      "cell_type": "code",
      "metadata": {
        "colab": {
          "base_uri": "https://localhost:8080/"
        },
        "id": "oXOqeUrXQIka",
        "outputId": "d68f2efe-20e1-4c82-b51c-3cdbfa751b06"
      },
      "source": [
        "import re\n",
        "\n",
        "def titlecase(s):\n",
        "    return re.sub(r\"[A-Za-z]+('[A-Za-z]+)?\",\n",
        "     lambda mo: mo.group(0)[0].upper() +\n",
        "     mo.group(0)[1:].lower(),\n",
        "     s)\n",
        "\n",
        "text = \"He's an engineer, isn't he?\"\n",
        "print(titlecase(text))"
      ],
      "execution_count": null,
      "outputs": [
        {
          "output_type": "stream",
          "text": [
            "He's An Engineer, Isn't He?\n"
          ],
          "name": "stdout"
        }
      ]
    },
    {
      "cell_type": "markdown",
      "metadata": {
        "id": "JJmVxMOoRMVc"
      },
      "source": [
        "# **translate()**"
      ]
    },
    {
      "cell_type": "markdown",
      "metadata": {
        "id": "QeBH5hfoRQ_-"
      },
      "source": [
        "**Definition and Usage**\n",
        "\n",
        "The translate() method returns a string where some specified characters are replaced with the character described in a dictionary, or in a mapping table.\n",
        "\n",
        "Use the maketrans() method to create a mapping table.\n",
        "\n",
        "If a character is not specified in the dictionary/table, the character will not be replaced.\n",
        "\n",
        "If you use a dictionary, you must use ascii codes instead of characters.\n",
        "\n",
        "**Syntax:** string.translate(table)\n",
        "\n",
        "**Parameter Values**\n",
        "\n",
        "**table\tRequired.** Either a dictionary, or a mapping table describing how to perform the replace"
      ]
    },
    {
      "cell_type": "code",
      "metadata": {
        "colab": {
          "base_uri": "https://localhost:8080/"
        },
        "id": "J1qYI6LCRM2o",
        "outputId": "a85a1bae-c15e-4b95-8299-341a326b390c"
      },
      "source": [
        "# Replace any \"S\" characters with a \"P\" character:\n",
        "\n",
        "#use a dictionary with ascii codes to replace 83 (S) with 80 (P):\n",
        "\n",
        "mydict = {83: 80}\n",
        "txt = \"Hello Sam!\"\n",
        "print(txt.translate(mydict))"
      ],
      "execution_count": null,
      "outputs": [
        {
          "output_type": "stream",
          "text": [
            "Hello Pam!\n"
          ],
          "name": "stdout"
        }
      ]
    },
    {
      "cell_type": "code",
      "metadata": {
        "colab": {
          "base_uri": "https://localhost:8080/"
        },
        "id": "i7ZfHNppR1bx",
        "outputId": "594f37a3-5348-47c8-8f2e-468301189040"
      },
      "source": [
        "# Use a mapping table to replace \"S\" with \"P\":\n",
        "\n",
        "txt = \"Hello Sam, Sandy and Sammy!\"\n",
        "mytable = txt.maketrans(\"S\", \"P\")\n",
        "# mytable = txt.maketrans(\"Sa\", \"P\") # ValueError: the first two maketrans arguments must have equal length\n",
        "print(txt.translate(mytable))"
      ],
      "execution_count": null,
      "outputs": [
        {
          "output_type": "stream",
          "text": [
            "Hello Pam, Pandy and Pammy!\n"
          ],
          "name": "stdout"
        }
      ]
    },
    {
      "cell_type": "code",
      "metadata": {
        "colab": {
          "base_uri": "https://localhost:8080/"
        },
        "id": "dJLDCoy-SQ-t",
        "outputId": "a528e806-7ab9-4678-a493-6d198ffb73c6"
      },
      "source": [
        "txt = \"Hello Sam, Sandy and Sammy!\"\n",
        "\n",
        "print(txt.replace('S', 'P'))\n",
        "print(txt.replace('Sam', 'Aziz'))"
      ],
      "execution_count": null,
      "outputs": [
        {
          "output_type": "stream",
          "text": [
            "Hello Pam, Pandy and Pammy!\n",
            "Hello Aziz, Sandy and Azizmy!\n"
          ],
          "name": "stdout"
        }
      ]
    },
    {
      "cell_type": "code",
      "metadata": {
        "colab": {
          "base_uri": "https://localhost:8080/"
        },
        "id": "0EujMsSeUpCc",
        "outputId": "d5013b90-099e-45d5-e961-8093f2cfa751"
      },
      "source": [
        "txt = \"Hello Sam, Sandy and Sammy!\"\n",
        "\n",
        "print(txt.replace('s', 'P'))"
      ],
      "execution_count": null,
      "outputs": [
        {
          "output_type": "stream",
          "text": [
            "Hello Sam, Sandy and Sammy!\n"
          ],
          "name": "stdout"
        }
      ]
    },
    {
      "cell_type": "code",
      "metadata": {
        "id": "ErhIYWNYkzTt"
      },
      "source": [
        "count = 0\n",
        "while count >= 0:\n",
        "  print(count)\n",
        "  count+=1\n",
        "  if count == 10:\n",
        "    count =- 1"
      ],
      "execution_count": null,
      "outputs": []
    },
    {
      "cell_type": "code",
      "metadata": {
        "colab": {
          "base_uri": "https://localhost:8080/"
        },
        "id": "DK9xIqtUlByX",
        "outputId": "7475b125-9528-4862-85c7-6a99ad94f2af"
      },
      "source": [
        "# Use a mapping table to replace many characters:\n",
        "\n",
        "txt = \"Hi Sam!\"\n",
        "x = \"mSa\"\n",
        "y = \"eJo\"\n",
        "mytable = txt.maketrans(x, y)\n",
        "print(txt.translate(mytable))"
      ],
      "execution_count": null,
      "outputs": [
        {
          "output_type": "stream",
          "text": [
            "Hi Joe!\n"
          ],
          "name": "stdout"
        }
      ]
    },
    {
      "cell_type": "code",
      "metadata": {
        "colab": {
          "base_uri": "https://localhost:8080/"
        },
        "id": "u4QcMM3vFVEC",
        "outputId": "615b22ba-0a03-49fa-dfbc-ead577c0352a"
      },
      "source": [
        "# The third parameter in the mapping table describes characters that you want to remove from the string:\n",
        "\n",
        "txt = \"Good night Sam!\"\n",
        "x = \"mSa\"\n",
        "y = \"eJo\"\n",
        "z = \"odnght\"\n",
        "mytable = txt.maketrans(x, y, z)\n",
        "print(txt.translate(mytable))"
      ],
      "execution_count": null,
      "outputs": [
        {
          "output_type": "stream",
          "text": [
            "G i Joe!\n"
          ],
          "name": "stdout"
        }
      ]
    },
    {
      "cell_type": "code",
      "metadata": {
        "colab": {
          "base_uri": "https://localhost:8080/"
        },
        "id": "VlSBWdJ0GQbR",
        "outputId": "5ffb540a-8eb5-40a7-e05d-8de42ba3047e"
      },
      "source": [
        "# The same example as above, but using a dictionary instead of a mapping table:\n",
        "\n",
        "txt = \"Good night Sam!\"\n",
        "mydict = {109: 101, 83: 74, 97: 111, 111: None, 100: None, 110: None, 103: None, 104: None, 116: None}\n",
        "print(txt.translate(mydict))"
      ],
      "execution_count": null,
      "outputs": [
        {
          "output_type": "stream",
          "text": [
            "G i Joe!\n"
          ],
          "name": "stdout"
        }
      ]
    },
    {
      "cell_type": "code",
      "metadata": {
        "colab": {
          "base_uri": "https://localhost:8080/"
        },
        "id": "nrA9kwD-GqEq",
        "outputId": "9b236882-465e-4f26-aaa8-95b63b1c19f5"
      },
      "source": [
        "# first string\n",
        "firstString = \"abc\"\n",
        "secondString = \"ghi\"\n",
        "thirdString = \"ab\"\n",
        "\n",
        "string = \"abcdef\"\n",
        "print(\"Original string:\", string)\n",
        "\n",
        "translation = string.maketrans(firstString, secondString, thirdString)\n",
        "\n",
        "# translate string\n",
        "print(\"Translated string:\", string.translate(translation))"
      ],
      "execution_count": null,
      "outputs": [
        {
          "output_type": "stream",
          "text": [
            "Original string: abcdef\n",
            "Translated string: idef\n"
          ],
          "name": "stdout"
        }
      ]
    },
    {
      "cell_type": "markdown",
      "metadata": {
        "id": "OaPIrGsCG61s"
      },
      "source": [
        "Here, the translation mapping translation contains the mapping from a, b and c to g, h and i respectively.\n",
        "\n",
        "But, the removal string thirdString resets the mapping to a and b to None.\n",
        "\n",
        "So, when the string is translated using translate(), a and b are removed, and c is replaced i outputting idef.\n",
        "\n",
        "Note: If you cannot understand what's going inside maketrans(), please refer to String maketrans()."
      ]
    },
    {
      "cell_type": "code",
      "metadata": {
        "colab": {
          "base_uri": "https://localhost:8080/"
        },
        "id": "uitLqA85G78h",
        "outputId": "2fdc116c-6013-4346-aa92-60848950f6c9"
      },
      "source": [
        "# translation table - a dictionary\n",
        "translation = {97: None, 98: None, 99: 105}\n",
        "\n",
        "string = \"abcdef\"\n",
        "print(\"Original string:\", string)\n",
        "\n",
        "# translate string\n",
        "print(\"Translated string:\", string.translate(translation))"
      ],
      "execution_count": null,
      "outputs": [
        {
          "output_type": "stream",
          "text": [
            "Original string: abcdef\n",
            "Translated string: idef\n"
          ],
          "name": "stdout"
        }
      ]
    },
    {
      "cell_type": "markdown",
      "metadata": {
        "id": "r7rW28OTHwX8"
      },
      "source": [
        "Here, we don't create a translation table from maketrans() but, we manually create the mapping dictionary translation.\n",
        "\n",
        "This translation is then used to translate string to get the same output as the previous example."
      ]
    },
    {
      "cell_type": "markdown",
      "metadata": {
        "id": "C553WCCjstCg"
      },
      "source": [
        "# **upper()**"
      ]
    },
    {
      "cell_type": "markdown",
      "metadata": {
        "id": "J3rF5pF1ss2D"
      },
      "source": [
        "**Definition and Usage**\n",
        "\n",
        "The upper() method returns a string where all characters are in upper case.\n",
        "\n",
        "Symbols and Numbers are ignored.\n",
        "\n",
        "upper() method returns the uppercased string from the given string. It converts all lowercase characters to uppercase.\n",
        "\n",
        "If no lowercase characters exist, it returns the original string.\n",
        "\n",
        "**Syntax:** string.upper()"
      ]
    },
    {
      "cell_type": "code",
      "metadata": {
        "id": "j9Vp9sxNHvxY",
        "colab": {
          "base_uri": "https://localhost:8080/"
        },
        "outputId": "3450b0f5-a803-4513-e832-0b48ce8ab04c"
      },
      "source": [
        "txt = \"Hello my Fellows of Cohort-008\"\n",
        "\n",
        "x = txt.upper()\n",
        "\n",
        "print(x)"
      ],
      "execution_count": null,
      "outputs": [
        {
          "output_type": "stream",
          "text": [
            "HELLO MY FELLOWS OF COHORT-008\n"
          ],
          "name": "stdout"
        }
      ]
    },
    {
      "cell_type": "code",
      "metadata": {
        "colab": {
          "base_uri": "https://localhost:8080/"
        },
        "id": "LlnJe0N8tgv5",
        "outputId": "3c273763-41e0-469b-e18e-33364253b65f"
      },
      "source": [
        "# example string\n",
        "string = \"this should be uppercase!\"\n",
        "print(string.upper())\n",
        "\n",
        "# string with numbers\n",
        "# all alphabets whould be lowercase\n",
        "string = \"Th!s Sh0uLd B3 uPp3rCas3!\"\n",
        "print(string.upper())"
      ],
      "execution_count": null,
      "outputs": [
        {
          "output_type": "stream",
          "text": [
            "THIS SHOULD BE UPPERCASE!\n",
            "TH!S SH0ULD B3 UPP3RCAS3!\n"
          ],
          "name": "stdout"
        }
      ]
    },
    {
      "cell_type": "markdown",
      "metadata": {
        "id": "ysy7koP3tswS"
      },
      "source": [
        "**Example: How upper() is used in a program?**\n"
      ]
    },
    {
      "cell_type": "code",
      "metadata": {
        "colab": {
          "base_uri": "https://localhost:8080/"
        },
        "id": "0OWuNntxtqVU",
        "outputId": "bccff177-6c46-43e5-f3c2-faf4ee5916f0"
      },
      "source": [
        "# first string\n",
        "firstString = \"python is awesome!\"\n",
        "\n",
        "# second string\n",
        "secondString = \"PyThOn Is AwEsOmE!\"\n",
        "\n",
        "if(firstString.upper() == secondString.upper()):\n",
        "    print(\"The strings are same.\")\n",
        "else:\n",
        "    print(\"The strings are not same.\")"
      ],
      "execution_count": null,
      "outputs": [
        {
          "output_type": "stream",
          "text": [
            "The strings are same.\n"
          ],
          "name": "stdout"
        }
      ]
    },
    {
      "cell_type": "markdown",
      "metadata": {
        "id": "EC-wYsfbt8Ei"
      },
      "source": [
        "**Note:** If you want to convert to lowercase string, use **lower()**. You can also use **swapcase()** to swap between lowercase to uppercase."
      ]
    },
    {
      "cell_type": "code",
      "metadata": {
        "colab": {
          "base_uri": "https://localhost:8080/"
        },
        "id": "fxloRltLxFhy",
        "outputId": "6a21b44a-bf7d-46cd-ac43-003f86576fd3"
      },
      "source": [
        "# example string\n",
        "string = \"THIS SHOULD BE LOWERCASE!\"\n",
        "print(string.lower())\n",
        "\n",
        "# string with numbers\n",
        "# all alphabets whould be lowercase\n",
        "string = \"Th!s Sh0uLd B3 L0w3rCas3!\"\n",
        "print(string.lower())"
      ],
      "execution_count": null,
      "outputs": [
        {
          "output_type": "stream",
          "text": [
            "this should be lowercase!\n",
            "th!s sh0uld b3 l0w3rcas3!\n"
          ],
          "name": "stdout"
        }
      ]
    },
    {
      "cell_type": "code",
      "metadata": {
        "colab": {
          "base_uri": "https://localhost:8080/"
        },
        "id": "ZyK2G2k-wxIv",
        "outputId": "c808b2eb-d61e-4944-e8e2-01ed203bc639"
      },
      "source": [
        "# example string\n",
        "string = \"THIS SHOULD ALL BE LOWERCASE.\"\n",
        "print(string.swapcase())\n",
        "\n",
        "string = \"this should all be uppercase.\"\n",
        "print(string.swapcase())\n",
        "\n",
        "string = \"ThIs ShOuLd Be MiXeD cAsEd.\"\n",
        "print(string.swapcase())"
      ],
      "execution_count": null,
      "outputs": [
        {
          "output_type": "stream",
          "text": [
            "this should all be lowercase.\n",
            "THIS SHOULD ALL BE UPPERCASE.\n",
            "tHiS sHoUlD bE mIxEd CaSeD.\n"
          ],
          "name": "stdout"
        }
      ]
    },
    {
      "cell_type": "markdown",
      "metadata": {
        "id": "HaOoPx_SuTiO"
      },
      "source": [
        "**REMEMBER;** the **islower()** method which returns True if all alphabets in a string are lowercase alphabets. If the string contains at least one uppercase alphabet, it returns False."
      ]
    },
    {
      "cell_type": "code",
      "metadata": {
        "colab": {
          "base_uri": "https://localhost:8080/"
        },
        "id": "ztkmGjqRurDn",
        "outputId": "590dd1fc-e5c3-46b7-9140-3b40d88d3d74"
      },
      "source": [
        "s = 'this is good'\n",
        "print(s.islower())\n",
        "\n",
        "s = 'th!s is a1so g00d'\n",
        "print(s.islower())\n",
        "\n",
        "s = 'this is Not good'\n",
        "print(s.islower())"
      ],
      "execution_count": null,
      "outputs": [
        {
          "output_type": "stream",
          "text": [
            "True\n",
            "True\n",
            "False\n"
          ],
          "name": "stdout"
        }
      ]
    },
    {
      "cell_type": "code",
      "metadata": {
        "colab": {
          "base_uri": "https://localhost:8080/"
        },
        "id": "_XS8rSyYu4Pe",
        "outputId": "abf9da90-6cae-4c84-c0b5-36e8b78fc695"
      },
      "source": [
        "s = 'this is good'\n",
        "if s.islower() == True:\n",
        "  print('Does not contain uppercase letter.')\n",
        "else:\n",
        "  print('Contains uppercase letter.')\n",
        "  \n",
        "s = 'this is Good'\n",
        "if s.islower() == True:\n",
        "  print('Does not contain uppercase letter.')\n",
        "else:\n",
        "  print('Contains uppercase letter.')"
      ],
      "execution_count": null,
      "outputs": [
        {
          "output_type": "stream",
          "text": [
            "Does not contain uppercase letter.\n",
            "Contains uppercase letter.\n"
          ],
          "name": "stdout"
        }
      ]
    },
    {
      "cell_type": "markdown",
      "metadata": {
        "id": "Vkkb_zFDuiNJ"
      },
      "source": [
        "**REMEMBER;** the string **isupper()** method returns whether or not all characters in a string are uppercased or not."
      ]
    },
    {
      "cell_type": "code",
      "metadata": {
        "colab": {
          "base_uri": "https://localhost:8080/"
        },
        "id": "G8A5__ipvZS5",
        "outputId": "8ac33fdf-599a-4bab-a4a7-8cf3edefb52f"
      },
      "source": [
        "# example string\n",
        "string = \"THIS IS GOOD!\"\n",
        "print(string.isupper());\n",
        "\n",
        "# numbers in place of alphabets\n",
        "string = \"THIS IS ALSO G00D!\"\n",
        "print(string.isupper());\n",
        "\n",
        "# lowercase string\n",
        "string = \"THIS IS not GOOD!\"\n",
        "print(string.isupper());"
      ],
      "execution_count": null,
      "outputs": [
        {
          "output_type": "stream",
          "text": [
            "True\n",
            "True\n",
            "False\n"
          ],
          "name": "stdout"
        }
      ]
    },
    {
      "cell_type": "code",
      "metadata": {
        "colab": {
          "base_uri": "https://localhost:8080/"
        },
        "id": "R8XhR65nvdoh",
        "outputId": "b0d6f993-c38d-44a4-dc04-2b98decdfd18"
      },
      "source": [
        "string = 'THIS IS GOOD'\n",
        "if string.isupper() == True:\n",
        "  print('Does not contain lowercase letter.')\n",
        "else:\n",
        "  print('Contains lowercase letter.')\n",
        "  \n",
        "string = 'THIS IS gOOD'\n",
        "if string.isupper() == True:\n",
        "  print('Does not contain lowercase letter.')\n",
        "else:\n",
        "  print('Contains lowercase letter.')"
      ],
      "execution_count": null,
      "outputs": [
        {
          "output_type": "stream",
          "text": [
            "Does not contain lowercase letter.\n",
            "Contains lowercase letter.\n"
          ],
          "name": "stdout"
        }
      ]
    },
    {
      "cell_type": "markdown",
      "metadata": {
        "id": "_gT4XuuMxhfQ"
      },
      "source": [
        "# **zfill()**"
      ]
    },
    {
      "cell_type": "markdown",
      "metadata": {
        "id": "c_tqFiUgxNgu"
      },
      "source": [
        "**Definition and Usage**\n",
        "\n",
        "The zfill() method adds zeros (0) at the beginning of the string, until it reaches the specified length.\n",
        "\n",
        "If the value of the len parameter is less than the length of the string, no filling is done.\n",
        "\n",
        "**Syntax:** string.zfill(len)\n",
        "\n",
        "**Parameter Values**\n",
        "\n",
        "**len\tRequired**. A number specifying the position of the element you want to remove"
      ]
    },
    {
      "cell_type": "code",
      "metadata": {
        "colab": {
          "base_uri": "https://localhost:8080/"
        },
        "id": "t8-HGuTTxxxd",
        "outputId": "1e08c2c3-a95e-4391-a5f8-ba1a0373681a"
      },
      "source": [
        "# Fill the string with zeros until it is 10 characters long:\n",
        "\n",
        "txt = \"50\"\n",
        "\n",
        "x = txt.zfill(10)\n",
        "\n",
        "print(x)"
      ],
      "execution_count": null,
      "outputs": [
        {
          "output_type": "stream",
          "text": [
            "0000000050\n"
          ],
          "name": "stdout"
        }
      ]
    },
    {
      "cell_type": "code",
      "metadata": {
        "colab": {
          "base_uri": "https://localhost:8080/"
        },
        "id": "GetcvEkmyBGy",
        "outputId": "9854f3fa-05ff-4522-f848-fda87b5fa3b3"
      },
      "source": [
        "text = \"program is fun\"\n",
        "print(text.zfill(15))\n",
        "print(text.zfill(20))\n",
        "print(text.zfill(10))  # the value of the len parameter is less than the length \n",
        "                       # of the string, no filling is done."
      ],
      "execution_count": null,
      "outputs": [
        {
          "output_type": "stream",
          "text": [
            "0program is fun\n",
            "000000program is fun\n",
            "program is fun\n"
          ],
          "name": "stdout"
        }
      ]
    },
    {
      "cell_type": "markdown",
      "metadata": {
        "id": "y3UKkShNyUqG"
      },
      "source": [
        "**Example: How zfill() works with Sign Prefix?**\n"
      ]
    },
    {
      "cell_type": "code",
      "metadata": {
        "colab": {
          "base_uri": "https://localhost:8080/"
        },
        "id": "0QqrV8BSySVL",
        "outputId": "400ed3cf-7e36-4302-f775-42b0c557268c"
      },
      "source": [
        "number = \"-290\"\n",
        "print(number.zfill(8))\n",
        "\n",
        "number = \"+290\"\n",
        "print(number.zfill(8))\n",
        "\n",
        "text = \"--random+text\"\n",
        "print(text.zfill(20))"
      ],
      "execution_count": null,
      "outputs": [
        {
          "output_type": "stream",
          "text": [
            "-0000290\n",
            "+0000290\n",
            "-0000000-random+text\n"
          ],
          "name": "stdout"
        }
      ]
    },
    {
      "cell_type": "markdown",
      "metadata": {
        "id": "C3GtUqcxzDuF"
      },
      "source": [
        "# **format_map()**"
      ]
    },
    {
      "cell_type": "markdown",
      "metadata": {
        "id": "OxV3OqClzHrQ"
      },
      "source": [
        "The format_map() method is similar to str.format(mapping) except that str.format(mapping) creates a new dictionary whereas str.format_map(mapping) doesn't.\n",
        "\n",
        "format_map() takes a single argument mapping(dictionary).\n",
        "\n",
        "format_map() formats the given string and returns it.\n",
        "\n",
        "**The syntax:** str.format_map(mapping)\n",
        "\n",
        "Before talking about format_map(). Let's see how str.format(**mapping) works for Python Dictionaries."
      ]
    },
    {
      "cell_type": "code",
      "metadata": {
        "colab": {
          "base_uri": "https://localhost:8080/"
        },
        "id": "leDHfuh8zSZ8",
        "outputId": "c0d1d50a-b16a-4683-9d47-8d91d34cabc0"
      },
      "source": [
        "point = {'x': 4, 'y': -5}\n",
        "print('{x} {y}'.format(**point))"
      ],
      "execution_count": null,
      "outputs": [
        {
          "output_type": "stream",
          "text": [
            "4 -5\n"
          ],
          "name": "stdout"
        }
      ]
    },
    {
      "cell_type": "code",
      "metadata": {
        "colab": {
          "base_uri": "https://localhost:8080/"
        },
        "id": "fggnChJV1CsU",
        "outputId": "933bd5c3-6708-4c5e-9c9b-1fb7af5f6450"
      },
      "source": [
        "point = {'x': 4, 'y': -5}\n",
        "print('{x} {y}'.format_map(point))\n",
        "\n",
        "point = {'x':4, 'y': -5, 'z': 0}\n",
        "print('{x} {y} {z}'.format_map(point))"
      ],
      "execution_count": null,
      "outputs": [
        {
          "output_type": "stream",
          "text": [
            "4 -5\n",
            "4 -5 0\n"
          ],
          "name": "stdout"
        }
      ]
    },
    {
      "cell_type": "markdown",
      "metadata": {
        "id": "UXUIQV2yz-b8"
      },
      "source": [
        "Learn more on, **how to format strings** in Python? [link text](https://https://www.programiz.com/python-programming/methods/string/format)"
      ]
    },
    {
      "cell_type": "markdown",
      "metadata": {
        "id": "nsFA1pg80UZ8"
      },
      "source": [
        "The format_map(mapping) is similar to str.format(**mapping) method.\n",
        "\n",
        "The only difference is that str.format(**mapping) copies the dict whereas str.format_map(mapping) makes a new dictionary during method call. This can be useful if you are working with a dict subclass."
      ]
    },
    {
      "cell_type": "markdown",
      "metadata": {
        "id": "Mwr9mVrS1Yv5"
      },
      "source": [
        "**Example: How format_map() works with dict subclass?**\n"
      ]
    },
    {
      "cell_type": "code",
      "metadata": {
        "colab": {
          "base_uri": "https://localhost:8080/"
        },
        "id": "Ol42uhQz0GLK",
        "outputId": "3a483566-ce48-4705-9397-03c451d97f44"
      },
      "source": [
        "class Coordinate(dict):\n",
        "    def __missing__(self, key):\n",
        "      return key\n",
        "\n",
        "print('({x}, {y})'.format_map(Coordinate(x='6')))\n",
        "print('({x}, {y})'.format_map(Coordinate(y='5')))\n",
        "print('({x}, {y})'.format_map(Coordinate(x='6', y='5')))"
      ],
      "execution_count": null,
      "outputs": [
        {
          "output_type": "stream",
          "text": [
            "(6, y)\n",
            "(x, 5)\n",
            "(6, 5)\n"
          ],
          "name": "stdout"
        }
      ]
    }
  ]
}