{
  "nbformat": 4,
  "nbformat_minor": 0,
  "metadata": {
    "colab": {
      "name": "SetMethods.ipynb",
      "provenance": [],
      "authorship_tag": "ABX9TyMN48mT4N58Su8ayfq2JOWw",
      "include_colab_link": true
    },
    "kernelspec": {
      "name": "python3",
      "display_name": "Python 3"
    },
    "language_info": {
      "name": "python"
    }
  },
  "cells": [
    {
      "cell_type": "markdown",
      "metadata": {
        "id": "view-in-github",
        "colab_type": "text"
      },
      "source": [
        "<a href=\"https://colab.research.google.com/github/AzizOzmen/All_Methods/blob/main/SetMethods.ipynb\" target=\"_parent\"><img src=\"https://colab.research.google.com/assets/colab-badge.svg\" alt=\"Open In Colab\"/></a>"
      ]
    },
    {
      "cell_type": "markdown",
      "metadata": {
        "id": "o4Z7EA6_Z_vR"
      },
      "source": [
        "Sets are used to store multiple items in a single variable. A set is an unordered collection of items. Every set element is **unique (no duplicates)** and must be immutable (cannot be changed). However, a set itself is mutable. We can add or remove items from it. \n",
        "\n",
        "Python sets are classified into two types. Mutable and immutable. A set created with 'set' is mutable while the one created with 'frozenset' is immutable.\n",
        "\n",
        "Set is one of 4 built-in data types in Python used to store **collection data types**, the other 3 are List, Tuple, and Dictionary, all with different qualities and usage.\n",
        "\n",
        "A set is a collection which is both **unordered,** **mutable** and **unindexed**.\n",
        "\n",
        "Sets are written with curly brackets.\n",
        "\n",
        "More info about basic Tuple operations [link text](https://www.programiz.com/python-programming/set) [link text](https://realpython.com/python-sets/)"
      ]
    },
    {
      "cell_type": "markdown",
      "metadata": {
        "id": "swujSUYvfd1C"
      },
      "source": [
        "**WATCH OUT** Yes, Python sets are **mutable** because we can add, delete elements into set, **but sets can't contain mutable items into itself**. Like the below code will give an error:"
      ]
    },
    {
      "cell_type": "code",
      "metadata": {
        "id": "gl5a4oGPZ5Vy"
      },
      "source": [
        "s = set([[1,2,3],[4,5,6]])  # TypeError: unhashable type: 'list'"
      ],
      "execution_count": null,
      "outputs": []
    },
    {
      "cell_type": "markdown",
      "metadata": {
        "id": "vbzVcCQOflHM"
      },
      "source": [
        "So sets are mutable but can't contain mutable items, because set internally uses hashtable to store its elements so for that set elements need to be hashable. But mutable elements like list are not hashable.\n",
        "\n",
        "**Note:**\n",
        "\n",
        "Mutable elements are not hashable\n",
        "Immutable elements are hashable\n",
        "\n",
        "Just like key of a dictionary can't be a list."
      ]
    },
    {
      "cell_type": "markdown",
      "metadata": {
        "id": "Obs8Rb2Ggj6o"
      },
      "source": [
        "Python has **a set of built-in methods** that you can use on sets. [link text](https://www.w3schools.com/python/python_ref_set.asp) [link text](https://www.programiz.com/python-programming/methods/set)"
      ]
    },
    {
      "cell_type": "markdown",
      "metadata": {
        "id": "K4hFw52igTnl"
      },
      "source": [
        "**add()**\tAdds an element to the set\n",
        "\n",
        "**clear()**\tRemoves all the elements from the set\n",
        "\n",
        "**copy()**\tReturns a copy of the set\n",
        "\n",
        "**difference()**\tReturns a set containing the difference between two or more sets\n",
        "\n",
        "**difference_update()**\tRemoves the items in this set that are also included in another, specified set\n",
        "\n",
        "**discard()**\tRemove the specified item\n",
        "\n",
        "**intersection()**\tReturns a set, that is the intersection of two other sets\n",
        "\n",
        "**intersection_update()**\tRemoves the items in this set that are not present in other, specified set(s)\n",
        "\n",
        "**isdisjoint()**\tReturns whether two sets have a intersection or not\n",
        "\n",
        "**issubset()**\tReturns whether another set contains this set or not\n",
        "\n",
        "**issuperset()**\tReturns whether this set contains another set or not\n",
        "\n",
        "**pop()**\tRemoves an element from the set\n",
        "\n",
        "**remove()**\tRemoves the specified element\n",
        "\n",
        "**symmetric_difference()**\tReturns a set with the symmetric differences of two sets\n",
        "\n",
        "**symmetric_difference_update()**\tinserts the symmetric differences from this set and another\n",
        "\n",
        "**union()**\tReturn a set containing the union of sets\n",
        "\n",
        "**update()**\tUpdate the set with another set, or any other iterable"
      ]
    },
    {
      "cell_type": "markdown",
      "metadata": {
        "id": "2U7jgWFqhFQo"
      },
      "source": [
        "# **add()**"
      ]
    },
    {
      "cell_type": "markdown",
      "metadata": {
        "id": "DMdNtkgQhO2k"
      },
      "source": [
        "**Definition and Usage**\n",
        "\n",
        "The add() method adds an element to the set.\n",
        "\n",
        "If the element already exists, the add() method does not add the element.\n",
        "\n",
        "**Syntax:** set.add(element)\n",
        "\n",
        "**Parameter Values**\n",
        "\n",
        "**element\tRequired**. The element to add to the set"
      ]
    },
    {
      "cell_type": "code",
      "metadata": {
        "colab": {
          "base_uri": "https://localhost:8080/"
        },
        "id": "FCPm0fmGhlJ9",
        "outputId": "52df5be3-928a-4db0-9ccb-586edafbe91f"
      },
      "source": [
        "# Add an element to the fruits set:\n",
        "\n",
        "fruits = {\"apple\", \"banana\", \"cherry\"}\n",
        "\n",
        "fruits.add(\"orange\")\n",
        "\n",
        "print(fruits)"
      ],
      "execution_count": null,
      "outputs": [
        {
          "output_type": "stream",
          "text": [
            "{'apple', 'banana', 'cherry', 'orange'}\n"
          ],
          "name": "stdout"
        }
      ]
    },
    {
      "cell_type": "code",
      "metadata": {
        "colab": {
          "base_uri": "https://localhost:8080/"
        },
        "id": "8TdhG-1LfpeA",
        "outputId": "ead0416c-1736-4659-925e-d8c0f5b57dd3"
      },
      "source": [
        "# Try to add an element that already exists:\n",
        "\n",
        "fruits = {\"apple\", \"banana\", \"cherry\"}\n",
        "\n",
        "fruits.add(\"apple\")\n",
        "\n",
        "print(fruits)"
      ],
      "execution_count": null,
      "outputs": [
        {
          "output_type": "stream",
          "text": [
            "{'apple', 'banana', 'cherry'}\n"
          ],
          "name": "stdout"
        }
      ]
    },
    {
      "cell_type": "code",
      "metadata": {
        "colab": {
          "base_uri": "https://localhost:8080/"
        },
        "id": "3lZTA7rih9W9",
        "outputId": "bfec39d8-ba52-4f19-877f-96b3a0f1006e"
      },
      "source": [
        "# set of vowels\n",
        "vowels = {'a', 'e', 'i', 'u'}\n",
        "\n",
        "# adding 'o'\n",
        "vowels.add('o')\n",
        "print('Vowels are:', vowels)\n",
        "\n",
        "# adding 'a' again\n",
        "vowels.add('a')\n",
        "print('Vowels are:', vowels)"
      ],
      "execution_count": null,
      "outputs": [
        {
          "output_type": "stream",
          "text": [
            "Vowels are: {'e', 'a', 'o', 'u', 'i'}\n",
            "Vowels are: {'e', 'a', 'o', 'u', 'i'}\n"
          ],
          "name": "stdout"
        }
      ]
    },
    {
      "cell_type": "markdown",
      "metadata": {
        "id": "xjHvYiRIit0L"
      },
      "source": [
        "**Add tuple to a set**"
      ]
    },
    {
      "cell_type": "code",
      "metadata": {
        "colab": {
          "base_uri": "https://localhost:8080/"
        },
        "id": "Bws7TQWgirWa",
        "outputId": "52837c40-aed7-4d69-ef24-bd0ca6874de9"
      },
      "source": [
        "# set of vowels\n",
        "vowels = {'a', 'e', 'u'}\n",
        "\n",
        "# a tuple ('i', 'o')\n",
        "tup = ('i', 'o')\n",
        "\n",
        "# adding tuple\n",
        "vowels.add(tup)\n",
        "print(vowels.add(tup))  # gives None\n",
        "print('Vowels are:', vowels)\n",
        "\n",
        "# adding same tuple again\n",
        "vowels.add(tup)\n",
        "print('Vowels are:', vowels)"
      ],
      "execution_count": null,
      "outputs": [
        {
          "output_type": "stream",
          "text": [
            "None\n",
            "Vowels are: {('i', 'o'), 'u', 'e', 'a'}\n",
            "Vowels are: {('i', 'o'), 'u', 'e', 'a'}\n"
          ],
          "name": "stdout"
        }
      ]
    },
    {
      "cell_type": "markdown",
      "metadata": {
        "id": "nMTqzSnXjPHf"
      },
      "source": [
        "You can also add tuples to a set. And like normal elements, you can add the same tuple only once."
      ]
    },
    {
      "cell_type": "markdown",
      "metadata": {
        "id": "KoZEJPpFjQGz"
      },
      "source": [
        "# **clear()**"
      ]
    },
    {
      "cell_type": "markdown",
      "metadata": {
        "id": "djE5RxbujT9c"
      },
      "source": [
        "**Definition and Usage**\n",
        "\n",
        "The clear() method removes all elements in a set.\n",
        "\n",
        "**Syntax:** set.clear()\n",
        "\n",
        "**Parameter Values**\n",
        "\n",
        "No parameters"
      ]
    },
    {
      "cell_type": "code",
      "metadata": {
        "colab": {
          "base_uri": "https://localhost:8080/"
        },
        "id": "E2JBLxEJjemF",
        "outputId": "53c669ec-b4d9-4ca0-da33-e8da0408e2ca"
      },
      "source": [
        "# Remove all elements from the fruits set:\n",
        "\n",
        "fruits = {\"apple\", \"banana\", \"cherry\"}\n",
        "\n",
        "fruits.clear()\n",
        "\n",
        "print(fruits)\n",
        "print(fruits.clear())  # gives None"
      ],
      "execution_count": null,
      "outputs": [
        {
          "output_type": "stream",
          "text": [
            "set()\n",
            "None\n"
          ],
          "name": "stdout"
        }
      ]
    },
    {
      "cell_type": "markdown",
      "metadata": {
        "id": "B3Iackzlj535"
      },
      "source": [
        "# **copy()**"
      ]
    },
    {
      "cell_type": "markdown",
      "metadata": {
        "id": "6sA9ozT9j8tP"
      },
      "source": [
        "**Definition and Usage**\n",
        "\n",
        "The copy() method copies the set.\n",
        "\n",
        "**Syntax:** set.copy()\n",
        "\n",
        "**Parameter Values**\n",
        "\n",
        "No parameters"
      ]
    },
    {
      "cell_type": "code",
      "metadata": {
        "colab": {
          "base_uri": "https://localhost:8080/"
        },
        "id": "gR0jaFcWkD6H",
        "outputId": "1455ddb5-cf6a-4924-9e00-833853bb9526"
      },
      "source": [
        "# Copy the fruits set:\n",
        "\n",
        "fruits = {\"apple\", \"banana\", \"cherry\"}\n",
        "\n",
        "x = fruits.copy()\n",
        "\n",
        "print(x)\n",
        "print(fruits.copy())"
      ],
      "execution_count": null,
      "outputs": [
        {
          "output_type": "stream",
          "text": [
            "{'apple', 'banana', 'cherry'}\n",
            "{'apple', 'banana', 'cherry'}\n"
          ],
          "name": "stdout"
        }
      ]
    },
    {
      "cell_type": "markdown",
      "metadata": {
        "id": "RQ3Dv6CgkpkJ"
      },
      "source": [
        "A set can be copied using = operator in Python. For example:"
      ]
    },
    {
      "cell_type": "code",
      "metadata": {
        "colab": {
          "base_uri": "https://localhost:8080/"
        },
        "id": "1XBpo-iCkdNJ",
        "outputId": "098cae81-1dca-4d9a-c0b5-be28a1b22458"
      },
      "source": [
        "numbers = {1, 2, 3, 4}\n",
        "new_numbers = numbers\n",
        "print(new_numbers)\n",
        "\n",
        "numbers.add(5)\n",
        "print(numbers)\n",
        "print(new_numbers)"
      ],
      "execution_count": null,
      "outputs": [
        {
          "output_type": "stream",
          "text": [
            "{1, 2, 3, 4}\n",
            "{1, 2, 3, 4, 5}\n",
            "{1, 2, 3, 4, 5}\n"
          ],
          "name": "stdout"
        }
      ]
    },
    {
      "cell_type": "markdown",
      "metadata": {
        "id": "_kvKtyo6kmeR"
      },
      "source": [
        "The problem with copying the set in this way is that if you modify the numbers set, the new_numbers set is also modified."
      ]
    },
    {
      "cell_type": "markdown",
      "metadata": {
        "id": "AV7zdvEilgJF"
      },
      "source": [
        "However, if you need the original set to be unchanged when the new set is modified, you can use the copy() method."
      ]
    },
    {
      "cell_type": "code",
      "metadata": {
        "colab": {
          "base_uri": "https://localhost:8080/"
        },
        "id": "o8htvFT5lhHm",
        "outputId": "946bcd84-fe9d-4f54-dfa4-6581b67f76d1"
      },
      "source": [
        "numbers = {1, 2, 3, 4}\n",
        "new_numbers = numbers.copy()\n",
        "\n",
        "new_numbers.add(5)\n",
        "\n",
        "print('numbers: ', numbers)\n",
        "print('new_numbers: ', new_numbers)"
      ],
      "execution_count": null,
      "outputs": [
        {
          "output_type": "stream",
          "text": [
            "numbers:  {1, 2, 3, 4}\n",
            "new_numbers:  {1, 2, 3, 4, 5}\n"
          ],
          "name": "stdout"
        }
      ]
    },
    {
      "cell_type": "markdown",
      "metadata": {
        "id": "hQZtBp0Os9YR"
      },
      "source": [
        "# **set.difference()**"
      ]
    },
    {
      "cell_type": "markdown",
      "metadata": {
        "id": "c4yOs9-Hsww2"
      },
      "source": [
        "**Definition and Usage**\n",
        "\n",
        "The difference() method returns a set that contains the difference between two sets.\n",
        "\n",
        "**Meaning:** The returned set contains items that exist only in the first set, and not in both sets.\n",
        "\n",
        "**Syntax:** set.difference(set)\n",
        "\n",
        "**Parameter Values**\n",
        "\n",
        "**set\tRequired**. The set to check for differences in"
      ]
    },
    {
      "cell_type": "markdown",
      "metadata": {
        "id": "MKXmsYjqtqV-"
      },
      "source": [
        "difference() method returns the difference between two sets which is also a set. It **doesn't modify original sets**."
      ]
    },
    {
      "cell_type": "code",
      "metadata": {
        "colab": {
          "base_uri": "https://localhost:8080/"
        },
        "id": "WEOZRakbtIYe",
        "outputId": "4c26737b-190d-4ae1-ced6-111bf08f7363"
      },
      "source": [
        "# Return a set that contains the items that only exist in set x, and not in set y:\n",
        "\n",
        "x = {\"apple\", \"banana\", \"cherry\"}\n",
        "y = {\"google\", \"microsoft\", \"apple\"}\n",
        "\n",
        "z = x.difference(y)\n",
        "\n",
        "print(z)\n",
        "print(x.difference(y))\n",
        "print(x)  # there is NO change on the original variable"
      ],
      "execution_count": null,
      "outputs": [
        {
          "output_type": "stream",
          "text": [
            "{'banana', 'cherry'}\n",
            "{'banana', 'cherry'}\n",
            "{'apple', 'banana', 'cherry'}\n"
          ],
          "name": "stdout"
        }
      ]
    },
    {
      "cell_type": "code",
      "metadata": {
        "colab": {
          "base_uri": "https://localhost:8080/"
        },
        "id": "IXvSO7tBtY4K",
        "outputId": "35dc631a-548e-4093-d1b5-9f5d18bd8c60"
      },
      "source": [
        "# Reverse the first example. Return a set that contains the items that only\n",
        "# exist in set y, and not in set x:\n",
        "\n",
        "x = {\"apple\", \"banana\", \"cherry\"}\n",
        "y = {\"google\", \"microsoft\", \"apple\"}\n",
        "\n",
        "z = y.difference(x)\n",
        "\n",
        "print(z)"
      ],
      "execution_count": null,
      "outputs": [
        {
          "output_type": "stream",
          "text": [
            "{'google', 'microsoft'}\n"
          ],
          "name": "stdout"
        }
      ]
    },
    {
      "cell_type": "code",
      "metadata": {
        "colab": {
          "base_uri": "https://localhost:8080/"
        },
        "id": "lKiRlpC5t2PP",
        "outputId": "695dcc56-3a6b-4cff-c4cf-1de90ee77334"
      },
      "source": [
        "A = {'a', 'b', 'c', 'd'}\n",
        "B = {'c', 'f', 'g'}\n",
        "\n",
        "# Equivalent to A-B\n",
        "print(A.difference(B))\n",
        "\n",
        "# Equivalent to B-A\n",
        "print(B.difference(A))"
      ],
      "execution_count": null,
      "outputs": [
        {
          "output_type": "stream",
          "text": [
            "{'d', 'b', 'a'}\n",
            "{'f', 'g'}\n"
          ],
          "name": "stdout"
        }
      ]
    },
    {
      "cell_type": "markdown",
      "metadata": {
        "id": "r2GXdpVPuAtw"
      },
      "source": [
        "**Set Difference Using - Operator.**"
      ]
    },
    {
      "cell_type": "code",
      "metadata": {
        "colab": {
          "base_uri": "https://localhost:8080/"
        },
        "id": "hW-nUnqht-re",
        "outputId": "502205f9-b582-43b0-cee4-6fc6f0ce9cf4"
      },
      "source": [
        "A = {'a', 'b', 'c', 'd'}\n",
        "B = {'c', 'f', 'g'}\n",
        "\n",
        "print(A-B)\n",
        "\n",
        "print(B-A)"
      ],
      "execution_count": null,
      "outputs": [
        {
          "output_type": "stream",
          "text": [
            "{'d', 'b', 'a'}\n",
            "{'f', 'g'}\n"
          ],
          "name": "stdout"
        }
      ]
    },
    {
      "cell_type": "markdown",
      "metadata": {
        "id": "ZRyyq15pxDTY"
      },
      "source": [
        "# **difference_update()**"
      ]
    },
    {
      "cell_type": "markdown",
      "metadata": {
        "id": "PbtMRkFyuPIb"
      },
      "source": [
        "**Definition and Usage**\n",
        "\n",
        "The difference_update() method removes the items that exist in both sets.\n",
        "\n",
        "The difference_update() method is different from the difference() method, because the difference() method returns a new set, without the unwanted items, and the difference_update() method removes the unwanted items from the original set.\n",
        "\n",
        "**Syntax:** set.difference_update(set)\n",
        "\n",
        "**Parameter Values**\n",
        "\n",
        "**set\tRequired**. The set to check for differences in"
      ]
    },
    {
      "cell_type": "code",
      "metadata": {
        "colab": {
          "base_uri": "https://localhost:8080/"
        },
        "id": "9c--vmdquXQz",
        "outputId": "b66431cf-922e-4ed4-a4e1-b478a61bc7f4"
      },
      "source": [
        "# Remove the items that exist in both sets:\n",
        "\n",
        "x = {\"apple\", \"banana\", \"cherry\"}\n",
        "y = {\"google\", \"microsoft\", \"apple\"}\n",
        "\n",
        "x.difference_update(y)\n",
        "\n",
        "print(x)\n",
        "print(x.difference_update(y))  # this is the difference regarding outcome\n",
        "                               # since it modifies the original variable"
      ],
      "execution_count": null,
      "outputs": [
        {
          "output_type": "stream",
          "text": [
            "{'banana', 'cherry'}\n",
            "None\n"
          ],
          "name": "stdout"
        }
      ]
    },
    {
      "cell_type": "markdown",
      "metadata": {
        "id": "s4fCRjmjv7OH"
      },
      "source": [
        "Here, x and y are two sets. difference_update() updates (modifies) set x with the set difference of x-y giving a new set.\n",
        "\n",
        "difference_update() returns None indicating the object (set) is mutated (modified)."
      ]
    },
    {
      "cell_type": "code",
      "metadata": {
        "colab": {
          "base_uri": "https://localhost:8080/"
        },
        "id": "_Clx2TU6wu1A",
        "outputId": "04452c0c-f6f4-4167-cab1-07e69646db06"
      },
      "source": [
        "A = {'a', 'c', 'g', 'd'}\n",
        "B = {'c', 'f', 'g'}\n",
        "\n",
        "result = A.difference_update(B)\n",
        "\n",
        "print('A = ', A)\n",
        "print('B = ', B)\n",
        "print('result = ', result)"
      ],
      "execution_count": null,
      "outputs": [
        {
          "output_type": "stream",
          "text": [
            "A =  {'d', 'a'}\n",
            "B =  {'f', 'g', 'c'}\n",
            "result =  None\n"
          ],
          "name": "stdout"
        }
      ]
    },
    {
      "cell_type": "markdown",
      "metadata": {
        "id": "kCdPS1qpxW1I"
      },
      "source": [
        "# **discard()**"
      ]
    },
    {
      "cell_type": "markdown",
      "metadata": {
        "id": "teJkEBo8xJoG"
      },
      "source": [
        "**Definition and Usage**\n",
        "\n",
        "The discard() method removes the specified item from the set.\n",
        "\n",
        "This method is different from the remove() method, because the remove() method will raise an error if the specified item does not exist, and the discard() method will not.\n",
        "\n",
        "**Syntax:** set.discard(value)\n",
        "\n",
        "**Parameter Values**\n",
        "\n",
        "**value\tRequired**. The item to search for, and remove"
      ]
    },
    {
      "cell_type": "code",
      "metadata": {
        "colab": {
          "base_uri": "https://localhost:8080/"
        },
        "id": "O8uR-MSSxaGC",
        "outputId": "fa70d8df-2789-4c22-bdbe-5ec5c7e9998b"
      },
      "source": [
        "# Remove \"banana\" from the set:\n",
        "\n",
        "fruits = {\"apple\", \"banana\", \"cherry\"}\n",
        "\n",
        "fruits.discard(\"banana\")\n",
        "\n",
        "print(fruits)"
      ],
      "execution_count": null,
      "outputs": [
        {
          "output_type": "stream",
          "text": [
            "{'apple', 'cherry'}\n"
          ],
          "name": "stdout"
        }
      ]
    },
    {
      "cell_type": "markdown",
      "metadata": {
        "id": "pkBgsLcGxywN"
      },
      "source": [
        "discard() removes element x from the set if the element is present.\n",
        "\n",
        "This method returns None (meaning, absence of a return value)."
      ]
    },
    {
      "cell_type": "code",
      "metadata": {
        "colab": {
          "base_uri": "https://localhost:8080/"
        },
        "id": "ZUphSrg4yXF7",
        "outputId": "f649c566-96c1-4072-a90f-55f23b510abd"
      },
      "source": [
        "numbers = {2, 3, 4, 5}\n",
        "\n",
        "numbers.discard(3)\n",
        "print('numbers = ', numbers)\n",
        "\n",
        "numbers.discard(10)\n",
        "print('numbers = ', numbers)"
      ],
      "execution_count": null,
      "outputs": [
        {
          "output_type": "stream",
          "text": [
            "numbers =  {2, 4, 5}\n",
            "numbers =  {2, 4, 5}\n"
          ],
          "name": "stdout"
        }
      ]
    },
    {
      "cell_type": "code",
      "metadata": {
        "colab": {
          "base_uri": "https://localhost:8080/"
        },
        "id": "SDfg-GUOxzuy",
        "outputId": "c8131fb9-87ab-450c-8d9a-4a4cf264bcbd"
      },
      "source": [
        "numbers = {2, 3, 5, 4}\n",
        "\n",
        "# Returns None\n",
        "# Meaning, absence of a return value \n",
        "numbers.discard(3)\n",
        "print(numbers)\n",
        "print(numbers.discard(3))  # returns None\n",
        "\n",
        "print('numbers =', numbers)"
      ],
      "execution_count": null,
      "outputs": [
        {
          "output_type": "stream",
          "text": [
            "None\n",
            "{2, 4, 5}\n",
            "numbers = {2, 4, 5}\n"
          ],
          "name": "stdout"
        }
      ]
    },
    {
      "cell_type": "markdown",
      "metadata": {
        "id": "dnhpkWa41Hoy"
      },
      "source": [
        "# **intersection()**"
      ]
    },
    {
      "cell_type": "markdown",
      "metadata": {
        "id": "JkoRUkXF01Sl"
      },
      "source": [
        "**Definition and Usage**\n",
        "\n",
        "The intersection() method returns a set that contains the similarity between two or more sets.\n",
        "\n",
        "**Meaning:** The returned set contains only items that exist in both sets, or in all sets if the comparison is done with more than two sets.\n",
        "\n",
        "**Syntax:** set.intersection(set1, set2 ... etc)\n",
        "\n",
        "**Parameter Values**\n",
        "\n",
        "**set1\tRequired**. The set to search for equal items in\n",
        "\n",
        "**set2\tOptional**. The other set to search for equal items in.\n",
        "\n",
        "You can compare as many sets you like.\n",
        "\n",
        "Separate the sets with a comma"
      ]
    },
    {
      "cell_type": "code",
      "metadata": {
        "colab": {
          "base_uri": "https://localhost:8080/"
        },
        "id": "OJ1-ocSS1GNI",
        "outputId": "a8da76e5-6293-4108-bd0d-10b168677584"
      },
      "source": [
        "# Return a set that contains the items that exist in both set x, and set y:\n",
        "\n",
        "x = {\"apple\", \"banana\", \"cherry\"}\n",
        "y = {\"google\", \"microsoft\", \"apple\"}\n",
        "\n",
        "z = x.intersection(y)\n",
        "\n",
        "print(z)\n",
        "print(x.intersection(y))"
      ],
      "execution_count": null,
      "outputs": [
        {
          "output_type": "stream",
          "text": [
            "{'apple'}\n",
            "{'apple'}\n"
          ],
          "name": "stdout"
        }
      ]
    },
    {
      "cell_type": "code",
      "metadata": {
        "colab": {
          "base_uri": "https://localhost:8080/"
        },
        "id": "436fmGa31cUX",
        "outputId": "233f26bd-780a-44a7-d8b8-a60f925a8b29"
      },
      "source": [
        "# Compare 3 sets, and return a set with items that is present in all 3 sets:\n",
        "\n",
        "x = {\"a\", \"b\", \"c\"}\n",
        "y = {\"c\", \"d\", \"e\"}\n",
        "z = {\"f\", \"g\", \"c\"}\n",
        "\n",
        "result = x.intersection(y, z)\n",
        "\n",
        "print(result)\n",
        "print(x.intersection(y, z))"
      ],
      "execution_count": null,
      "outputs": [
        {
          "output_type": "stream",
          "text": [
            "{'c'}\n",
            "{'c'}\n"
          ],
          "name": "stdout"
        }
      ]
    },
    {
      "cell_type": "code",
      "metadata": {
        "id": "ycge9Uwh3fnK"
      },
      "source": [
        "A = {1, 2, 3, 4}\n",
        "B = {2, 3, 4,  9}\n",
        "C = {2, 4, 9, 10}\n",
        "\n",
        "Then,\n",
        "A∩B = B∩A ={2, 3, 4}\n",
        "A∩C = C∩A ={2, 4}\n",
        "B∩C = C∩B ={2, 4, 9}\n",
        "\n",
        "A∩B∩C = {2, 4}"
      ],
      "execution_count": null,
      "outputs": []
    },
    {
      "cell_type": "markdown",
      "metadata": {
        "id": "O0NK0ddW33C2"
      },
      "source": [
        "![Capture17.PNG](data:image/png;base64,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)"
      ]
    },
    {
      "cell_type": "code",
      "metadata": {
        "id": "xTZnDrCO38vX"
      },
      "source": [
        "A.intersection(*other_sets)"
      ],
      "execution_count": null,
      "outputs": []
    },
    {
      "cell_type": "markdown",
      "metadata": {
        "id": "UfyORGSD4JSC"
      },
      "source": [
        "intersection() allows arbitrary number of arguments (sets).\n",
        "\n",
        "**Note:** * is not part of the syntax. It is used to indicate that the method allows arbitrary number of arguments."
      ]
    },
    {
      "cell_type": "code",
      "metadata": {
        "colab": {
          "base_uri": "https://localhost:8080/"
        },
        "id": "m3pzwAYw4LGk",
        "outputId": "f35f74f0-5f6c-4d57-97f3-ec7fc9c0c616"
      },
      "source": [
        "A = {2, 3, 5, 4}\n",
        "B = {2, 5, 100}\n",
        "C = {2, 3, 8, 9, 10}\n",
        "\n",
        "print(B.intersection(A))\n",
        "print(B.intersection(C))\n",
        "print(A.intersection(C))\n",
        "print(C.intersection(A, B))"
      ],
      "execution_count": null,
      "outputs": [
        {
          "output_type": "stream",
          "text": [
            "{2, 5}\n",
            "{2}\n",
            "{2, 3}\n",
            "{2}\n"
          ],
          "name": "stdout"
        }
      ]
    },
    {
      "cell_type": "code",
      "metadata": {
        "colab": {
          "base_uri": "https://localhost:8080/"
        },
        "id": "8t8PTyqy4Wut",
        "outputId": "d7e34a41-0be7-4900-d85b-4519d752c9b4"
      },
      "source": [
        "A = {100, 7, 8}\n",
        "B = {200, 4, 5}\n",
        "C = {300, 2, 3}\n",
        "D = {100, 200, 300}\n",
        "\n",
        "print(A.intersection(D))\n",
        "print(B.intersection(D))\n",
        "print(C.intersection(D))\n",
        "print(A.intersection(B, C, D))"
      ],
      "execution_count": null,
      "outputs": [
        {
          "output_type": "stream",
          "text": [
            "{100}\n",
            "{200}\n",
            "{300}\n",
            "set()\n"
          ],
          "name": "stdout"
        }
      ]
    },
    {
      "cell_type": "markdown",
      "metadata": {
        "id": "ndct3djF44qw"
      },
      "source": [
        "**Set Intersection Using & operator**"
      ]
    },
    {
      "cell_type": "code",
      "metadata": {
        "colab": {
          "base_uri": "https://localhost:8080/"
        },
        "id": "hqeO9zbj40s0",
        "outputId": "c317fb11-2bcd-420b-c135-397c091618cd"
      },
      "source": [
        "A = {100, 7, 8}\n",
        "B = {200, 4, 5}\n",
        "C = {300, 2, 3, 7}\n",
        "D = {100, 200, 300}\n",
        "\n",
        "print(A & C)\n",
        "print(A & D)\n",
        "\n",
        "\n",
        "print(A & C & D)\n",
        "print(A & B & C & D)"
      ],
      "execution_count": null,
      "outputs": [
        {
          "output_type": "stream",
          "text": [
            "{7}\n",
            "{100}\n",
            "set()\n",
            "set()\n"
          ],
          "name": "stdout"
        }
      ]
    },
    {
      "cell_type": "markdown",
      "metadata": {
        "id": "zXiEfwL-2mr9"
      },
      "source": [
        "# **intersection_update()**"
      ]
    },
    {
      "cell_type": "markdown",
      "metadata": {
        "id": "GdxzxjmV2Vgw"
      },
      "source": [
        "**Definition and Usage**\n",
        "\n",
        "The intersection_update() method removes the items that is not present in both sets (or in all sets if the comparison is done between more than two sets).\n",
        "\n",
        "The intersection_update() method is different from the intersection() method, because the intersection() method returns a new set, without the unwanted items, and the intersection_update() method removes the unwanted items from the original set.\n",
        "\n",
        "**Syntax:** set.intersection_update(set1, set2 ... etc)\n",
        "\n",
        "**Parameter Values**\n",
        "\n",
        "**set1\tRequired**. The set to search for equal items in\n",
        "\n",
        "**set2\tOptional**. The other set to search for equal items in.\n",
        "\n",
        "You can compare as many sets you like.\n",
        "\n",
        "Separate the sets with a comma"
      ]
    },
    {
      "cell_type": "code",
      "metadata": {
        "colab": {
          "base_uri": "https://localhost:8080/"
        },
        "id": "HCGumQg32wLH",
        "outputId": "bce44235-809b-4c36-cd72-bb6b5834320b"
      },
      "source": [
        "# Remove the items that is not present in both x and y:\n",
        "\n",
        "x = {\"apple\", \"banana\", \"cherry\"}\n",
        "y = {\"google\", \"microsoft\", \"apple\"}\n",
        "\n",
        "x.intersection_update(y)\n",
        "\n",
        "print(x)\n",
        "print(x.intersection_update(y))  # returns None since it modifies the original variable\n",
        "                                 # so you can print it only via original variable "
      ],
      "execution_count": null,
      "outputs": [
        {
          "output_type": "stream",
          "text": [
            "{'apple'}\n",
            "None\n"
          ],
          "name": "stdout"
        }
      ]
    },
    {
      "cell_type": "code",
      "metadata": {
        "colab": {
          "base_uri": "https://localhost:8080/"
        },
        "id": "oJjv3YAk3U3M",
        "outputId": "9524b9aa-67e2-4555-e9ba-00905e4105c5"
      },
      "source": [
        "# Compare 3 sets, and return a set with items that is present in all 3 sets:\n",
        "\n",
        "x = {\"a\", \"b\", \"c\"}\n",
        "y = {\"c\", \"d\", \"e\"}\n",
        "z = {\"f\", \"g\", \"c\"}\n",
        "\n",
        "x.intersection_update(y, z)\n",
        "\n",
        "print(x)"
      ],
      "execution_count": null,
      "outputs": [
        {
          "output_type": "stream",
          "text": [
            "{'c'}\n"
          ],
          "name": "stdout"
        }
      ]
    },
    {
      "cell_type": "code",
      "metadata": {
        "id": "H6Ok2XhS5jWV"
      },
      "source": [
        "A.intersection_update(*other_sets)"
      ],
      "execution_count": null,
      "outputs": []
    },
    {
      "cell_type": "markdown",
      "metadata": {
        "id": "NLHmhdQG2vGQ"
      },
      "source": [
        "The intersection_update() method allows an arbitrary number of arguments (sets).\n",
        "\n",
        "Note: * is not a part of the syntax. It is used to indicate that the method allows an arbitrary number of arguments."
      ]
    },
    {
      "cell_type": "markdown",
      "metadata": {
        "id": "OTCYI0X85qBs"
      },
      "source": [
        "This method returns None (meaning it does not have a return value). It only updates the set calling the intersection_update() method."
      ]
    },
    {
      "cell_type": "code",
      "metadata": {
        "colab": {
          "base_uri": "https://localhost:8080/"
        },
        "id": "ED3-XLAZ5kOr",
        "outputId": "30647716-0dfb-4490-9ce9-fefcb16bfd01"
      },
      "source": [
        "A = {1, 2, 3, 4}\n",
        "B = {2, 3, 4, 5, 6}\n",
        "C = {4, 5, 6, 9, 10}\n",
        "\n",
        "result = C.intersection_update(B, A)\n",
        "\n",
        "print(C.intersection_update(B, A))\n",
        "print('result =', result)  # returns None since it modifies the original variable\n",
        "                           # so you can print it only via original variable \n",
        "\n",
        "print('C =', C)\n",
        "print('B =', B)\n",
        "print('A =', A)"
      ],
      "execution_count": null,
      "outputs": [
        {
          "output_type": "stream",
          "text": [
            "None\n",
            "result = None\n",
            "C = {4}\n",
            "B = {2, 3, 4, 5, 6}\n",
            "A = {1, 2, 3, 4}\n"
          ],
          "name": "stdout"
        }
      ]
    },
    {
      "cell_type": "markdown",
      "metadata": {
        "id": "SP4OLJDZ6lqO"
      },
      "source": [
        "# **isdisjoint()**"
      ]
    },
    {
      "cell_type": "markdown",
      "metadata": {
        "id": "BO_UIjZ56c6r"
      },
      "source": [
        "**Definition and Usage**\n",
        "\n",
        "The isdisjoint() method returns True if none of the items are present in both sets, otherwise it returns False.\n",
        "\n",
        "**Syntax:** set.isdisjoint(set)\n",
        "\n",
        "**Parameter Values**\n",
        "\n",
        "**set\tRequired**. The set to search for equal items in"
      ]
    },
    {
      "cell_type": "markdown",
      "metadata": {
        "id": "na_COhND7S2W"
      },
      "source": [
        "![Capture18.PNG](data:image/png;base64,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)"
      ]
    },
    {
      "cell_type": "code",
      "metadata": {
        "colab": {
          "base_uri": "https://localhost:8080/"
        },
        "id": "4UClUful64Xl",
        "outputId": "d848e46e-79f8-42b7-be1e-724859de9539"
      },
      "source": [
        "# Return True if no items in set x is present in set y:\n",
        "\n",
        "x = {\"apple\", \"banana\", \"cherry\"}\n",
        "y = {\"google\", \"microsoft\", \"facebook\"}\n",
        "\n",
        "z = x.isdisjoint(y)\n",
        "\n",
        "print(z)"
      ],
      "execution_count": null,
      "outputs": [
        {
          "output_type": "stream",
          "text": [
            "True\n"
          ],
          "name": "stdout"
        }
      ]
    },
    {
      "cell_type": "code",
      "metadata": {
        "colab": {
          "base_uri": "https://localhost:8080/"
        },
        "id": "-LnTV72K7BQn",
        "outputId": "0d8f9274-34d6-4094-bc83-eb3b920f826a"
      },
      "source": [
        "# Return False if one ore more items are present in both sets:\n",
        "\n",
        "x = {\"apple\", \"banana\", \"cherry\"}\n",
        "y = {\"google\", \"microsoft\", \"apple\"}\n",
        "\n",
        "z = x.isdisjoint(y)\n",
        "\n",
        "print(z)"
      ],
      "execution_count": null,
      "outputs": [
        {
          "output_type": "stream",
          "text": [
            "False\n"
          ],
          "name": "stdout"
        }
      ]
    },
    {
      "cell_type": "markdown",
      "metadata": {
        "id": "myj65BjN7Z5p"
      },
      "source": [
        "isdisjoint() method takes a single argument (a set).\n",
        "\n",
        "You can also pass an iterable (list, tuple, dictionary, and string) to disjoint(). isdisjoint() method will automatically convert iterables to set and checks whether the sets are disjoint or not."
      ]
    },
    {
      "cell_type": "code",
      "metadata": {
        "colab": {
          "base_uri": "https://localhost:8080/"
        },
        "id": "bMXeq3y97axY",
        "outputId": "5300d76f-1948-4b52-fa2d-7a22f7cb03d2"
      },
      "source": [
        "A = {1, 2, 3, 4}\n",
        "B = {5, 6, 7}\n",
        "C = {4, 5, 6}\n",
        "\n",
        "print('Are A and B disjoint?', A.isdisjoint(B))\n",
        "print('Are A and C disjoint?', A.isdisjoint(C))"
      ],
      "execution_count": null,
      "outputs": [
        {
          "output_type": "stream",
          "text": [
            "Are A and B disjoint? True\n",
            "Are A and C disjoint? False\n"
          ],
          "name": "stdout"
        }
      ]
    },
    {
      "cell_type": "markdown",
      "metadata": {
        "id": "q1IqwIAD74C-"
      },
      "source": [
        "**isdisjoint() with Other Iterables as arguments**"
      ]
    },
    {
      "cell_type": "code",
      "metadata": {
        "colab": {
          "base_uri": "https://localhost:8080/"
        },
        "id": "_Z4qa_Vn72GA",
        "outputId": "d832e1c6-4bf0-4377-c3e8-005754cf123c"
      },
      "source": [
        "A = {'a', 'b', 'c', 'd'}\n",
        "B = ['b', 'e', 'f']\n",
        "C = '5de4'\n",
        "D ={1 : 'a', 2 : 'b'}\n",
        "E ={'a' : 1, 'b' : 2}\n",
        "\n",
        "print('Are A and B disjoint?', A.isdisjoint(B))\n",
        "print('Are A and C disjoint?', A.isdisjoint(C))\n",
        "print('Are A and D disjoint?', A.isdisjoint(D))\n",
        "print('Are A and E disjoint?', A.isdisjoint(E))"
      ],
      "execution_count": null,
      "outputs": [
        {
          "output_type": "stream",
          "text": [
            "Are A and B disjoint? False\n",
            "Are A and C disjoint? False\n",
            "Are A and D disjoint? True\n",
            "Are A and E disjoint? False\n"
          ],
          "name": "stdout"
        }
      ]
    },
    {
      "cell_type": "markdown",
      "metadata": {
        "id": "CxTXFP2B8ik9"
      },
      "source": [
        "# **issubset()**"
      ]
    },
    {
      "cell_type": "markdown",
      "metadata": {
        "id": "6Z0sfTVsP31a"
      },
      "source": [
        "**Definition and Usage**\n",
        "\n",
        "The issubset() method returns True if all items in the set exists in the specified set, otherwise it retuns False.\n",
        "\n",
        "**Syntax:** set.issubset(set)\n",
        "\n",
        "**Parameter Values**\n",
        "\n",
        "**set\tRequired**. The set to search for equal items in\n"
      ]
    },
    {
      "cell_type": "markdown",
      "metadata": {
        "id": "gD-SFPWR8oX9"
      },
      "source": [
        "![Capture19.PNG](data:image/png;base64,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)"
      ]
    },
    {
      "cell_type": "code",
      "metadata": {
        "colab": {
          "base_uri": "https://localhost:8080/"
        },
        "id": "tOhTKTSe8r1p",
        "outputId": "787a028e-4474-40e3-d93f-9e1dcc88de6a"
      },
      "source": [
        "# Return True if all items set x are present in set y:\n",
        "\n",
        "x = {\"a\", \"b\", \"c\"}\n",
        "y = {\"f\", \"e\", \"d\", \"c\", \"b\", \"a\"}\n",
        "\n",
        "z = x.issubset(y)\n",
        "\n",
        "print(z)\n",
        "print(x.issubset(y))"
      ],
      "execution_count": null,
      "outputs": [
        {
          "output_type": "stream",
          "text": [
            "True\n",
            "True\n"
          ],
          "name": "stdout"
        }
      ]
    },
    {
      "cell_type": "code",
      "metadata": {
        "colab": {
          "base_uri": "https://localhost:8080/"
        },
        "id": "e7-SJM-4QTTr",
        "outputId": "8b3bad42-aa51-49ec-badc-9e0b3631d797"
      },
      "source": [
        "# Return False if not all items in set x are present in set y:\n",
        "\n",
        "x = {\"a\", \"b\", \"c\"}\n",
        "y = {\"f\", \"e\", \"d\", \"c\", \"b\"}  # 'a' is NOT in y set\n",
        "\n",
        "z = x.issubset(y)\n",
        "\n",
        "print(z)\n",
        "print(x.issubset(y))"
      ],
      "execution_count": null,
      "outputs": [
        {
          "output_type": "stream",
          "text": [
            "False\n",
            "False\n"
          ],
          "name": "stdout"
        }
      ]
    },
    {
      "cell_type": "code",
      "metadata": {
        "colab": {
          "base_uri": "https://localhost:8080/"
        },
        "id": "NrZ06k4JQoVT",
        "outputId": "85a1e46c-d2ce-46ac-f2b7-f8e6b7e4bf29"
      },
      "source": [
        "A = {1, 2, 3}\n",
        "B = {1, 2, 3, 4, 5}\n",
        "C = {1, 2, 4, 5}\n",
        "\n",
        "# Returns True\n",
        "print(A.issubset(B))\n",
        "\n",
        "# Returns False\n",
        "# B is not subset of A\n",
        "print(B.issubset(A))\n",
        "\n",
        "# Returns False\n",
        "print(A.issubset(C))\n",
        "\n",
        "# Returns True\n",
        "print(C.issubset(B))"
      ],
      "execution_count": null,
      "outputs": [
        {
          "output_type": "stream",
          "text": [
            "True\n",
            "False\n",
            "False\n",
            "True\n"
          ],
          "name": "stdout"
        }
      ]
    },
    {
      "cell_type": "markdown",
      "metadata": {
        "id": "gtpSwkjfQzBj"
      },
      "source": [
        "If you need to check if a set is a superset of another set, you can use issuperset() in Python. [link text](https://www.programiz.com/python-programming/methods/set/issuperset)"
      ]
    },
    {
      "cell_type": "markdown",
      "metadata": {
        "id": "60p8YyIsRF8K"
      },
      "source": [
        "# **issuperset()**"
      ]
    },
    {
      "cell_type": "markdown",
      "metadata": {
        "id": "YNdWkNZ-Q5bZ"
      },
      "source": [
        "**Definition and Usage**\n",
        "\n",
        "The issuperset() method returns True if all items in the specified set exists in the original set, otherwise it retuns False.\n",
        "\n",
        "**Syntax:** set.issuperset(set)\n",
        "\n",
        "**Parameter Values**\n",
        "\n",
        "**set\tRequired**. The set to search for equal items in"
      ]
    },
    {
      "cell_type": "markdown",
      "metadata": {
        "id": "pVAFDZTIR8UF"
      },
      "source": [
        "![Capture20.PNG](data:image/png;base64,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)"
      ]
    },
    {
      "cell_type": "markdown",
      "metadata": {
        "id": "Wq-7TsNYSGxK"
      },
      "source": [
        "Here, set B is a superset of set A and A is a subset of set B."
      ]
    },
    {
      "cell_type": "markdown",
      "metadata": {
        "id": "0peO2afCSSH5"
      },
      "source": [
        "issuperset() returns\n",
        "\n",
        "True if A is a superset of B\n",
        "\n",
        "False if A is not a superset of B"
      ]
    },
    {
      "cell_type": "code",
      "metadata": {
        "colab": {
          "base_uri": "https://localhost:8080/"
        },
        "id": "QHMyZRSnRPj7",
        "outputId": "ca4e9144-15c3-4395-80e8-3cb7b546f24b"
      },
      "source": [
        "# Return True if all items set y are present in set x:\n",
        "\n",
        "x = {\"f\", \"e\", \"d\", \"c\", \"b\", \"a\"}\n",
        "y = {\"a\", \"b\", \"c\"}\n",
        "\n",
        "z = x.issuperset(y)\n",
        "\n",
        "print(z)\n",
        "print(x.issuperset(y))"
      ],
      "execution_count": null,
      "outputs": [
        {
          "output_type": "stream",
          "text": [
            "True\n",
            "True\n"
          ],
          "name": "stdout"
        }
      ]
    },
    {
      "cell_type": "code",
      "metadata": {
        "colab": {
          "base_uri": "https://localhost:8080/"
        },
        "id": "dpyEwrwtRc20",
        "outputId": "ac9a0a3e-c9a9-465a-a99c-f30351858ce3"
      },
      "source": [
        "# Return False if not all items in set y are present in set x:\n",
        "\n",
        "x = {\"f\", \"e\", \"d\", \"c\", \"b\"}  # 'a' is NOT in x set\n",
        "y = {\"a\", \"b\", \"c\"}\n",
        "\n",
        "z = x.issuperset(y)\n",
        "\n",
        "print(z)\n",
        "print(x.issuperset(y))"
      ],
      "execution_count": null,
      "outputs": [
        {
          "output_type": "stream",
          "text": [
            "False\n",
            "False\n"
          ],
          "name": "stdout"
        }
      ]
    },
    {
      "cell_type": "code",
      "metadata": {
        "id": "0JDioFaKSLJI"
      },
      "source": [
        "A = {1, 2, 3, 4, 5}\n",
        "B = {1, 2, 3}\n",
        "C = {1, 2, 3}\n",
        "\n",
        "# Returns True\n",
        "print(A.issuperset(B))\n",
        "\n",
        "# Returns False\n",
        "print(B.issuperset(A))  # B is subset of A\n",
        "\n",
        "# Returns True\n",
        "print(C.issuperset(B))"
      ],
      "execution_count": null,
      "outputs": []
    },
    {
      "cell_type": "markdown",
      "metadata": {
        "id": "eOYng-MvSvJT"
      },
      "source": [
        "If you need to check if a set is a superset of another set, you can use issuperset() in Python. [link text](https://www.programiz.com/python-programming/methods/set/issuperset)"
      ]
    },
    {
      "cell_type": "markdown",
      "metadata": {
        "id": "ON-tJTJBTFQz"
      },
      "source": [
        "# **pop()**"
      ]
    },
    {
      "cell_type": "markdown",
      "metadata": {
        "id": "3aE8qDJAS13Q"
      },
      "source": [
        "**Definition and Usage**\n",
        "\n",
        "The pop() method removes a random item from the set.\n",
        "\n",
        "This method returns the removed item.\n",
        "\n",
        "**Syntax:** set.pop()\n",
        "\n",
        "**Parameter Values**\n",
        "\n",
        "No parameter values."
      ]
    },
    {
      "cell_type": "markdown",
      "metadata": {
        "id": "ai5Xrb7BTy-1"
      },
      "source": [
        "The pop() method returns an arbitrary (random) element from the set. Also, the set is updated and will not contain the element (which is returned).\n",
        "\n",
        "If the set is empty, TypeError exception is raised."
      ]
    },
    {
      "cell_type": "code",
      "metadata": {
        "colab": {
          "base_uri": "https://localhost:8080/"
        },
        "id": "hR47lsFTTIjX",
        "outputId": "c674de05-8f36-4097-ed28-b52810d23b9d"
      },
      "source": [
        "# Remove a random item from the set:\n",
        "\n",
        "fruits = {\"apple\", \"banana\", \"cherry\"}\n",
        "\n",
        "fruits.pop()\n",
        "\n",
        "print(fruits)\n",
        "print(fruits.pop())  # returns the removed element"
      ],
      "execution_count": null,
      "outputs": [
        {
          "output_type": "stream",
          "text": [
            "{'banana', 'cherry'}\n",
            "banana\n"
          ],
          "name": "stdout"
        }
      ]
    },
    {
      "cell_type": "code",
      "metadata": {
        "colab": {
          "base_uri": "https://localhost:8080/"
        },
        "id": "okQO3J4XTeWg",
        "outputId": "bf6a1b83-d50e-4740-f923-69d57cf98837"
      },
      "source": [
        "# Return the removed element:\n",
        "\n",
        "fruits = {\"apple\", \"banana\", \"cherry\"}\n",
        "\n",
        "x = fruits.pop()\n",
        "\n",
        "print(x)"
      ],
      "execution_count": null,
      "outputs": [
        {
          "output_type": "stream",
          "text": [
            "apple\n"
          ],
          "name": "stdout"
        }
      ]
    },
    {
      "cell_type": "code",
      "metadata": {
        "colab": {
          "base_uri": "https://localhost:8080/"
        },
        "id": "GHdPNOA-T6x6",
        "outputId": "d7d5497b-39c6-4454-d4ea-5d3f80769072"
      },
      "source": [
        "A ={'a', 'b', 'c', 'd'}\n",
        "\n",
        "print('Return Value is', A.pop())\n",
        "print('A = ', A)"
      ],
      "execution_count": null,
      "outputs": [
        {
          "output_type": "stream",
          "text": [
            "Return Value is d\n",
            "A =  {'b', 'c', 'a'}\n"
          ],
          "name": "stdout"
        }
      ]
    },
    {
      "cell_type": "markdown",
      "metadata": {
        "id": "Br1Z54PyUDQ1"
      },
      "source": [
        "**Note:** You may get different output as pop() returns and removes a random element."
      ]
    },
    {
      "cell_type": "markdown",
      "metadata": {
        "id": "83Iyp2WUUWLZ"
      },
      "source": [
        "# **remove()**"
      ]
    },
    {
      "cell_type": "markdown",
      "metadata": {
        "id": "66glhxsAUNMK"
      },
      "source": [
        "**Definition and Usage**\n",
        "\n",
        "The remove() method removes the specified element from the set.\n",
        "\n",
        "This method is different from the discard() method, because the remove() method will raise an error if the specified item does not exist, and the discard() method will not.\n",
        "\n",
        "**Syntax:** set.remove(item)\n",
        "\n",
        "**Parameter Values**\n",
        "\n",
        "**item\tRequired**. The item to search for, and remove"
      ]
    },
    {
      "cell_type": "markdown",
      "metadata": {
        "id": "bnzhSBMaVxx5"
      },
      "source": [
        "The remove() removes the specified element from the set and updates (modifies) the set. It doesn't return any value (or returns None).\n",
        "\n",
        "If the element passed to remove() doesn't exist, KeyError exception is thrown."
      ]
    },
    {
      "cell_type": "code",
      "metadata": {
        "id": "nYGNnyMbUceb"
      },
      "source": [
        "# Remove \"banana\" from the set:\n",
        "\n",
        "fruits = {\"apple\", \"banana\", \"cherry\"}\n",
        "\n",
        "fruits.remove(\"banana\")\n",
        "\n",
        "print(fruits)\n",
        "print(fruits.remove(\"apple\"))  # returns None\n",
        "# print(fruits.remove(\"apple\"))  # KeyError: 'apple'"
      ],
      "execution_count": null,
      "outputs": []
    },
    {
      "cell_type": "code",
      "metadata": {
        "colab": {
          "base_uri": "https://localhost:8080/"
        },
        "id": "5YE10apXWAlo",
        "outputId": "d2a163bf-29e4-4f35-8551-e047be7563bb"
      },
      "source": [
        "# language set\n",
        "language = {'English', 'French', 'German'}\n",
        "\n",
        "# removing 'German' from language\n",
        "language.remove('German')\n",
        "\n",
        "# Updated language set\n",
        "print('Updated language set:', language)"
      ],
      "execution_count": null,
      "outputs": [
        {
          "output_type": "stream",
          "text": [
            "Updated language set: {'French', 'English'}\n"
          ],
          "name": "stdout"
        }
      ]
    },
    {
      "cell_type": "markdown",
      "metadata": {
        "id": "SnPQ81W3WJ6f"
      },
      "source": [
        "**Deleting Element That Doesn't Exist**"
      ]
    },
    {
      "cell_type": "code",
      "metadata": {
        "id": "spwtfyzEWIP1"
      },
      "source": [
        "# animal set\n",
        "animal = {'cat', 'dog', 'rabbit', 'guinea pig'}\n",
        "\n",
        "# Deleting 'fish' element\n",
        "animal.remove('fish')\n",
        "\n",
        "# Updated animal\n",
        "print('Updated animal set:', animal)  # KeyError: 'fish'"
      ],
      "execution_count": null,
      "outputs": []
    },
    {
      "cell_type": "markdown",
      "metadata": {
        "id": "KVAJwIunWaLn"
      },
      "source": [
        "You can use the set discard() method if you do not want this error.\n",
        "\n",
        "The discard() method removes the specified element from the set. However, if the element doesn't exist, the set remains unchanged; you will not get an error. [link text](https://www.programiz.com/python-programming/methods/set/discard)"
      ]
    },
    {
      "cell_type": "markdown",
      "metadata": {
        "id": "W0ekQlm-WytC"
      },
      "source": [
        "# **symmetric_difference()**"
      ]
    },
    {
      "cell_type": "markdown",
      "metadata": {
        "id": "8ZmWr1QBWj7S"
      },
      "source": [
        "**Definition and Usage**\n",
        "\n",
        "The symmetric_difference() method returns a set that contains all items from both set, but not the items that are present in both sets.\n",
        "\n",
        "**Meaning:** The returned set contains a mix of items that are not present in both sets.\n",
        "\n",
        "**Syntax:** set.symmetric_difference(set)\n",
        "\n",
        "**Parameter Values**\n",
        "\n",
        "**set\tRequired**. The set to check for matches in"
      ]
    },
    {
      "cell_type": "markdown",
      "metadata": {
        "id": "7hkabVkzXeBJ"
      },
      "source": [
        "![Capture21.PNG](data:image/png;base64,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)"
      ]
    },
    {
      "cell_type": "code",
      "metadata": {
        "colab": {
          "base_uri": "https://localhost:8080/"
        },
        "id": "hUV6lvq2XBEu",
        "outputId": "e66bb21c-24ad-4029-b0b4-21de5aaefeaa"
      },
      "source": [
        "# Return a set that contains all items from both sets, except items that are present in both sets:\n",
        "\n",
        "x = {\"apple\", \"banana\", \"cherry\"}\n",
        "y = {\"google\", \"microsoft\", \"apple\"}\n",
        "\n",
        "z = x.symmetric_difference(y)\n",
        "\n",
        "print(z)\n",
        "print(x.symmetric_difference(y))"
      ],
      "execution_count": null,
      "outputs": [
        {
          "output_type": "stream",
          "text": [
            "{'google', 'cherry', 'microsoft', 'banana'}\n",
            "{'google', 'cherry', 'microsoft', 'banana'}\n"
          ],
          "name": "stdout"
        }
      ]
    },
    {
      "cell_type": "code",
      "metadata": {
        "colab": {
          "base_uri": "https://localhost:8080/"
        },
        "id": "dOAH9k58XnAH",
        "outputId": "4baaaa43-084c-4b7f-f2c1-d03ec4d31e91"
      },
      "source": [
        "A = {'a', 'b', 'c', 'd'}\n",
        "B = {'c', 'd', 'e' }\n",
        "C = {}\n",
        "\n",
        "print(A.symmetric_difference(B))\n",
        "print(B.symmetric_difference(A))\n",
        "\n",
        "print(A.symmetric_difference(C))\n",
        "print(B.symmetric_difference(C))"
      ],
      "execution_count": null,
      "outputs": [
        {
          "output_type": "stream",
          "text": [
            "{'b', 'e', 'a'}\n",
            "{'b', 'e', 'a'}\n",
            "{'d', 'b', 'a', 'c'}\n",
            "{'d', 'e', 'c'}\n"
          ],
          "name": "stdout"
        }
      ]
    },
    {
      "cell_type": "markdown",
      "metadata": {
        "id": "L6kFJ10GX1zW"
      },
      "source": [
        "In Python, we can also find the symmetric difference using the ^ operator.\n"
      ]
    },
    {
      "cell_type": "code",
      "metadata": {
        "colab": {
          "base_uri": "https://localhost:8080/"
        },
        "id": "HHApLi4hXzXV",
        "outputId": "66181d70-7932-4396-8ae8-d7cb3d787bde"
      },
      "source": [
        "A = {'a', 'b', 'c', 'd'}\n",
        "B = {'c', 'd', 'e' }\n",
        "\n",
        "print(A ^ B)\n",
        "print(B ^ A)\n",
        "\n",
        "print(A ^ A)\n",
        "print(B ^ B)"
      ],
      "execution_count": null,
      "outputs": [
        {
          "output_type": "stream",
          "text": [
            "{'b', 'e', 'a'}\n",
            "{'b', 'e', 'a'}\n",
            "set()\n",
            "set()\n"
          ],
          "name": "stdout"
        }
      ]
    },
    {
      "cell_type": "markdown",
      "metadata": {
        "id": "D9b1ZBTZYjbj"
      },
      "source": [
        "**naive method to find symmetric difference**"
      ]
    },
    {
      "cell_type": "code",
      "metadata": {
        "colab": {
          "base_uri": "https://localhost:8080/"
        },
        "id": "mtObtj3QYhTp",
        "outputId": "6684ada4-73db-431d-cd8d-7a6b93bed262"
      },
      "source": [
        "a = set([1, 2, 3])\n",
        "b = set([2, 3, 4])\n",
        "c = set()\n",
        "\n",
        "for element in a:\n",
        "    if element not in b:\n",
        "        c.add(element)\n",
        "\n",
        "for element in b:\n",
        "    if element not in a:\n",
        "        c.add(element)\n",
        "\n",
        "print(c)"
      ],
      "execution_count": null,
      "outputs": [
        {
          "output_type": "stream",
          "text": [
            "{1, 4}\n"
          ],
          "name": "stdout"
        }
      ]
    },
    {
      "cell_type": "code",
      "metadata": {
        "colab": {
          "base_uri": "https://localhost:8080/"
        },
        "id": "QD-H037UY0Bg",
        "outputId": "39c512b2-9f11-4812-acf9-0d722bf91b1a"
      },
      "source": [
        "a = set([1, 2, 3])\n",
        "b = set([2, 3, 4])\n",
        "c = a.symmetric_difference(b)\n",
        "print(c)"
      ],
      "execution_count": null,
      "outputs": [
        {
          "output_type": "stream",
          "text": [
            "{1, 4}\n"
          ],
          "name": "stdout"
        }
      ]
    },
    {
      "cell_type": "markdown",
      "metadata": {
        "id": "gkH0xl2XY_og"
      },
      "source": [
        "**What is the difference between difference() and symmetric_difference() methods in python sets?**\n",
        "\n",
        "[link text](https://stackoverflow.com/questions/50871370/python-sets-difference-vs-symmetric-difference)"
      ]
    },
    {
      "cell_type": "code",
      "metadata": {
        "colab": {
          "base_uri": "https://localhost:8080/"
        },
        "id": "2ixCkHDnZ4wO",
        "outputId": "de595881-83af-44f8-b114-bf4c9e9fa1f4"
      },
      "source": [
        "# Regarding difference(), everything is in a that's not in b.\n",
        "\n",
        "a = {1,2,3}\n",
        "b = {1,4,5}\n",
        " \n",
        "print(a.difference(b))  # a - b\n",
        "# gives {2, 3}\n",
        "\n",
        "print(b.difference(a))  # b - a\n",
        "# gives {4, 5}"
      ],
      "execution_count": null,
      "outputs": [
        {
          "output_type": "stream",
          "text": [
            "{2, 3}\n",
            "{4, 5}\n"
          ],
          "name": "stdout"
        }
      ]
    },
    {
      "cell_type": "code",
      "metadata": {
        "colab": {
          "base_uri": "https://localhost:8080/"
        },
        "id": "mII01XKbaKid",
        "outputId": "61f3ddc4-2f27-433d-a326-996e19b05c19"
      },
      "source": [
        "# a.symmetric_difference(b) are all the elements that are in exactly \n",
        "# one set, i.e. the union of a - b and b - a.\n",
        "\n",
        "print(a.symmetric_difference(b))\n",
        "# gives {2, 3, 4, 5}\n",
        "\n",
        "print((a - b).union(b - a))\n",
        "# gives {2, 3, 4, 5}"
      ],
      "execution_count": null,
      "outputs": [
        {
          "output_type": "stream",
          "text": [
            "{2, 3, 4, 5}\n",
            "{2, 3, 4, 5}\n"
          ],
          "name": "stdout"
        }
      ]
    },
    {
      "cell_type": "markdown",
      "metadata": {
        "id": "I6zS_cWYbrix"
      },
      "source": [
        "# **union()**"
      ]
    },
    {
      "cell_type": "markdown",
      "metadata": {
        "id": "rQV08CY9ZOJL"
      },
      "source": [
        "**Definition and Usage**\n",
        "\n",
        "The union() method returns a set that contains all items from the original set, and all items from the specified set(s).\n",
        "\n",
        "You can specify as many sets you want, separated by commas.\n",
        "\n",
        "It does not have to be a set, it can be any iterable object.\n",
        "\n",
        "If an item is present in more than one set, the result will contain only one appearance of this item.\n",
        "\n",
        "**Syntax:** set.union(set1, set2...)\n",
        "\n",
        "**Parameter Values**\n",
        "\n",
        "**set1\tRequired**. The iterable to unify with\n",
        "\n",
        "**set2\tOptional**. The other iterable to unify with.\n",
        "\n",
        "You can compare as many iterables as you like.\n",
        "\n",
        "Separate each iterable with a comma"
      ]
    },
    {
      "cell_type": "markdown",
      "metadata": {
        "id": "IcetzdaWcZdg"
      },
      "source": [
        "![Capture22.PNG](data:image/png;base64,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)"
      ]
    },
    {
      "cell_type": "code",
      "metadata": {
        "id": "nyrrU9k6dC_0"
      },
      "source": [
        "A.union(*other_sets)"
      ],
      "execution_count": null,
      "outputs": []
    },
    {
      "cell_type": "markdown",
      "metadata": {
        "id": "m_Ua02kJc_a8"
      },
      "source": [
        "**Note:** * is not part of the syntax. It is used to indicate that the method can take 0 or more arguments."
      ]
    },
    {
      "cell_type": "markdown",
      "metadata": {
        "id": "DiIRZTvIcmlV"
      },
      "source": [
        "The union of two or more sets is the set of all distinct elements present in all the sets."
      ]
    },
    {
      "cell_type": "markdown",
      "metadata": {
        "id": "AyoSDwdMc0-L"
      },
      "source": [
        "A = {1, 2}\n",
        "\n",
        "B = {2, 3, 4}\n",
        "\n",
        "C = {5}\n",
        "\n",
        "Then,\n",
        "\n",
        "A∪B = B∪A = {1, 2, 3, 4}\n",
        "\n",
        "A∪C = C∪A = {1, 2, 5}\n",
        "\n",
        "B∪C = C∪B = {2, 3, 4, 5}\n",
        "\n",
        "A∪B∪C = {1, 2, 3, 4, 5}"
      ]
    },
    {
      "cell_type": "code",
      "metadata": {
        "colab": {
          "base_uri": "https://localhost:8080/"
        },
        "id": "dAvZck0Xbxn0",
        "outputId": "8e2fbd0d-7862-48fb-a1a6-b14e7c1ad07b"
      },
      "source": [
        "# Return a set that contains all items from both sets, duplicates are excluded:\n",
        "\n",
        "x = {\"apple\", \"banana\", \"cherry\"}\n",
        "y = {\"google\", \"microsoft\", \"apple\"}\n",
        "\n",
        "z = x.union(y)\n",
        "\n",
        "print(z)\n",
        "print(x.union(y))"
      ],
      "execution_count": null,
      "outputs": [
        {
          "output_type": "stream",
          "text": [
            "{'apple', 'google', 'cherry', 'microsoft', 'banana'}\n",
            "{'apple', 'google', 'cherry', 'microsoft', 'banana'}\n"
          ],
          "name": "stdout"
        }
      ]
    },
    {
      "cell_type": "code",
      "metadata": {
        "colab": {
          "base_uri": "https://localhost:8080/"
        },
        "id": "dLvAsoJcb8do",
        "outputId": "137fc0b5-6082-44be-89fa-e2739702618d"
      },
      "source": [
        "# Unify more than 2 sets:\n",
        "\n",
        "x = {\"a\", \"b\", \"c\"}\n",
        "y = {\"f\", \"d\", \"a\"}\n",
        "z = {\"c\", \"d\", \"e\"}\n",
        "\n",
        "result = x.union(y, z)\n",
        "\n",
        "print(result)"
      ],
      "execution_count": null,
      "outputs": [
        {
          "output_type": "stream",
          "text": [
            "{'d', 'b', 'f', 'e', 'a', 'c'}\n"
          ],
          "name": "stdout"
        }
      ]
    },
    {
      "cell_type": "markdown",
      "metadata": {
        "id": "Gzk4nn3LdLE5"
      },
      "source": [
        "The union() method returns a new set with elements from the set and all other sets (passed as an argument).\n",
        "\n",
        "If the argument is not passed to union(), it returns a shallow copy of the set."
      ]
    },
    {
      "cell_type": "code",
      "metadata": {
        "colab": {
          "base_uri": "https://localhost:8080/"
        },
        "id": "gzwnYdg1cjPR",
        "outputId": "e042da01-8e53-4fa2-8ca0-49d5cf3c9eb7"
      },
      "source": [
        "A = {'a', 'c', 'd'}\n",
        "B = {'c', 'd', 2 }\n",
        "C = {1, 2, 3}\n",
        "\n",
        "print('A U B =', A.union(B))\n",
        "print('B U C =', B.union(C))\n",
        "print('A U B U C =', A.union(B, C))\n",
        "print('A.union() =', A.union())"
      ],
      "execution_count": null,
      "outputs": [
        {
          "output_type": "stream",
          "text": [
            "A U B = {'d', 2, 'a', 'c'}\n",
            "B U C = {'d', 1, 2, 3, 'c'}\n",
            "A U B U C = {'d', 1, 2, 3, 'a', 'c'}\n",
            "A.union() = {'d', 'c', 'a'}\n"
          ],
          "name": "stdout"
        }
      ]
    },
    {
      "cell_type": "markdown",
      "metadata": {
        "id": "kRv6efpNdnPm"
      },
      "source": [
        "**Set Union Using the | Operator**"
      ]
    },
    {
      "cell_type": "code",
      "metadata": {
        "colab": {
          "base_uri": "https://localhost:8080/"
        },
        "id": "3vakR6g6dkpV",
        "outputId": "dd340135-c088-4583-f86e-15967617a712"
      },
      "source": [
        "A = {'a', 'c', 'd'}\n",
        "B = {'c', 'd', 2 }\n",
        "C = {1, 2, 3}\n",
        "\n",
        "print('A U B =', A| B)\n",
        "print('B U C =', B | C)\n",
        "print('A U B U C =', A | B | C)"
      ],
      "execution_count": null,
      "outputs": [
        {
          "output_type": "stream",
          "text": [
            "A U B = {'d', 2, 'a', 'c'}\n",
            "B U C = {'d', 1, 2, 3, 'c'}\n",
            "A U B U C = {'d', 1, 2, 3, 'a', 'c'}\n"
          ],
          "name": "stdout"
        }
      ]
    },
    {
      "cell_type": "markdown",
      "metadata": {
        "id": "q-V7U8HxeH9E"
      },
      "source": [
        "# **update()**"
      ]
    },
    {
      "cell_type": "markdown",
      "metadata": {
        "id": "nIUCkkkid6oZ"
      },
      "source": [
        "**Definition and Usage**\n",
        "\n",
        "The update() method updates the current set, by adding items from another set (or any other iterable).\n",
        "\n",
        "If an item is present in both sets, only one appearance of this item will be present in the updated set.\n",
        "\n",
        "**Syntax:** set.update(set)\n",
        "\n",
        "**Parameter Values**\n",
        "\n",
        "**set\tRequired**. The iterable insert into the current set"
      ]
    },
    {
      "cell_type": "markdown",
      "metadata": {
        "id": "grZCSy53fKTF"
      },
      "source": [
        "Here, x is a set, and y is an iterable which can be any iterable such as list, set, dictionary, string, etc. The elements of the iterable (y) are added to the set x."
      ]
    },
    {
      "cell_type": "code",
      "metadata": {
        "colab": {
          "base_uri": "https://localhost:8080/"
        },
        "id": "6v7IPRSTe5iI",
        "outputId": "5bb524df-da36-456e-9040-0fa82dba9e83"
      },
      "source": [
        "# Insert the items from set y into set x:\n",
        "\n",
        "x = {\"apple\", \"banana\", \"cherry\"}\n",
        "y = {\"google\", \"microsoft\", \"apple\"}\n",
        "\n",
        "x.update(y)\n",
        "\n",
        "print(x)"
      ],
      "execution_count": null,
      "outputs": [
        {
          "output_type": "stream",
          "text": [
            "{'apple', 'google', 'cherry', 'microsoft', 'banana'}\n"
          ],
          "name": "stdout"
        }
      ]
    },
    {
      "cell_type": "markdown",
      "metadata": {
        "id": "DikvaHeXgAGJ"
      },
      "source": [
        "This set update() method returns None (returns nothing)."
      ]
    },
    {
      "cell_type": "code",
      "metadata": {
        "colab": {
          "base_uri": "https://localhost:8080/"
        },
        "id": "05DlctGBf4e3",
        "outputId": "a2f0387e-a1a0-4c17-f9d1-86a6ea7a7c17"
      },
      "source": [
        "A = {'a', 'b'}\n",
        "B = {1, 2, 3}\n",
        "\n",
        "result = A.update(B)\n",
        "\n",
        "print('A =', A)\n",
        "\n",
        "print('result =', result)  # returns None\n",
        "print(A.update(B))  # returns None"
      ],
      "execution_count": null,
      "outputs": [
        {
          "output_type": "stream",
          "text": [
            "A = {'b', 1, 2, 3, 'a'}\n",
            "result = None\n",
            "None\n"
          ],
          "name": "stdout"
        }
      ]
    },
    {
      "cell_type": "markdown",
      "metadata": {
        "id": "AJ2TAxlqgecE"
      },
      "source": [
        "**Add elements of string and dictionary to Set**"
      ]
    },
    {
      "cell_type": "code",
      "metadata": {
        "colab": {
          "base_uri": "https://localhost:8080/"
        },
        "id": "-DPeo4u3gczs",
        "outputId": "ebb0c56b-b581-4c08-aac2-69d832d6cf7f"
      },
      "source": [
        "string_alphabet = 'abc'\n",
        "numbers_set = {1, 2}\n",
        "\n",
        "# add elements of the string to the set\n",
        "numbers_set.update(string_alphabet)\n",
        "\n",
        "print('numbers_set =', numbers_set)\n",
        "\n",
        "info_dictionary = {'key': 1, 'lock' : 2}\n",
        "numbers_set = {'a', 'b'}\n",
        "\n",
        "# add keys of dictionary to the set\n",
        "numbers_set.update(info_dictionary)\n",
        "print('numbers_set =', numbers_set)"
      ],
      "execution_count": null,
      "outputs": [
        {
          "output_type": "stream",
          "text": [
            "numbers_set = {'b', 1, 2, 'a', 'c'}\n",
            "numbers_set = {'b', 'lock', 'key', 'a'}\n"
          ],
          "name": "stdout"
        }
      ]
    },
    {
      "cell_type": "markdown",
      "metadata": {
        "id": "__cnXSDPgyOt"
      },
      "source": [
        "**Note:** If dictionaries are passed to the update() method, the keys of the dictionaries are added to the set."
      ]
    }
  ]
}